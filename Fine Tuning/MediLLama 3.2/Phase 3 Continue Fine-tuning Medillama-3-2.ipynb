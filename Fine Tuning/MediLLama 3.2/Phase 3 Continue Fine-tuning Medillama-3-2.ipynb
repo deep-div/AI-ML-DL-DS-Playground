{
 "cells": [
  {
   "cell_type": "markdown",
   "metadata": {},
   "source": [
    "# Continue Fine Tuning MediLlama-3.2"
   ]
  },
  {
   "cell_type": "code",
   "execution_count": 2,
   "metadata": {
    "execution": {
     "iopub.execute_input": "2025-05-25T04:20:33.842373Z",
     "iopub.status.busy": "2025-05-25T04:20:33.842020Z",
     "iopub.status.idle": "2025-05-25T04:20:39.920756Z",
     "shell.execute_reply": "2025-05-25T04:20:39.919610Z",
     "shell.execute_reply.started": "2025-05-25T04:20:33.842341Z"
    },
    "trusted": true
   },
   "outputs": [],
   "source": [
    "%%capture\n",
    "%pip install --no-deps bitsandbytes accelerate xformers==0.0.29.post3 peft trl==0.15.2 triton cut_cross_entropy unsloth_zoo\n",
    "%pip install sentencepiece protobuf datasets huggingface_hub hf_transfer\n",
    "%pip install --no-deps unsloth"
   ]
  },
  {
   "cell_type": "code",
   "execution_count": 3,
   "metadata": {
    "execution": {
     "iopub.execute_input": "2025-05-25T04:20:43.502078Z",
     "iopub.status.busy": "2025-05-25T04:20:43.501797Z",
     "iopub.status.idle": "2025-05-25T04:20:43.506526Z",
     "shell.execute_reply": "2025-05-25T04:20:43.505750Z",
     "shell.execute_reply.started": "2025-05-25T04:20:43.502050Z"
    },
    "trusted": true
   },
   "outputs": [],
   "source": [
    "# import wandb\n",
    "# from kaggle_secrets import UserSecretsClient\n",
    "# user_secrets = UserSecretsClient()\n",
    "# wb_token = user_secrets.get_secret(\"wandb\")\n",
    "\n",
    "# wandb.login(key=wb_token)\n",
    "# run = wandb.init(\n",
    "#     project='Clinical-Llama-3.2-3B', \n",
    "#     job_type=\"training\", \n",
    "#     anonymous=\"allow\"\n",
    "# )"
   ]
  },
  {
   "cell_type": "code",
   "execution_count": 4,
   "metadata": {
    "execution": {
     "iopub.execute_input": "2025-05-25T04:20:53.442131Z",
     "iopub.status.busy": "2025-05-25T04:20:53.441855Z",
     "iopub.status.idle": "2025-05-25T04:20:54.231621Z",
     "shell.execute_reply": "2025-05-25T04:20:54.230916Z",
     "shell.execute_reply.started": "2025-05-25T04:20:53.442109Z"
    },
    "trusted": true
   },
   "outputs": [],
   "source": [
    "from huggingface_hub import login\n",
    "from kaggle_secrets import UserSecretsClient\n",
    "user_secrets = UserSecretsClient()\n",
    "\n",
    "hf_token = user_secrets.get_secret(\"HUGGINGFACE_TOKEN\")\n",
    "login(hf_token)"
   ]
  },
  {
   "cell_type": "markdown",
   "metadata": {},
   "source": [
    "## Load Lora Adaptors from Hub (Guide in Phase 2)"
   ]
  },
  {
   "cell_type": "code",
   "execution_count": 5,
   "metadata": {
    "execution": {
     "iopub.execute_input": "2025-05-25T04:20:56.695580Z",
     "iopub.status.busy": "2025-05-25T04:20:56.695071Z",
     "iopub.status.idle": "2025-05-25T04:20:59.023172Z",
     "shell.execute_reply": "2025-05-25T04:20:59.022479Z",
     "shell.execute_reply.started": "2025-05-25T04:20:56.695557Z"
    },
    "trusted": true
   },
   "outputs": [
    {
     "name": "stdout",
     "output_type": "stream",
     "text": [
      "Cloning into 'MediLlama-3.2-LoraAdaptors'...\n",
      "remote: Enumerating objects: 23, done.\u001b[K\n",
      "remote: Counting objects: 100% (17/17), done.\u001b[K\n",
      "remote: Compressing objects: 100% (17/17), done.\u001b[K\n",
      "remote: Total 23 (delta 4), reused 0 (delta 0), pack-reused 6 (from 1)\u001b[K\n",
      "Unpacking objects: 100% (23/23), 10.60 KiB | 1.51 MiB/s, done.\n"
     ]
    }
   ],
   "source": [
    "!git clone https://huggingface.co/InferenceLab/MediLlama-3.2-LoraAdaptors"
   ]
  },
  {
   "cell_type": "code",
   "execution_count": 6,
   "metadata": {
    "execution": {
     "iopub.execute_input": "2025-05-25T04:21:01.726069Z",
     "iopub.status.busy": "2025-05-25T04:21:01.725777Z",
     "iopub.status.idle": "2025-05-25T04:21:40.862080Z",
     "shell.execute_reply": "2025-05-25T04:21:40.861349Z",
     "shell.execute_reply.started": "2025-05-25T04:21:01.726040Z"
    },
    "trusted": true
   },
   "outputs": [
    {
     "name": "stdout",
     "output_type": "stream",
     "text": [
      "🦥 Unsloth: Will patch your computer to enable 2x faster free finetuning.\n"
     ]
    },
    {
     "name": "stderr",
     "output_type": "stream",
     "text": [
      "2025-05-25 04:21:16.592999: E external/local_xla/xla/stream_executor/cuda/cuda_fft.cc:477] Unable to register cuFFT factory: Attempting to register factory for plugin cuFFT when one has already been registered\n",
      "WARNING: All log messages before absl::InitializeLog() is called are written to STDERR\n",
      "E0000 00:00:1748146876.819317      35 cuda_dnn.cc:8310] Unable to register cuDNN factory: Attempting to register factory for plugin cuDNN when one has already been registered\n",
      "E0000 00:00:1748146876.882627      35 cuda_blas.cc:1418] Unable to register cuBLAS factory: Attempting to register factory for plugin cuBLAS when one has already been registered\n"
     ]
    },
    {
     "name": "stdout",
     "output_type": "stream",
     "text": [
      "🦥 Unsloth Zoo will now patch everything to make training faster!\n"
     ]
    }
   ],
   "source": [
    "from unsloth import FastLanguageModel\n",
    "import torch\n",
    "from trl import SFTTrainer\n",
    "from transformers import TrainingArguments, DataCollatorForSeq2Seq\n",
    "from unsloth import is_bfloat16_supported\n",
    "from unsloth.chat_templates import train_on_responses_only\n",
    "\n",
    "def load_model_and_tokenizer(max_seq_length=2048, dtype=None, load_in_4bit=True):\n",
    "    model, tokenizer = FastLanguageModel.from_pretrained(\n",
    "        model_name=\"MediLlama-3.2-LoraAdaptors\",  ## Give path to your Lora Adaptor\n",
    "        max_seq_length=max_seq_length,\n",
    "        dtype=dtype,\n",
    "        load_in_4bit=load_in_4bit,\n",
    "    )\n",
    "    return model, tokenizer"
   ]
  },
  {
   "cell_type": "markdown",
   "metadata": {},
   "source": [
    "## Train Model Parameters"
   ]
  },
  {
   "cell_type": "code",
   "execution_count": 7,
   "metadata": {
    "execution": {
     "iopub.execute_input": "2025-05-25T04:21:40.863945Z",
     "iopub.status.busy": "2025-05-25T04:21:40.863251Z",
     "iopub.status.idle": "2025-05-25T04:21:40.875414Z",
     "shell.execute_reply": "2025-05-25T04:21:40.874673Z",
     "shell.execute_reply.started": "2025-05-25T04:21:40.863924Z"
    },
    "trusted": true
   },
   "outputs": [],
   "source": [
    "from transformers import EarlyStoppingCallback, TextStreamer, TrainingArguments\n",
    "\n",
    "def create_trainer(model, tokenizer, train_dataset,eval_dataset, training_args):\n",
    "    callbacks = [\n",
    "        EarlyStoppingCallback(training_args[\"early_stopping_patience\"]),\n",
    "    ]\n",
    "\n",
    "    args = TrainingArguments(\n",
    "        per_device_train_batch_size=training_args[\"per_device_train_batch_size\"],\n",
    "        per_device_eval_batch_size=training_args[\"per_device_eval_batch_size\"],\n",
    "        gradient_accumulation_steps=training_args[\"gradient_accumulation_steps\"],\n",
    "        logging_steps=training_args[\"logging_steps\"],\n",
    "        output_dir=training_args[\"output_dir\"],\n",
    "        save_strategy = \"steps\",\n",
    "        save_steps=training_args[\"save_steps\"],     ## Fine tuning from last checkpoint\n",
    "        warmup_steps=training_args[\"warmup_steps\"],\n",
    "        num_train_epochs=training_args[\"num_train_epochs\"],\n",
    "        learning_rate=training_args[\"learning_rate\"],\n",
    "        fp16=not is_bfloat16_supported(),\n",
    "        bf16=is_bfloat16_supported(),\n",
    "        weight_decay=training_args[\"weight_decay\"],\n",
    "        lr_scheduler_type=training_args[\"lr_scheduler_type\"],\n",
    "        seed=training_args[\"seed\"],\n",
    "        report_to=training_args[\"report_to\"],            ## wandb if want metrics\n",
    "        optim=training_args[\"optim\"],\n",
    "\n",
    "        # ✅ Fields related to Validation loss:\n",
    "        eval_strategy=training_args[\"eval_strategy\"],\n",
    "        eval_steps=training_args[\"eval_steps\"],\n",
    "        load_best_model_at_end=True,\n",
    "        metric_for_best_model=\"eval_loss\",  # Or \"eval_accuracy\", depending on your metric\n",
    "        greater_is_better=False,\n",
    "    )\n",
    "\n",
    "    trainer = SFTTrainer(\n",
    "        model=model,\n",
    "        tokenizer=tokenizer,\n",
    "        train_dataset= train_dataset, \n",
    "        eval_dataset= eval_dataset,\n",
    "        dataset_text_field=training_args[\"dataset_text_field\"],\n",
    "        max_seq_length=training_args[\"max_seq_length\"],\n",
    "        data_collator=DataCollatorForSeq2Seq(tokenizer=tokenizer),\n",
    "        dataset_num_proc=training_args[\"dataset_num_proc\"],\n",
    "        packing=training_args[\"packing\"],\n",
    "        args=args,\n",
    "        callbacks=callbacks\n",
    "    )\n",
    "\n",
    "    trainer = train_on_responses_only(\n",
    "        trainer,\n",
    "        instruction_part=training_args[\"instruction_part\"],\n",
    "        response_part=training_args[\"response_part\"],\n",
    "    )\n",
    "    return trainer\n"
   ]
  },
  {
   "cell_type": "code",
   "execution_count": 8,
   "metadata": {
    "execution": {
     "iopub.execute_input": "2025-05-25T04:22:05.491086Z",
     "iopub.status.busy": "2025-05-25T04:22:05.490276Z",
     "iopub.status.idle": "2025-05-25T04:22:05.494986Z",
     "shell.execute_reply": "2025-05-25T04:22:05.494231Z",
     "shell.execute_reply.started": "2025-05-25T04:22:05.491051Z"
    },
    "trusted": true
   },
   "outputs": [],
   "source": [
    "def train_model(trainer):\n",
    "    return trainer.train()"
   ]
  },
  {
   "cell_type": "markdown",
   "metadata": {},
   "source": [
    "## Run Model"
   ]
  },
  {
   "cell_type": "code",
   "execution_count": 9,
   "metadata": {
    "execution": {
     "iopub.execute_input": "2025-05-25T04:22:07.090361Z",
     "iopub.status.busy": "2025-05-25T04:22:07.089993Z",
     "iopub.status.idle": "2025-05-25T04:22:07.095516Z",
     "shell.execute_reply": "2025-05-25T04:22:07.094754Z",
     "shell.execute_reply.started": "2025-05-25T04:22:07.090341Z"
    },
    "trusted": true
   },
   "outputs": [],
   "source": [
    "def run_model(model, tokenizer, instruction, query):\n",
    "    FastLanguageModel.for_inference(model)\n",
    "    messages = [\n",
    "        {\"role\": \"system\", \"content\": instruction},\n",
    "        {\"role\": \"user\", \"content\": query},\n",
    "    ]\n",
    "    prompt = tokenizer.apply_chat_template(messages, tokenize=False, add_generation_prompt=True)\n",
    "    inputs = tokenizer(prompt, return_tensors='pt', padding=True, truncation=True).to(\"cuda\")\n",
    "    outputs = model.generate(**inputs, max_new_tokens=1500, num_return_sequences=1)\n",
    "    text = tokenizer.decode(outputs[0], skip_special_tokens=True)\n",
    "    return text"
   ]
  },
  {
   "cell_type": "markdown",
   "metadata": {},
   "source": [
    "## Preprocessing Data"
   ]
  },
  {
   "cell_type": "code",
   "execution_count": 10,
   "metadata": {
    "execution": {
     "iopub.execute_input": "2025-05-25T04:22:08.876630Z",
     "iopub.status.busy": "2025-05-25T04:22:08.875871Z",
     "iopub.status.idle": "2025-05-25T04:22:08.880978Z",
     "shell.execute_reply": "2025-05-25T04:22:08.880259Z",
     "shell.execute_reply.started": "2025-05-25T04:22:08.876595Z"
    },
    "trusted": true
   },
   "outputs": [],
   "source": [
    "def visualize_data(df):\n",
    "    print(\"Shape:\", df.shape)\n",
    "    print(\"Columns:\", df.columns.tolist())\n",
    "    print(\"\\nData Types and Non-Null Info:\")\n",
    "    print(df.info())\n",
    "    print(\"-\" * 50)\n",
    "\n",
    "    # Null value check\n",
    "    print(\"Null values:\\n\", df.isna().sum())\n",
    "    print(\"-\" * 50)\n",
    "\n",
    "    # Duplicate rows\n",
    "    print(\"Duplicate rows:\", df.duplicated().sum())\n",
    "    print(\"-\" * 50)\n"
   ]
  },
  {
   "cell_type": "code",
   "execution_count": 11,
   "metadata": {
    "execution": {
     "iopub.execute_input": "2025-05-25T04:22:10.736286Z",
     "iopub.status.busy": "2025-05-25T04:22:10.735976Z",
     "iopub.status.idle": "2025-05-25T04:22:10.741254Z",
     "shell.execute_reply": "2025-05-25T04:22:10.740407Z",
     "shell.execute_reply.started": "2025-05-25T04:22:10.736266Z"
    },
    "trusted": true
   },
   "outputs": [],
   "source": [
    "from unsloth.chat_templates import get_chat_template\n",
    "from datasets import Dataset\n",
    "\n",
    "instruction = \"\"\"You are a helpful and knowledgeable doctor\"\"\"\n",
    "\n",
    "def format_chat_template(row):\n",
    "\n",
    "    row_json = [{\"role\": \"system\", \"content\": instruction },\n",
    "               {\"role\": \"user\", \"content\": row['input']},\n",
    "               {\"role\": \"assistant\", \"content\": row['output']}]\n",
    "    \n",
    "    row[\"text\"] = tokenizer.apply_chat_template(row_json, tokenize=False)\n",
    "    return row"
   ]
  },
  {
   "cell_type": "markdown",
   "metadata": {},
   "source": [
    "## Load Dataset"
   ]
  },
  {
   "cell_type": "code",
   "execution_count": 14,
   "metadata": {
    "execution": {
     "iopub.execute_input": "2025-05-25T04:23:05.690636Z",
     "iopub.status.busy": "2025-05-25T04:23:05.690084Z",
     "iopub.status.idle": "2025-05-25T04:23:08.568283Z",
     "shell.execute_reply": "2025-05-25T04:23:08.567683Z",
     "shell.execute_reply.started": "2025-05-25T04:23:05.690614Z"
    },
    "trusted": true
   },
   "outputs": [
    {
     "data": {
      "application/vnd.jupyter.widget-view+json": {
       "model_id": "84e1404442de4f2ca2018b07244914f6",
       "version_major": 2,
       "version_minor": 0
      },
      "text/plain": [
       "train-00000-of-00001.parquet:   0%|          | 0.00/70.3M [00:00<?, ?B/s]"
      ]
     },
     "metadata": {},
     "output_type": "display_data"
    },
    {
     "data": {
      "application/vnd.jupyter.widget-view+json": {
       "model_id": "a0e50824e9f94a26a1fa4545e867dd3e",
       "version_major": 2,
       "version_minor": 0
      },
      "text/plain": [
       "Generating train split:   0%|          | 0/112165 [00:00<?, ? examples/s]"
      ]
     },
     "metadata": {},
     "output_type": "display_data"
    },
    {
     "name": "stdout",
     "output_type": "stream",
     "text": [
      "Dataset({\n",
      "    features: ['instruction', 'input', 'output'],\n",
      "    num_rows: 16000\n",
      "})\n",
      "Dataset({\n",
      "    features: ['instruction', 'input', 'output'],\n",
      "    num_rows: 4000\n",
      "})\n"
     ]
    }
   ],
   "source": [
    "from datasets import load_dataset\n",
    "dataset = load_dataset(\"InferenceLab/HealthTalks-100k\")\n",
    "dataset = dataset['train'].select(range(20000))\n",
    "### split test and train\n",
    "split_dataset = dataset.train_test_split(test_size=0.2, seed=42)\n",
    "df_train = split_dataset[\"train\"]\n",
    "df_test = split_dataset[\"test\"]\n",
    "print(df_train)\n",
    "print(df_test)"
   ]
  },
  {
   "cell_type": "markdown",
   "metadata": {},
   "source": [
    "## Train Dataset"
   ]
  },
  {
   "cell_type": "code",
   "execution_count": 15,
   "metadata": {
    "execution": {
     "iopub.execute_input": "2025-05-25T04:23:11.460902Z",
     "iopub.status.busy": "2025-05-25T04:23:11.460330Z",
     "iopub.status.idle": "2025-05-25T04:23:11.664734Z",
     "shell.execute_reply": "2025-05-25T04:23:11.664131Z",
     "shell.execute_reply.started": "2025-05-25T04:23:11.460875Z"
    },
    "trusted": true
   },
   "outputs": [
    {
     "name": "stdout",
     "output_type": "stream",
     "text": [
      "Shape: (16000, 3)\n",
      "Columns: ['instruction', 'input', 'output']\n",
      "\n",
      "Data Types and Non-Null Info:\n",
      "<class 'pandas.core.frame.DataFrame'>\n",
      "RangeIndex: 16000 entries, 0 to 15999\n",
      "Data columns (total 3 columns):\n",
      " #   Column       Non-Null Count  Dtype \n",
      "---  ------       --------------  ----- \n",
      " 0   instruction  16000 non-null  object\n",
      " 1   input        16000 non-null  object\n",
      " 2   output       16000 non-null  object\n",
      "dtypes: object(3)\n",
      "memory usage: 375.1+ KB\n",
      "None\n",
      "--------------------------------------------------\n",
      "Null values:\n",
      " instruction    0\n",
      "input          0\n",
      "output         0\n",
      "dtype: int64\n",
      "--------------------------------------------------\n",
      "Duplicate rows: 0\n",
      "--------------------------------------------------\n"
     ]
    },
    {
     "data": {
      "text/html": [
       "<div>\n",
       "<style scoped>\n",
       "    .dataframe tbody tr th:only-of-type {\n",
       "        vertical-align: middle;\n",
       "    }\n",
       "\n",
       "    .dataframe tbody tr th {\n",
       "        vertical-align: top;\n",
       "    }\n",
       "\n",
       "    .dataframe thead th {\n",
       "        text-align: right;\n",
       "    }\n",
       "</style>\n",
       "<table border=\"1\" class=\"dataframe\">\n",
       "  <thead>\n",
       "    <tr style=\"text-align: right;\">\n",
       "      <th></th>\n",
       "      <th>instruction</th>\n",
       "      <th>input</th>\n",
       "      <th>output</th>\n",
       "    </tr>\n",
       "  </thead>\n",
       "  <tbody>\n",
       "    <tr>\n",
       "      <th>0</th>\n",
       "      <td>If you are a doctor, please answer the medical...</td>\n",
       "      <td>I came down with a very sudden high fever on M...</td>\n",
       "      <td>Hi, Your description of the issue fits in some...</td>\n",
       "    </tr>\n",
       "    <tr>\n",
       "      <th>1</th>\n",
       "      <td>If you are a doctor, please answer the medical...</td>\n",
       "      <td>i have been dealing with a tight foreskin rece...</td>\n",
       "      <td>HelloThanks for query.based on your statement ...</td>\n",
       "    </tr>\n",
       "    <tr>\n",
       "      <th>2</th>\n",
       "      <td>If you are a doctor, please answer the medical...</td>\n",
       "      <td>Last month lasting for around a week i had sli...</td>\n",
       "      <td>Thanks for your question on Chat Doctor. I can...</td>\n",
       "    </tr>\n",
       "    <tr>\n",
       "      <th>3</th>\n",
       "      <td>If you are a doctor, please answer the medical...</td>\n",
       "      <td>My son had a sports physical and the doctor sa...</td>\n",
       "      <td>Hittites size varies among individuals. It is ...</td>\n",
       "    </tr>\n",
       "    <tr>\n",
       "      <th>4</th>\n",
       "      <td>If you are a doctor, please answer the medical...</td>\n",
       "      <td>HI. My husband is in an assisted living facili...</td>\n",
       "      <td>Hi, thankyou for providing the brief history o...</td>\n",
       "    </tr>\n",
       "  </tbody>\n",
       "</table>\n",
       "</div>"
      ],
      "text/plain": [
       "                                         instruction  \\\n",
       "0  If you are a doctor, please answer the medical...   \n",
       "1  If you are a doctor, please answer the medical...   \n",
       "2  If you are a doctor, please answer the medical...   \n",
       "3  If you are a doctor, please answer the medical...   \n",
       "4  If you are a doctor, please answer the medical...   \n",
       "\n",
       "                                               input  \\\n",
       "0  I came down with a very sudden high fever on M...   \n",
       "1  i have been dealing with a tight foreskin rece...   \n",
       "2  Last month lasting for around a week i had sli...   \n",
       "3  My son had a sports physical and the doctor sa...   \n",
       "4  HI. My husband is in an assisted living facili...   \n",
       "\n",
       "                                              output  \n",
       "0  Hi, Your description of the issue fits in some...  \n",
       "1  HelloThanks for query.based on your statement ...  \n",
       "2  Thanks for your question on Chat Doctor. I can...  \n",
       "3  Hittites size varies among individuals. It is ...  \n",
       "4  Hi, thankyou for providing the brief history o...  "
      ]
     },
     "execution_count": 15,
     "metadata": {},
     "output_type": "execute_result"
    }
   ],
   "source": [
    "df = df_train.to_pandas()\n",
    "visualize_data(df)\n",
    "df.head()"
   ]
  },
  {
   "cell_type": "code",
   "execution_count": 16,
   "metadata": {
    "execution": {
     "iopub.execute_input": "2025-05-25T04:23:12.844768Z",
     "iopub.status.busy": "2025-05-25T04:23:12.844047Z",
     "iopub.status.idle": "2025-05-25T04:23:52.145476Z",
     "shell.execute_reply": "2025-05-25T04:23:52.144870Z",
     "shell.execute_reply.started": "2025-05-25T04:23:12.844745Z"
    },
    "trusted": true
   },
   "outputs": [
    {
     "name": "stdout",
     "output_type": "stream",
     "text": [
      "==((====))==  Unsloth 2025.5.7: Fast Llama patching. Transformers: 4.51.3.\n",
      "   \\\\   /|    Tesla P100-PCIE-16GB. Num GPUs = 1. Max memory: 15.888 GB. Platform: Linux.\n",
      "O^O/ \\_/ \\    Torch: 2.6.0+cu124. CUDA: 6.0. CUDA Toolkit: 12.4. Triton: 3.2.0\n",
      "\\        /    Bfloat16 = FALSE. FA [Xformers = 0.0.29.post3. FA2 = False]\n",
      " \"-____-\"     Free license: http://github.com/unslothai/unsloth\n",
      "Unsloth: Fast downloading is enabled - ignore downloading bars which are red colored!\n"
     ]
    },
    {
     "data": {
      "application/vnd.jupyter.widget-view+json": {
       "model_id": "9cffa1f4e6bf433eb12d4154c38d31bf",
       "version_major": 2,
       "version_minor": 0
      },
      "text/plain": [
       "model.safetensors:   0%|          | 0.00/2.35G [00:00<?, ?B/s]"
      ]
     },
     "metadata": {},
     "output_type": "display_data"
    },
    {
     "data": {
      "application/vnd.jupyter.widget-view+json": {
       "model_id": "5baeea64e5634b7d9fe2a68b64c5c404",
       "version_major": 2,
       "version_minor": 0
      },
      "text/plain": [
       "generation_config.json:   0%|          | 0.00/234 [00:00<?, ?B/s]"
      ]
     },
     "metadata": {},
     "output_type": "display_data"
    },
    {
     "name": "stderr",
     "output_type": "stream",
     "text": [
      "Unsloth 2025.5.7 patched 28 layers with 0 QKV layers, 0 O layers and 0 MLP layers.\n"
     ]
    }
   ],
   "source": [
    "# 1. Load model and tokenizer\n",
    "model, tokenizer = load_model_and_tokenizer()"
   ]
  },
  {
   "cell_type": "code",
   "execution_count": 17,
   "metadata": {
    "execution": {
     "iopub.execute_input": "2025-05-25T04:23:52.147352Z",
     "iopub.status.busy": "2025-05-25T04:23:52.146918Z",
     "iopub.status.idle": "2025-05-25T04:23:54.261429Z",
     "shell.execute_reply": "2025-05-25T04:23:54.260595Z",
     "shell.execute_reply.started": "2025-05-25T04:23:52.147325Z"
    },
    "trusted": true
   },
   "outputs": [
    {
     "data": {
      "application/vnd.jupyter.widget-view+json": {
       "model_id": "f023bcf04abe49e78ab8d7bc3841b5fb",
       "version_major": 2,
       "version_minor": 0
      },
      "text/plain": [
       "Map (num_proc=4):   0%|          | 0/16000 [00:00<?, ? examples/s]"
      ]
     },
     "metadata": {},
     "output_type": "display_data"
    },
    {
     "name": "stdout",
     "output_type": "stream",
     "text": [
      "16000 <|begin_of_text|><|start_header_id|>system<|end_header_id|>\n",
      "\n",
      "Cutting Knowledge Date: December 2023\n",
      "Today Date: 25 May 2025\n",
      "\n",
      "You are a helpful and knowledgeable doctor<|eot_id|><|start_header_id|>user<|end_header_id|>\n",
      "\n",
      "I came down with a very sudden high fever on Monday and experienced numbness in my fingers, and very bloodshot eyes. Now 3 days later the fever is gone but I have numbness in my legs when ever I cross them or stand. Could i have nerve damage from the high fever?<|eot_id|><|start_header_id|>assistant<|end_header_id|>\n",
      "\n",
      "Hi, Your description of the issue fits in some ways with a condition called Reynolds disease /phenomenon. It would be better if you get in touch with your treating doctor and get to the bottom of the issue, if it's not Reynolds even then it needs to be investigated, underlying connective tissue disorders of autoimmune origin certainly need ruling out. Hope I have answered your query. Let me know if I can assist you further.<|eot_id|>\n"
     ]
    }
   ],
   "source": [
    "train_dataset = df_train.map(\n",
    "    format_chat_template,\n",
    "    num_proc= 4,\n",
    ")\n",
    "print(len(train_dataset), train_dataset[\"text\"][0])"
   ]
  },
  {
   "cell_type": "markdown",
   "metadata": {},
   "source": [
    "## Test Data"
   ]
  },
  {
   "cell_type": "code",
   "execution_count": 18,
   "metadata": {
    "execution": {
     "iopub.execute_input": "2025-05-25T04:23:59.798110Z",
     "iopub.status.busy": "2025-05-25T04:23:59.797735Z",
     "iopub.status.idle": "2025-05-25T04:24:00.850658Z",
     "shell.execute_reply": "2025-05-25T04:24:00.849854Z",
     "shell.execute_reply.started": "2025-05-25T04:23:59.798067Z"
    },
    "trusted": true
   },
   "outputs": [
    {
     "data": {
      "application/vnd.jupyter.widget-view+json": {
       "model_id": "18ea9e3df36c4a4887d50d416cc22f32",
       "version_major": 2,
       "version_minor": 0
      },
      "text/plain": [
       "Map (num_proc=4):   0%|          | 0/4000 [00:00<?, ? examples/s]"
      ]
     },
     "metadata": {},
     "output_type": "display_data"
    },
    {
     "name": "stdout",
     "output_type": "stream",
     "text": [
      "4000 <|begin_of_text|><|start_header_id|>system<|end_header_id|>\n",
      "\n",
      "Cutting Knowledge Date: December 2023\n",
      "Today Date: 25 May 2025\n",
      "\n",
      "You are a helpful and knowledgeable doctor<|eot_id|><|start_header_id|>user<|end_header_id|>\n",
      "\n",
      "I am an 18 year old female. when I was 3, I went to the hospital for croup cough and they had to shove a balloon type thing down my throat to open up my lung. This past year, I have had bronchitis or some other kind of lung infection 5 times, each time worse than the last. the cough I get with these infections will last weeks after other symptoms go away, along with coughing up mucus. I just completed a round of Biaxin to treat my latest infection, but with this infection came fevers, headaches, and a lot of shortness of breath and chest pain, all which are still lingering. My mom insists on sticking with my pediatrician to figure out what is going on with me, but I feel there is only so much they can do. I had a chest scan and a blood test for CBC, sed rate, and allergies. everything came back normal. along with the chest pain, shortness of breath, occasional fevers, headaches and bark-like cough, sometimes producing mucus, I have had some lower back pain, and have been overly sensitive, like crying super easily, like during a tv show happy or sad moment or a minor issue, which I did not normally used to do. I am generally happy overall and enjoy my life, friends, and job, so it is not depression or anything like that. The only medication I take is birth control and now an inhaler to try and help the labored breathing. I also bruise super easily, sometimes out of no where. I had a few tests done at a hematologist a few months ago, but nothing conclusive came from it, I am not sure if that is relevant. Does anyone know what could possibly be going on with me? Thanks!<|eot_id|><|start_header_id|>assistant<|end_header_id|>\n",
      "\n",
      "Thanks for your question on Chat Doctor. I can understand your concern. By your history and description, possibility of either bronchitis or Pulmonary embolism is more. Birth control pills can cause Pulmonary embolism. So in my opinion, you should consult pulmonologist and get done 1. PUT (Pulmonary Function Test) 2. CT Pulmonary Angiography. PFT is needed for the diagnosis of bronchitis. It will also tell you about severity of the disease and treatment of bronchitis is based on severity only. You may need additional inhaled bronchodilators and oral bronchodilators also.  CT Pulmonary Angiography is needed to rule out Pulmonary embolism. So consult pulmonologist and discuss all these. Hope I have solved your query. Wish you good health. Thanks.<|eot_id|>\n"
     ]
    }
   ],
   "source": [
    "test_dataset = df_test.map(\n",
    "    format_chat_template,\n",
    "    num_proc= 4,\n",
    ")\n",
    "print(len(test_dataset), test_dataset[\"text\"][1])"
   ]
  },
  {
   "cell_type": "markdown",
   "metadata": {},
   "source": [
    "## Set Model and Trainer"
   ]
  },
  {
   "cell_type": "code",
   "execution_count": 19,
   "metadata": {
    "execution": {
     "iopub.execute_input": "2025-05-25T04:24:03.777412Z",
     "iopub.status.busy": "2025-05-25T04:24:03.776687Z",
     "iopub.status.idle": "2025-05-25T04:24:13.061327Z",
     "shell.execute_reply": "2025-05-25T04:24:13.060706Z",
     "shell.execute_reply.started": "2025-05-25T04:24:03.777379Z"
    },
    "trusted": true
   },
   "outputs": [
    {
     "name": "stdout",
     "output_type": "stream",
     "text": [
      "==((====))==  Unsloth 2025.5.7: Fast Llama patching. Transformers: 4.51.3.\n",
      "   \\\\   /|    Tesla P100-PCIE-16GB. Num GPUs = 1. Max memory: 15.888 GB. Platform: Linux.\n",
      "O^O/ \\_/ \\    Torch: 2.6.0+cu124. CUDA: 6.0. CUDA Toolkit: 12.4. Triton: 3.2.0\n",
      "\\        /    Bfloat16 = FALSE. FA [Xformers = 0.0.29.post3. FA2 = False]\n",
      " \"-____-\"     Free license: http://github.com/unslothai/unsloth\n",
      "Unsloth: Fast downloading is enabled - ignore downloading bars which are red colored!\n"
     ]
    }
   ],
   "source": [
    "# 1. Load model and tokenizer\n",
    "model, tokenizer = load_model_and_tokenizer()\n"
   ]
  },
  {
   "cell_type": "code",
   "execution_count": 22,
   "metadata": {
    "execution": {
     "iopub.execute_input": "2025-05-25T04:31:25.527350Z",
     "iopub.status.busy": "2025-05-25T04:31:25.526663Z",
     "iopub.status.idle": "2025-05-25T04:31:40.916724Z",
     "shell.execute_reply": "2025-05-25T04:31:40.915961Z",
     "shell.execute_reply.started": "2025-05-25T04:31:25.527323Z"
    },
    "trusted": true
   },
   "outputs": [
    {
     "data": {
      "application/vnd.jupyter.widget-view+json": {
       "model_id": "0e364474e15240278300596fc413ef83",
       "version_major": 2,
       "version_minor": 0
      },
      "text/plain": [
       "Unsloth: Tokenizing [\"text\"] (num_proc=2):   0%|          | 0/16000 [00:00<?, ? examples/s]"
      ]
     },
     "metadata": {},
     "output_type": "display_data"
    },
    {
     "data": {
      "application/vnd.jupyter.widget-view+json": {
       "model_id": "d2de77932efa44938217a208dd3a4927",
       "version_major": 2,
       "version_minor": 0
      },
      "text/plain": [
       "Unsloth: Tokenizing [\"text\"] (num_proc=2):   0%|          | 0/4000 [00:00<?, ? examples/s]"
      ]
     },
     "metadata": {},
     "output_type": "display_data"
    },
    {
     "data": {
      "application/vnd.jupyter.widget-view+json": {
       "model_id": "0339d8a7660e40ed9002f5b0981fb4da",
       "version_major": 2,
       "version_minor": 0
      },
      "text/plain": [
       "Map (num_proc=4):   0%|          | 0/16000 [00:00<?, ? examples/s]"
      ]
     },
     "metadata": {},
     "output_type": "display_data"
    },
    {
     "data": {
      "application/vnd.jupyter.widget-view+json": {
       "model_id": "cc1b765646d64000af2bf9d829bf4f65",
       "version_major": 2,
       "version_minor": 0
      },
      "text/plain": [
       "Map (num_proc=4):   0%|          | 0/4000 [00:00<?, ? examples/s]"
      ]
     },
     "metadata": {},
     "output_type": "display_data"
    }
   ],
   "source": [
    "# 3. Create trainer\n",
    "training_args = {\n",
    "    \"per_device_eval_batch_size\": 6,  ## test batch size should fit in GPU ## all batches get tested at once\n",
    "    \"per_device_train_batch_size\": 4,  ## train batch size should fit in GPU\n",
    "    \"gradient_accumulation_steps\": 2,\n",
    "    \"eval_strategy\": \"steps\",\n",
    "    \"eval_steps\": 666,\n",
    "    \"early_stopping_patience\": 3,\n",
    "    \"logging_steps\": 1,\n",
    "    \"save_steps\": 666,                  ## total steps = (len(train_dataset)//(per_device_train_batch_size*gradient_accumulation_steps))  \n",
    "    \"warmup_steps\": 140,\n",
    "    \"num_train_epochs\": 1,\n",
    "    \"learning_rate\": 5e-4,\n",
    "    \"weight_decay\": 0.01,\n",
    "    \"lr_scheduler_type\": \"linear\",\n",
    "    \"seed\": 3407,\n",
    "    \"output_dir\": \"outputs\",\n",
    "    \"report_to\": \"none\",               ## use for wandb etc\n",
    "    \"optim\": \"adamw_8bit\",\n",
    "    \"max_seq_length\": 2048,\n",
    "    \"dataset_num_proc\": 2,\n",
    "    \"packing\": False,\n",
    "    \"dataset_text_field\": \"text\",\n",
    "    \"instruction_part\": \"<|start_header_id|>user<|end_header_id|>\\n\\n\",\n",
    "    \"response_part\": \"<|start_header_id|>assistant<|end_header_id|>\\n\\n\",\n",
    "}\n",
    "\n",
    "trainer = create_trainer(model, tokenizer, train_dataset, test_dataset, training_args)\n"
   ]
  },
  {
   "cell_type": "markdown",
   "metadata": {},
   "source": [
    "## Begin Training"
   ]
  },
  {
   "cell_type": "code",
   "execution_count": 23,
   "metadata": {
    "execution": {
     "iopub.execute_input": "2025-05-25T04:31:40.918804Z",
     "iopub.status.busy": "2025-05-25T04:31:40.918180Z",
     "iopub.status.idle": "2025-05-25T10:41:18.216233Z",
     "shell.execute_reply": "2025-05-25T10:41:18.215458Z",
     "shell.execute_reply.started": "2025-05-25T04:31:40.918778Z"
    },
    "trusted": true
   },
   "outputs": [
    {
     "name": "stderr",
     "output_type": "stream",
     "text": [
      "==((====))==  Unsloth - 2x faster free finetuning | Num GPUs used = 1\n",
      "   \\\\   /|    Num examples = 16,000 | Num Epochs = 1 | Total steps = 2,000\n",
      "O^O/ \\_/ \\    Batch size per device = 4 | Gradient accumulation steps = 2\n",
      "\\        /    Data Parallel GPUs = 1 | Total batch size (4 x 2 x 1) = 8\n",
      " \"-____-\"     Trainable parameters = 24,313,856/3,000,000,000 (0.81% trained)\n"
     ]
    },
    {
     "data": {
      "text/html": [
       "\n",
       "    <div>\n",
       "      \n",
       "      <progress value='2000' max='2000' style='width:300px; height:20px; vertical-align: middle;'></progress>\n",
       "      [2000/2000 6:09:26, Epoch 1/1]\n",
       "    </div>\n",
       "    <table border=\"1\" class=\"dataframe\">\n",
       "  <thead>\n",
       " <tr style=\"text-align: left;\">\n",
       "      <th>Step</th>\n",
       "      <th>Training Loss</th>\n",
       "      <th>Validation Loss</th>\n",
       "    </tr>\n",
       "  </thead>\n",
       "  <tbody>\n",
       "    <tr>\n",
       "      <td>666</td>\n",
       "      <td>2.525600</td>\n",
       "      <td>2.250924</td>\n",
       "    </tr>\n",
       "    <tr>\n",
       "      <td>1332</td>\n",
       "      <td>2.104700</td>\n",
       "      <td>2.132014</td>\n",
       "    </tr>\n",
       "    <tr>\n",
       "      <td>1998</td>\n",
       "      <td>2.024800</td>\n",
       "      <td>2.072756</td>\n",
       "    </tr>\n",
       "  </tbody>\n",
       "</table><p>"
      ],
      "text/plain": [
       "<IPython.core.display.HTML object>"
      ]
     },
     "metadata": {},
     "output_type": "display_data"
    },
    {
     "name": "stderr",
     "output_type": "stream",
     "text": [
      "Unsloth: Not an error, but LlamaForCausalLM does not accept `num_items_in_batch`.\n",
      "Using gradient accumulation will be very slightly less accurate.\n",
      "Read more on gradient accumulation issues here: https://unsloth.ai/blog/gradient\n"
     ]
    }
   ],
   "source": [
    "# 4. Train model\n",
    "trainer_stats = train_model(trainer)"
   ]
  },
  {
   "cell_type": "markdown",
   "metadata": {},
   "source": [
    "### Note - Model is still Learning and both the train and validation loss are still decreasing, so we have to train it for more epochs until loss is close to zero (Depending on your Compute)"
   ]
  },
  {
   "cell_type": "code",
   "execution_count": 25,
   "metadata": {
    "execution": {
     "iopub.execute_input": "2025-05-25T10:41:18.810783Z",
     "iopub.status.busy": "2025-05-25T10:41:18.810570Z",
     "iopub.status.idle": "2025-05-25T10:41:19.257181Z",
     "shell.execute_reply": "2025-05-25T10:41:19.256380Z",
     "shell.execute_reply.started": "2025-05-25T10:41:18.810767Z"
    },
    "trusted": true
   },
   "outputs": [
    {
     "data": {
      "image/png": "[encoded data removed]",
      "text/plain": [
       "<Figure size 1000x1000 with 2 Axes>"
      ]
     },
     "metadata": {},
     "output_type": "display_data"
    }
   ],
   "source": [
    "import matplotlib.pyplot as plt\n",
    "\n",
    "# Collect logs\n",
    "logs = trainer.state.log_history\n",
    "\n",
    "# Initialize lists for plotting\n",
    "train_loss = []\n",
    "eval_loss = []\n",
    "eval_steps = []\n",
    "train_steps = []\n",
    "\n",
    "# Extract values from logs\n",
    "for entry in logs:\n",
    "    if 'loss' in entry and 'step' in entry:\n",
    "        train_loss.append(entry['loss'])\n",
    "        train_steps.append(entry['step'])\n",
    "    if 'eval_loss' in entry:\n",
    "        eval_loss.append(entry['eval_loss'])\n",
    "        eval_steps.append(entry['step'])\n",
    "\n",
    "# Create subplots\n",
    "fig, axs = plt.subplots(2, 1, figsize=(10, 10))\n",
    "\n",
    "# Plot Training Loss\n",
    "axs[0].plot(train_steps, train_loss, color='blue', label=\"Training Loss\")\n",
    "axs[0].set_title(\"Training Loss Over Steps\")\n",
    "axs[0].set_xlabel(\"Steps\")\n",
    "axs[0].set_ylabel(\"Loss\")\n",
    "axs[0].legend()\n",
    "axs[0].grid(True)\n",
    "\n",
    "# Plot Evaluation Loss\n",
    "axs[1].plot(eval_steps, eval_loss, color='orange', label=\"Evaluation Loss\")\n",
    "axs[1].set_title(\"Evaluation Loss Over Steps\")\n",
    "axs[1].set_xlabel(\"Steps\")\n",
    "axs[1].set_ylabel(\"Loss\")\n",
    "axs[1].legend()\n",
    "axs[1].grid(True)\n",
    "\n",
    "# Adjust layout\n",
    "plt.tight_layout()\n",
    "plt.show()\n"
   ]
  },
  {
   "cell_type": "markdown",
   "metadata": {},
   "source": [
    "## Save the Lora Adaptor Locally"
   ]
  },
  {
   "cell_type": "code",
   "execution_count": 27,
   "metadata": {
    "execution": {
     "iopub.execute_input": "2025-05-25T10:42:21.111350Z",
     "iopub.status.busy": "2025-05-25T10:42:21.111068Z",
     "iopub.status.idle": "2025-05-25T10:42:22.028168Z",
     "shell.execute_reply": "2025-05-25T10:42:22.027480Z",
     "shell.execute_reply.started": "2025-05-25T10:42:21.111331Z"
    },
    "trusted": true
   },
   "outputs": [
    {
     "data": {
      "text/plain": [
       "('MediLlama-3.2-LoraAdaptors/tokenizer_config.json',\n",
       " 'MediLlama-3.2-LoraAdaptors/special_tokens_map.json',\n",
       " 'MediLlama-3.2-LoraAdaptors/tokenizer.json')"
      ]
     },
     "execution_count": 27,
     "metadata": {},
     "output_type": "execute_result"
    }
   ],
   "source": [
    "model.save_pretrained(\"MediLlama-3.2-LoraAdaptors\")  \n",
    "tokenizer.save_pretrained(\"MediLlama-3.2-LoraAdaptors\")"
   ]
  },
  {
   "cell_type": "markdown",
   "metadata": {},
   "source": [
    "## Save Lora Adaptor to Hugging Hub"
   ]
  },
  {
   "cell_type": "code",
   "execution_count": null,
   "metadata": {
    "execution": {
     "iopub.execute_input": "2025-05-25T10:42:26.871770Z",
     "iopub.status.busy": "2025-05-25T10:42:26.871056Z",
     "iopub.status.idle": "2025-05-25T10:42:37.848758Z",
     "shell.execute_reply": "2025-05-25T10:42:37.847978Z",
     "shell.execute_reply.started": "2025-05-25T10:42:26.871746Z"
    },
    "trusted": true
   },
   "outputs": [],
   "source": [
    "model.push_to_hub(\"your_username/MediLlama-3.2-LoraAdaptors\", token = hf_token) # Online saving\n",
    "tokenizer.push_to_hub(\"your_username/MediLlama-3.2-LoraAdaptors\", token = hf_token) # Online saving"
   ]
  },
  {
   "cell_type": "markdown",
   "metadata": {},
   "source": [
    "## Merge Lora Adaptor with base model and save to Hub"
   ]
  },
  {
   "cell_type": "code",
   "execution_count": null,
   "metadata": {
    "execution": {
     "iopub.execute_input": "2025-05-17T12:55:53.440033Z",
     "iopub.status.busy": "2025-05-17T12:55:53.439756Z",
     "iopub.status.idle": "2025-05-17T12:57:37.782714Z",
     "shell.execute_reply": "2025-05-17T12:57:37.782105Z",
     "shell.execute_reply.started": "2025-05-17T12:55:53.440014Z"
    },
    "trusted": true
   },
   "outputs": [],
   "source": [
    "# Merge to 16bit\n",
    "model.save_pretrained_merged(\"MediLlama-3.2\", tokenizer, save_method = \"merged_16bit\",)\n",
    "model.push_to_hub_merged(\"your_username/MediLlama-3.2\", tokenizer, save_method = \"merged_16bit\", token = hf_token)"
   ]
  },
  {
   "cell_type": "code",
   "execution_count": null,
   "metadata": {
    "trusted": true
   },
   "outputs": [],
   "source": []
  }
 ],
 "metadata": {
  "kaggle": {
   "accelerator": "gpu",
   "dataSources": [],
   "dockerImageVersionId": 31040,
   "isGpuEnabled": true,
   "isInternetEnabled": true,
   "language": "python",
   "sourceType": "notebook"
  },
  "kernelspec": {
   "display_name": "Python 3",
   "language": "python",
   "name": "python3"
  },
  "language_info": {
   "codemirror_mode": {
    "name": "ipython",
    "version": 3
   },
   "file_extension": ".py",
   "mimetype": "text/x-python",
   "name": "python",
   "nbconvert_exporter": "python",
   "pygments_lexer": "ipython3",
   "version": "3.11.11"
  }
 },
 "nbformat": 4,
 "nbformat_minor": 4
}
