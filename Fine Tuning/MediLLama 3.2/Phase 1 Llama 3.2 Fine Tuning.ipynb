{
 "cells": [
  {
   "cell_type": "markdown",
   "metadata": {},
   "source": [
    "# Fine Tune Llama-3.2-3B "
   ]
  },
  {
   "cell_type": "code",
   "execution_count": 3,
   "metadata": {
    "execution": {
     "iopub.execute_input": "2025-05-16T02:53:24.138123Z",
     "iopub.status.busy": "2025-05-16T02:53:24.137620Z",
     "iopub.status.idle": "2025-05-16T02:53:36.931723Z",
     "shell.execute_reply": "2025-05-16T02:53:36.930903Z",
     "shell.execute_reply.started": "2025-05-16T02:53:24.138100Z"
    },
    "trusted": true
   },
   "outputs": [],
   "source": [
    "%%capture\n",
    "%pip install --no-deps bitsandbytes accelerate xformers==0.0.29.post3 peft trl==0.15.2 triton cut_cross_entropy unsloth_zoo\n",
    "%pip install sentencepiece protobuf datasets huggingface_hub hf_transfer\n",
    "%pip install --no-deps unsloth"
   ]
  },
  {
   "cell_type": "code",
   "execution_count": null,
   "metadata": {
    "execution": {
     "iopub.execute_input": "2025-05-16T02:53:36.933516Z",
     "iopub.status.busy": "2025-05-16T02:53:36.933257Z",
     "iopub.status.idle": "2025-05-16T02:53:36.937429Z",
     "shell.execute_reply": "2025-05-16T02:53:36.936828Z",
     "shell.execute_reply.started": "2025-05-16T02:53:36.933492Z"
    },
    "trusted": true
   },
   "outputs": [],
   "source": [
    "import wandb\n",
    "from kaggle_secrets import UserSecretsClient\n",
    "user_secrets = UserSecretsClient()\n",
    "wb_token = user_secrets.get_secret(\"wandb\")\n",
    "\n",
    "wandb.login(key=wb_token)\n",
    "run = wandb.init(\n",
    "    project='Clinical-Llama-3.2-3B', \n",
    "    job_type=\"training\", \n",
    "    anonymous=\"allow\"\n",
    ")"
   ]
  },
  {
   "cell_type": "code",
   "execution_count": 31,
   "metadata": {
    "execution": {
     "iopub.execute_input": "2025-05-16T09:51:01.813162Z",
     "iopub.status.busy": "2025-05-16T09:51:01.812256Z",
     "iopub.status.idle": "2025-05-16T09:51:02.094881Z",
     "shell.execute_reply": "2025-05-16T09:51:02.094308Z",
     "shell.execute_reply.started": "2025-05-16T09:51:01.813131Z"
    },
    "trusted": true
   },
   "outputs": [],
   "source": [
    "from huggingface_hub import login\n",
    "from kaggle_secrets import UserSecretsClient\n",
    "user_secrets = UserSecretsClient()\n",
    "\n",
    "hf_token = user_secrets.get_secret(\"HUGGINGFACE_TOKEN\")\n",
    "login(hf_token)"
   ]
  },
  {
   "cell_type": "markdown",
   "metadata": {},
   "source": [
    "## Load Model"
   ]
  },
  {
   "cell_type": "code",
   "execution_count": 7,
   "metadata": {
    "execution": {
     "iopub.execute_input": "2025-05-16T02:53:57.679871Z",
     "iopub.status.busy": "2025-05-16T02:53:57.679158Z",
     "iopub.status.idle": "2025-05-16T02:54:34.190413Z",
     "shell.execute_reply": "2025-05-16T02:54:34.189808Z",
     "shell.execute_reply.started": "2025-05-16T02:53:57.679846Z"
    },
    "trusted": true
   },
   "outputs": [
    {
     "name": "stdout",
     "output_type": "stream",
     "text": [
      "🦥 Unsloth: Will patch your computer to enable 2x faster free finetuning.\n"
     ]
    },
    {
     "name": "stderr",
     "output_type": "stream",
     "text": [
      "2025-05-16 02:54:11.382840: E external/local_xla/xla/stream_executor/cuda/cuda_fft.cc:477] Unable to register cuFFT factory: Attempting to register factory for plugin cuFFT when one has already been registered\n",
      "WARNING: All log messages before absl::InitializeLog() is called are written to STDERR\n",
      "E0000 00:00:1747364051.559935      35 cuda_dnn.cc:8310] Unable to register cuDNN factory: Attempting to register factory for plugin cuDNN when one has already been registered\n",
      "E0000 00:00:1747364051.610494      35 cuda_blas.cc:1418] Unable to register cuBLAS factory: Attempting to register factory for plugin cuBLAS when one has already been registered\n"
     ]
    },
    {
     "name": "stdout",
     "output_type": "stream",
     "text": [
      "🦥 Unsloth Zoo will now patch everything to make training faster!\n"
     ]
    }
   ],
   "source": [
    "from unsloth import FastLanguageModel\n",
    "import torch\n",
    "from trl import SFTTrainer\n",
    "from transformers import TrainingArguments, DataCollatorForSeq2Seq\n",
    "from unsloth import is_bfloat16_supported\n",
    "from unsloth.chat_templates import train_on_responses_only\n",
    "\n",
    "def load_model_and_tokenizer(max_seq_length=2048, dtype=None, load_in_4bit=True):\n",
    "    model, tokenizer = FastLanguageModel.from_pretrained(\n",
    "        model_name=\"unsloth/Llama-3.2-3B-Instruct\",\n",
    "        max_seq_length=max_seq_length,\n",
    "        dtype=dtype,\n",
    "        load_in_4bit=load_in_4bit,\n",
    "    )\n",
    "    return model, tokenizer"
   ]
  },
  {
   "cell_type": "markdown",
   "metadata": {},
   "source": [
    "## Apply Lora"
   ]
  },
  {
   "cell_type": "code",
   "execution_count": 8,
   "metadata": {
    "execution": {
     "iopub.execute_input": "2025-05-16T02:54:34.192274Z",
     "iopub.status.busy": "2025-05-16T02:54:34.191653Z",
     "iopub.status.idle": "2025-05-16T02:54:34.196570Z",
     "shell.execute_reply": "2025-05-16T02:54:34.195907Z",
     "shell.execute_reply.started": "2025-05-16T02:54:34.192253Z"
    },
    "trusted": true
   },
   "outputs": [],
   "source": [
    "def apply_lora(model):\n",
    "    model = FastLanguageModel.get_peft_model(\n",
    "        model,\n",
    "        r=16,\n",
    "        target_modules=[\"q_proj\", \"k_proj\", \"v_proj\", \"o_proj\",\n",
    "                        \"gate_proj\", \"up_proj\", \"down_proj\"],\n",
    "        lora_alpha=16,\n",
    "        lora_dropout=0.1,\n",
    "        bias=\"none\",\n",
    "        use_gradient_checkpointing=\"unsloth\",\n",
    "        random_state=3407,\n",
    "        use_rslora=False,\n",
    "        loftq_config=None,\n",
    "    )\n",
    "    return model"
   ]
  },
  {
   "cell_type": "markdown",
   "metadata": {},
   "source": [
    "## Train Model Parameters"
   ]
  },
  {
   "cell_type": "code",
   "execution_count": 9,
   "metadata": {
    "execution": {
     "iopub.execute_input": "2025-05-16T02:54:34.197353Z",
     "iopub.status.busy": "2025-05-16T02:54:34.197123Z",
     "iopub.status.idle": "2025-05-16T02:54:34.219553Z",
     "shell.execute_reply": "2025-05-16T02:54:34.218956Z",
     "shell.execute_reply.started": "2025-05-16T02:54:34.197337Z"
    },
    "trusted": true
   },
   "outputs": [],
   "source": [
    "from transformers import EarlyStoppingCallback, TextStreamer, TrainingArguments\n",
    "\n",
    "def create_trainer(model, tokenizer, train_dataset,eval_dataset, training_args):\n",
    "    callbacks = [\n",
    "        EarlyStoppingCallback(training_args[\"early_stopping_patience\"]),\n",
    "    ]\n",
    "\n",
    "    args = TrainingArguments(\n",
    "        per_device_train_batch_size=training_args[\"per_device_train_batch_size\"],\n",
    "        per_device_eval_batch_size=training_args[\"per_device_eval_batch_size\"],\n",
    "        gradient_accumulation_steps=training_args[\"gradient_accumulation_steps\"],\n",
    "        logging_steps=training_args[\"logging_steps\"],\n",
    "        output_dir=training_args[\"output_dir\"],\n",
    "        save_strategy = \"steps\",\n",
    "        save_steps=training_args[\"save_steps\"],     ## Fine tuning from last checkpoint\n",
    "        warmup_steps=training_args[\"warmup_steps\"],\n",
    "        num_train_epochs=training_args[\"num_train_epochs\"],\n",
    "        learning_rate=training_args[\"learning_rate\"],\n",
    "        fp16=not is_bfloat16_supported(),\n",
    "        bf16=is_bfloat16_supported(),\n",
    "        weight_decay=training_args[\"weight_decay\"],\n",
    "        lr_scheduler_type=training_args[\"lr_scheduler_type\"],\n",
    "        seed=training_args[\"seed\"],\n",
    "        report_to=training_args[\"report_to\"],            ## wandb if want metrics\n",
    "        optim=training_args[\"optim\"],\n",
    "\n",
    "        # ✅ Fields related to Validation loss:\n",
    "        eval_strategy=training_args[\"eval_strategy\"],\n",
    "        eval_steps=training_args[\"eval_steps\"],\n",
    "        load_best_model_at_end=True,\n",
    "        metric_for_best_model=\"eval_loss\",  # Or \"eval_accuracy\", depending on your metric\n",
    "        greater_is_better=False,\n",
    "    )\n",
    "\n",
    "    trainer = SFTTrainer(\n",
    "        model=model,\n",
    "        tokenizer=tokenizer,\n",
    "        train_dataset= train_dataset, \n",
    "        eval_dataset= eval_dataset,\n",
    "        dataset_text_field=training_args[\"dataset_text_field\"],\n",
    "        max_seq_length=training_args[\"max_seq_length\"],\n",
    "        data_collator=DataCollatorForSeq2Seq(tokenizer=tokenizer),\n",
    "        dataset_num_proc=training_args[\"dataset_num_proc\"],\n",
    "        packing=training_args[\"packing\"],\n",
    "        args=args,\n",
    "        callbacks=callbacks\n",
    "    )\n",
    "\n",
    "    trainer = train_on_responses_only(\n",
    "        trainer,\n",
    "        instruction_part=training_args[\"instruction_part\"],\n",
    "        response_part=training_args[\"response_part\"],\n",
    "    )\n",
    "    return trainer\n"
   ]
  },
  {
   "cell_type": "code",
   "execution_count": 10,
   "metadata": {
    "execution": {
     "iopub.execute_input": "2025-05-16T02:54:34.221132Z",
     "iopub.status.busy": "2025-05-16T02:54:34.220934Z",
     "iopub.status.idle": "2025-05-16T02:54:34.235117Z",
     "shell.execute_reply": "2025-05-16T02:54:34.234508Z",
     "shell.execute_reply.started": "2025-05-16T02:54:34.221118Z"
    },
    "trusted": true
   },
   "outputs": [],
   "source": [
    "def train_model(trainer):\n",
    "    return trainer.train()"
   ]
  },
  {
   "cell_type": "markdown",
   "metadata": {},
   "source": [
    "## Run Model"
   ]
  },
  {
   "cell_type": "code",
   "execution_count": 11,
   "metadata": {
    "execution": {
     "iopub.execute_input": "2025-05-16T02:54:34.235956Z",
     "iopub.status.busy": "2025-05-16T02:54:34.235798Z",
     "iopub.status.idle": "2025-05-16T02:54:34.249878Z",
     "shell.execute_reply": "2025-05-16T02:54:34.249215Z",
     "shell.execute_reply.started": "2025-05-16T02:54:34.235944Z"
    },
    "trusted": true
   },
   "outputs": [],
   "source": [
    "def run_model(model, tokenizer, instruction, query):\n",
    "    FastLanguageModel.for_inference(model)\n",
    "    messages = [\n",
    "        {\"role\": \"system\", \"content\": instruction},\n",
    "        {\"role\": \"user\", \"content\": query},\n",
    "    ]\n",
    "    prompt = tokenizer.apply_chat_template(messages, tokenize=False, add_generation_prompt=True)\n",
    "    inputs = tokenizer(prompt, return_tensors='pt', padding=True, truncation=True).to(\"cuda\")\n",
    "    outputs = model.generate(**inputs, max_new_tokens=1500, num_return_sequences=1)\n",
    "    text = tokenizer.decode(outputs[0], skip_special_tokens=True)\n",
    "    return text"
   ]
  },
  {
   "cell_type": "markdown",
   "metadata": {},
   "source": [
    "## Preprocessing Data"
   ]
  },
  {
   "cell_type": "code",
   "execution_count": 12,
   "metadata": {
    "execution": {
     "iopub.execute_input": "2025-05-16T02:54:34.250630Z",
     "iopub.status.busy": "2025-05-16T02:54:34.250473Z",
     "iopub.status.idle": "2025-05-16T02:54:34.264461Z",
     "shell.execute_reply": "2025-05-16T02:54:34.263828Z",
     "shell.execute_reply.started": "2025-05-16T02:54:34.250617Z"
    },
    "trusted": true
   },
   "outputs": [],
   "source": [
    "def visualize_data(df):\n",
    "    print(\"Shape:\", df.shape)\n",
    "    print(\"Columns:\", df.columns.tolist())\n",
    "    print(\"\\nData Types and Non-Null Info:\")\n",
    "    print(df.info())\n",
    "    print(\"-\" * 50)\n",
    "\n",
    "    # Null value check\n",
    "    print(\"Null values:\\n\", df.isna().sum())\n",
    "    print(\"-\" * 50)\n",
    "\n",
    "    # Duplicate rows\n",
    "    print(\"Duplicate rows:\", df.duplicated().sum())\n",
    "    print(\"-\" * 50)\n"
   ]
  },
  {
   "cell_type": "code",
   "execution_count": 13,
   "metadata": {
    "execution": {
     "iopub.execute_input": "2025-05-16T02:54:34.265369Z",
     "iopub.status.busy": "2025-05-16T02:54:34.265130Z",
     "iopub.status.idle": "2025-05-16T02:54:34.278980Z",
     "shell.execute_reply": "2025-05-16T02:54:34.278407Z",
     "shell.execute_reply.started": "2025-05-16T02:54:34.265347Z"
    },
    "trusted": true
   },
   "outputs": [],
   "source": [
    "from unsloth.chat_templates import get_chat_template\n",
    "from datasets import Dataset\n",
    "\n",
    "instruction = \"\"\"You are a helpful and knowledgeable medical expert. You provide clear, accurate, and empathetic answers to health-related questions based on current medical guidelines and research. You should be always respectful to individual concerns, and prioritize patient safety.\"\"\"\n",
    "\n",
    "def format_chat_template(row):\n",
    "\n",
    "    row_json = [{\"role\": \"system\", \"content\": instruction },\n",
    "               {\"role\": \"user\", \"content\": row['input']},\n",
    "               {\"role\": \"assistant\", \"content\": row['output']}]\n",
    "    \n",
    "    row[\"text\"] = tokenizer.apply_chat_template(row_json, tokenize=False)\n",
    "    return row"
   ]
  },
  {
   "cell_type": "markdown",
   "metadata": {},
   "source": [
    "## Load Dataset"
   ]
  },
  {
   "cell_type": "code",
   "execution_count": 14,
   "metadata": {
    "execution": {
     "iopub.execute_input": "2025-05-16T02:54:37.166003Z",
     "iopub.status.busy": "2025-05-16T02:54:37.165719Z",
     "iopub.status.idle": "2025-05-16T02:54:41.485060Z",
     "shell.execute_reply": "2025-05-16T02:54:41.484512Z",
     "shell.execute_reply.started": "2025-05-16T02:54:37.165983Z"
    },
    "trusted": true
   },
   "outputs": [
    {
     "data": {
      "application/vnd.jupyter.widget-view+json": {
       "model_id": "c819e52d88a146bda7f9a4e07d26f74c",
       "version_major": 2,
       "version_minor": 0
      },
      "text/plain": [
       "README.md:   0%|          | 0.00/653 [00:00<?, ?B/s]"
      ]
     },
     "metadata": {},
     "output_type": "display_data"
    },
    {
     "data": {
      "application/vnd.jupyter.widget-view+json": {
       "model_id": "75d9a3dfa88a448c9dc7349f261b35bf",
       "version_major": 2,
       "version_minor": 0
      },
      "text/plain": [
       "medical_meadow_mediqa.json:   0%|          | 0.00/15.8M [00:00<?, ?B/s]"
      ]
     },
     "metadata": {},
     "output_type": "display_data"
    },
    {
     "data": {
      "application/vnd.jupyter.widget-view+json": {
       "model_id": "a7a8d3715a704a53beeafe29b3736971",
       "version_major": 2,
       "version_minor": 0
      },
      "text/plain": [
       "Generating train split:   0%|          | 0/2208 [00:00<?, ? examples/s]"
      ]
     },
     "metadata": {},
     "output_type": "display_data"
    },
    {
     "name": "stdout",
     "output_type": "stream",
     "text": [
      "Dataset({\n",
      "    features: ['output', 'input', 'instruction'],\n",
      "    num_rows: 1766\n",
      "})\n",
      "Dataset({\n",
      "    features: ['output', 'input', 'instruction'],\n",
      "    num_rows: 442\n",
      "})\n"
     ]
    }
   ],
   "source": [
    "from datasets import load_dataset\n",
    "dataset = load_dataset(\"InferenceLab/medical_qa_mediqa\")\n",
    "### split test and train\n",
    "split_dataset = dataset['train'].train_test_split(test_size=0.2, seed=42)\n",
    "df_train = split_dataset[\"train\"]\n",
    "df_test = split_dataset[\"test\"]\n",
    "print(df_train)\n",
    "print(df_test)"
   ]
  },
  {
   "cell_type": "markdown",
   "metadata": {},
   "source": [
    "## Train Dataset"
   ]
  },
  {
   "cell_type": "code",
   "execution_count": 15,
   "metadata": {
    "execution": {
     "iopub.execute_input": "2025-05-16T02:54:42.821131Z",
     "iopub.status.busy": "2025-05-16T02:54:42.820538Z",
     "iopub.status.idle": "2025-05-16T02:54:42.896696Z",
     "shell.execute_reply": "2025-05-16T02:54:42.895971Z",
     "shell.execute_reply.started": "2025-05-16T02:54:42.821109Z"
    },
    "trusted": true
   },
   "outputs": [
    {
     "name": "stdout",
     "output_type": "stream",
     "text": [
      "Shape: (1766, 3)\n",
      "Columns: ['output', 'input', 'instruction']\n",
      "\n",
      "Data Types and Non-Null Info:\n",
      "<class 'pandas.core.frame.DataFrame'>\n",
      "RangeIndex: 1766 entries, 0 to 1765\n",
      "Data columns (total 3 columns):\n",
      " #   Column       Non-Null Count  Dtype \n",
      "---  ------       --------------  ----- \n",
      " 0   output       1766 non-null   object\n",
      " 1   input        1766 non-null   object\n",
      " 2   instruction  1766 non-null   object\n",
      "dtypes: object(3)\n",
      "memory usage: 41.5+ KB\n",
      "None\n",
      "--------------------------------------------------\n",
      "Null values:\n",
      " output         0\n",
      "input          0\n",
      "instruction    0\n",
      "dtype: int64\n",
      "--------------------------------------------------\n",
      "Duplicate rows: 106\n",
      "--------------------------------------------------\n"
     ]
    },
    {
     "data": {
      "text/html": [
       "<div>\n",
       "<style scoped>\n",
       "    .dataframe tbody tr th:only-of-type {\n",
       "        vertical-align: middle;\n",
       "    }\n",
       "\n",
       "    .dataframe tbody tr th {\n",
       "        vertical-align: top;\n",
       "    }\n",
       "\n",
       "    .dataframe thead th {\n",
       "        text-align: right;\n",
       "    }\n",
       "</style>\n",
       "<table border=\"1\" class=\"dataframe\">\n",
       "  <thead>\n",
       "    <tr style=\"text-align: right;\">\n",
       "      <th></th>\n",
       "      <th>output</th>\n",
       "      <th>input</th>\n",
       "      <th>instruction</th>\n",
       "    </tr>\n",
       "  </thead>\n",
       "  <tbody>\n",
       "    <tr>\n",
       "      <th>0</th>\n",
       "      <td>Endometriosis is when the kind of tissue that ...</td>\n",
       "      <td>What is Endometriosis?: Endometriosis is a pro...</td>\n",
       "      <td>How bad can endometriosis get?</td>\n",
       "    </tr>\n",
       "    <tr>\n",
       "      <th>1</th>\n",
       "      <td>The causes of obsessive-compulsive disorder ar...</td>\n",
       "      <td>Obsessive-compulsive disorder (OCD) (Causes): ...</td>\n",
       "      <td>what is the cause of ocd</td>\n",
       "    </tr>\n",
       "    <tr>\n",
       "      <th>2</th>\n",
       "      <td>The risk of lung cancer is increased by smokin...</td>\n",
       "      <td>Lung cancer (Causes): Lung cancer is the deadl...</td>\n",
       "      <td>how to prevent lung cancer</td>\n",
       "    </tr>\n",
       "    <tr>\n",
       "      <th>3</th>\n",
       "      <td>Oleander poisoning occurs when someone eats th...</td>\n",
       "      <td>Oleander poisoning Rosebay poisoning Yellow o...</td>\n",
       "      <td>If oleandor was ingested by touching the plant...</td>\n",
       "    </tr>\n",
       "    <tr>\n",
       "      <th>4</th>\n",
       "      <td>Pulmonary hypertension is a type of high blood...</td>\n",
       "      <td>Pulmonary hypertension: Pulmonary hypertension...</td>\n",
       "      <td>what are the causes of pulmonary hypertension</td>\n",
       "    </tr>\n",
       "  </tbody>\n",
       "</table>\n",
       "</div>"
      ],
      "text/plain": [
       "                                              output  \\\n",
       "0  Endometriosis is when the kind of tissue that ...   \n",
       "1  The causes of obsessive-compulsive disorder ar...   \n",
       "2  The risk of lung cancer is increased by smokin...   \n",
       "3  Oleander poisoning occurs when someone eats th...   \n",
       "4  Pulmonary hypertension is a type of high blood...   \n",
       "\n",
       "                                               input  \\\n",
       "0  What is Endometriosis?: Endometriosis is a pro...   \n",
       "1  Obsessive-compulsive disorder (OCD) (Causes): ...   \n",
       "2  Lung cancer (Causes): Lung cancer is the deadl...   \n",
       "3   Oleander poisoning Rosebay poisoning Yellow o...   \n",
       "4  Pulmonary hypertension: Pulmonary hypertension...   \n",
       "\n",
       "                                         instruction  \n",
       "0                     How bad can endometriosis get?  \n",
       "1                           what is the cause of ocd  \n",
       "2                         how to prevent lung cancer  \n",
       "3  If oleandor was ingested by touching the plant...  \n",
       "4      what are the causes of pulmonary hypertension  "
      ]
     },
     "execution_count": 15,
     "metadata": {},
     "output_type": "execute_result"
    }
   ],
   "source": [
    "df = df_train.to_pandas()\n",
    "visualize_data(df)\n",
    "df.head()"
   ]
  },
  {
   "cell_type": "code",
   "execution_count": 16,
   "metadata": {
    "execution": {
     "iopub.execute_input": "2025-05-16T02:54:45.897867Z",
     "iopub.status.busy": "2025-05-16T02:54:45.897604Z",
     "iopub.status.idle": "2025-05-16T02:55:25.224188Z",
     "shell.execute_reply": "2025-05-16T02:55:25.223461Z",
     "shell.execute_reply.started": "2025-05-16T02:54:45.897849Z"
    },
    "trusted": true
   },
   "outputs": [
    {
     "name": "stdout",
     "output_type": "stream",
     "text": [
      "==((====))==  Unsloth 2025.5.4: Fast Llama patching. Transformers: 4.51.3.\n",
      "   \\\\   /|    Tesla P100-PCIE-16GB. Num GPUs = 1. Max memory: 15.888 GB. Platform: Linux.\n",
      "O^O/ \\_/ \\    Torch: 2.6.0+cu124. CUDA: 6.0. CUDA Toolkit: 12.4. Triton: 3.2.0\n",
      "\\        /    Bfloat16 = FALSE. FA [Xformers = 0.0.29.post3. FA2 = False]\n",
      " \"-____-\"     Free license: http://github.com/unslothai/unsloth\n",
      "Unsloth: Fast downloading is enabled - ignore downloading bars which are red colored!\n"
     ]
    },
    {
     "data": {
      "application/vnd.jupyter.widget-view+json": {
       "model_id": "3055c9d687db469188111634c52da1e8",
       "version_major": 2,
       "version_minor": 0
      },
      "text/plain": [
       "model.safetensors:   0%|          | 0.00/2.35G [00:00<?, ?B/s]"
      ]
     },
     "metadata": {},
     "output_type": "display_data"
    },
    {
     "data": {
      "application/vnd.jupyter.widget-view+json": {
       "model_id": "a00ea1da49a34bce8fcbd40c4a7d70e6",
       "version_major": 2,
       "version_minor": 0
      },
      "text/plain": [
       "generation_config.json:   0%|          | 0.00/234 [00:00<?, ?B/s]"
      ]
     },
     "metadata": {},
     "output_type": "display_data"
    },
    {
     "data": {
      "application/vnd.jupyter.widget-view+json": {
       "model_id": "d0e63cadb8834f75a03d7f7307978b90",
       "version_major": 2,
       "version_minor": 0
      },
      "text/plain": [
       "tokenizer_config.json:   0%|          | 0.00/54.7k [00:00<?, ?B/s]"
      ]
     },
     "metadata": {},
     "output_type": "display_data"
    },
    {
     "data": {
      "application/vnd.jupyter.widget-view+json": {
       "model_id": "4b30726f70474319b256b78fecfd6895",
       "version_major": 2,
       "version_minor": 0
      },
      "text/plain": [
       "tokenizer.json:   0%|          | 0.00/17.2M [00:00<?, ?B/s]"
      ]
     },
     "metadata": {},
     "output_type": "display_data"
    },
    {
     "data": {
      "application/vnd.jupyter.widget-view+json": {
       "model_id": "6b6ff5170f5e4ccc9f1e6ca2608ba51f",
       "version_major": 2,
       "version_minor": 0
      },
      "text/plain": [
       "special_tokens_map.json:   0%|          | 0.00/454 [00:00<?, ?B/s]"
      ]
     },
     "metadata": {},
     "output_type": "display_data"
    }
   ],
   "source": [
    "# 1. Load model and tokenizer\n",
    "model, tokenizer = load_model_and_tokenizer()"
   ]
  },
  {
   "cell_type": "code",
   "execution_count": 17,
   "metadata": {
    "execution": {
     "iopub.execute_input": "2025-05-16T02:55:25.225719Z",
     "iopub.status.busy": "2025-05-16T02:55:25.225482Z",
     "iopub.status.idle": "2025-05-16T02:55:27.395596Z",
     "shell.execute_reply": "2025-05-16T02:55:27.394687Z",
     "shell.execute_reply.started": "2025-05-16T02:55:25.225692Z"
    },
    "trusted": true
   },
   "outputs": [
    {
     "data": {
      "application/vnd.jupyter.widget-view+json": {
       "model_id": "44b1737368aa4c4e9a556d5f94f1f959",
       "version_major": 2,
       "version_minor": 0
      },
      "text/plain": [
       "Map (num_proc=4):   0%|          | 0/1766 [00:00<?, ? examples/s]"
      ]
     },
     "metadata": {},
     "output_type": "display_data"
    },
    {
     "name": "stdout",
     "output_type": "stream",
     "text": [
      "1766 <|begin_of_text|><|start_header_id|>system<|end_header_id|>\n",
      "\n",
      "Cutting Knowledge Date: December 2023\n",
      "Today Date: 16 May 2025\n",
      "\n",
      "You are a helpful and knowledgeable medical expert. You provide clear, accurate, and empathetic answers to health-related questions based on current medical guidelines and research. You should be always respectful to individual concerns, and prioritize patient safety.<|eot_id|><|start_header_id|>user<|end_header_id|>\n",
      "\n",
      "What is Endometriosis?: Endometriosis is a problem affecting a woman's uterus - the place where a baby grows when she's pregnant. Endometriosis is when the kind of tissue that normally lines the uterus grows somewhere else. It can grow on the ovaries, behind the uterus or on the bowels or bladder. Rarely, it grows in other parts of the body.     This \"misplaced\" tissue can cause pain, infertility, and very heavy periods. The pain is usually in the abdomen, lower back or pelvic areas. Some women have no symptoms at all. Having trouble getting pregnant may be the first sign.     The cause of endometriosis is not known. Pain medicines and hormones often help. Severe cases may need surgery. There are also treatments to improve fertility in women with endometriosis.<|eot_id|><|start_header_id|>assistant<|end_header_id|>\n",
      "\n",
      "Endometriosis is when the kind of tissue that normally lines the uterus grows somewhere else. It can grow on the ovaries, behind the uterus or on the bowels or bladder. This \"misplaced\" tissue can cause pain, infertility, and very heavy periods. The pain is usually in the abdomen, lower back or pelvic areas. Having trouble getting pregnant may be the first sign. Pain medicines and hormones often help. Severe cases may need surgery. There are also treatments to improve fertility in women with endometriosis.<|eot_id|>\n"
     ]
    }
   ],
   "source": [
    "train_dataset = df_train.map(\n",
    "    format_chat_template,\n",
    "    num_proc= 4,\n",
    ")\n",
    "print(len(train_dataset), train_dataset[\"text\"][0])"
   ]
  },
  {
   "cell_type": "markdown",
   "metadata": {},
   "source": [
    "## Test Data"
   ]
  },
  {
   "cell_type": "code",
   "execution_count": 18,
   "metadata": {
    "execution": {
     "iopub.execute_input": "2025-05-16T02:55:27.397075Z",
     "iopub.status.busy": "2025-05-16T02:55:27.396759Z",
     "iopub.status.idle": "2025-05-16T02:55:28.055684Z",
     "shell.execute_reply": "2025-05-16T02:55:28.054534Z",
     "shell.execute_reply.started": "2025-05-16T02:55:27.397041Z"
    },
    "trusted": true
   },
   "outputs": [
    {
     "data": {
      "application/vnd.jupyter.widget-view+json": {
       "model_id": "3f3a626a11974456bf6837a1a27c92ce",
       "version_major": 2,
       "version_minor": 0
      },
      "text/plain": [
       "Map (num_proc=4):   0%|          | 0/442 [00:00<?, ? examples/s]"
      ]
     },
     "metadata": {},
     "output_type": "display_data"
    },
    {
     "name": "stdout",
     "output_type": "stream",
     "text": [
      "442 <|begin_of_text|><|start_header_id|>system<|end_header_id|>\n",
      "\n",
      "Cutting Knowledge Date: December 2023\n",
      "Today Date: 16 May 2025\n",
      "\n",
      "You are a helpful and knowledgeable medical expert. You provide clear, accurate, and empathetic answers to health-related questions based on current medical guidelines and research. You should be always respectful to individual concerns, and prioritize patient safety.<|eot_id|><|start_header_id|>user<|end_header_id|>\n",
      "\n",
      "What is Hepatitis C?: Your liver is the largest organ inside your body. It helps your body digest food, store energy, and remove poisons. Hepatitis is an inflammation of the liver. One type, hepatitis C, is caused by the hepatitis C virus (HCV). It usually spreads through contact with infected blood. It can also spread through sex with an infected person and from mother to baby during childbirth.    Most people who are infected with hepatitis C don't have any symptoms for years. If you do get symptoms, you may feel as if you have the flu. You may also have jaundice, a yellowing of skin and eyes, dark-colored urine, and pale bowel movements. A blood test can tell if you have it. Usually, hepatitis C does not get better by itself. The infection can last a lifetime and may lead to scarring of the liver or liver cancer. Medicines sometimes help, but side effects can be a problem. Serious cases may need a liver transplant.    There is no vaccine for HCV.    NIH: National Institute of Diabetes and Digestive and Kidney Diseases<|eot_id|><|start_header_id|>assistant<|end_header_id|>\n",
      "\n",
      "Hepatitis C can be spread through contact with blood already infected by the virus. It can be spread through sex sex with an affected individual, or from the mother to her child during birth.<|eot_id|>\n"
     ]
    }
   ],
   "source": [
    "test_dataset = df_test.map(\n",
    "    format_chat_template,\n",
    "    num_proc= 4,\n",
    ")\n",
    "print(len(test_dataset), test_dataset[\"text\"][1])"
   ]
  },
  {
   "cell_type": "markdown",
   "metadata": {},
   "source": [
    "## Set Model and Trainer"
   ]
  },
  {
   "cell_type": "code",
   "execution_count": 19,
   "metadata": {
    "execution": {
     "iopub.execute_input": "2025-05-16T02:55:28.057713Z",
     "iopub.status.busy": "2025-05-16T02:55:28.057475Z",
     "iopub.status.idle": "2025-05-16T02:55:42.910790Z",
     "shell.execute_reply": "2025-05-16T02:55:42.909994Z",
     "shell.execute_reply.started": "2025-05-16T02:55:28.057689Z"
    },
    "trusted": true
   },
   "outputs": [
    {
     "name": "stdout",
     "output_type": "stream",
     "text": [
      "==((====))==  Unsloth 2025.5.4: Fast Llama patching. Transformers: 4.51.3.\n",
      "   \\\\   /|    Tesla P100-PCIE-16GB. Num GPUs = 1. Max memory: 15.888 GB. Platform: Linux.\n",
      "O^O/ \\_/ \\    Torch: 2.6.0+cu124. CUDA: 6.0. CUDA Toolkit: 12.4. Triton: 3.2.0\n",
      "\\        /    Bfloat16 = FALSE. FA [Xformers = 0.0.29.post3. FA2 = False]\n",
      " \"-____-\"     Free license: http://github.com/unslothai/unsloth\n",
      "Unsloth: Fast downloading is enabled - ignore downloading bars which are red colored!\n"
     ]
    },
    {
     "name": "stderr",
     "output_type": "stream",
     "text": [
      "Unsloth: Dropout = 0 is supported for fast patching. You are using dropout = 0.1.\n",
      "Unsloth will patch all other layers, except LoRA matrices, causing a performance hit.\n",
      "Unsloth 2025.5.4 patched 28 layers with 0 QKV layers, 0 O layers and 0 MLP layers.\n"
     ]
    }
   ],
   "source": [
    "# 1. Load model and tokenizer\n",
    "model, tokenizer = load_model_and_tokenizer()\n",
    "\n",
    "# 2. Apply LoRA\n",
    "model = apply_lora(model)"
   ]
  },
  {
   "cell_type": "code",
   "execution_count": 21,
   "metadata": {
    "execution": {
     "iopub.execute_input": "2025-05-16T02:55:58.277474Z",
     "iopub.status.busy": "2025-05-16T02:55:58.276697Z",
     "iopub.status.idle": "2025-05-16T02:55:58.940218Z",
     "shell.execute_reply": "2025-05-16T02:55:58.939683Z",
     "shell.execute_reply.started": "2025-05-16T02:55:58.277442Z"
    },
    "trusted": true
   },
   "outputs": [],
   "source": [
    "# 3. Create trainer\n",
    "training_args = {\n",
    "    \"per_device_eval_batch_size\": 6,  ## test batch size should fit in GPU ## all batches get tested at once\n",
    "    \"per_device_train_batch_size\": 6,  ## train batch size should fit in GPU\n",
    "    \"gradient_accumulation_steps\": 4,\n",
    "    \"eval_strategy\": \"steps\",\n",
    "    \"eval_steps\": 5,\n",
    "    \"early_stopping_patience\": 3,\n",
    "    \"logging_steps\": 1,\n",
    "    \"save_steps\": 10,                  ## total steps = (len(train_dataset)//(per_device_train_batch_size*gradient_accumulation_steps))  \n",
    "    \"warmup_steps\": 5,\n",
    "    \"num_train_epochs\": 1,\n",
    "    \"learning_rate\": 1e-5,\n",
    "    \"weight_decay\": 0.01,\n",
    "    \"lr_scheduler_type\": \"linear\",\n",
    "    \"seed\": 3407,\n",
    "    \"output_dir\": \"outputs\",\n",
    "    \"report_to\": \"none\",               ## use for wandb etc\n",
    "    \"optim\": \"adamw_8bit\",\n",
    "    \"max_seq_length\": 2048,\n",
    "    \"dataset_num_proc\": 2,\n",
    "    \"packing\": False,\n",
    "    \"dataset_text_field\": \"text\",\n",
    "    \"instruction_part\": \"<|start_header_id|>user<|end_header_id|>\\n\\n\",\n",
    "    \"response_part\": \"<|start_header_id|>assistant<|end_header_id|>\\n\\n\",\n",
    "}\n",
    "\n",
    "trainer = create_trainer(model, tokenizer, train_dataset, test_dataset, training_args)\n"
   ]
  },
  {
   "cell_type": "markdown",
   "metadata": {},
   "source": [
    "## Begin Training"
   ]
  },
  {
   "cell_type": "code",
   "execution_count": 22,
   "metadata": {
    "execution": {
     "iopub.execute_input": "2025-05-16T02:56:02.030042Z",
     "iopub.status.busy": "2025-05-16T02:56:02.029271Z",
     "iopub.status.idle": "2025-05-16T09:47:45.287402Z",
     "shell.execute_reply": "2025-05-16T09:47:45.286750Z",
     "shell.execute_reply.started": "2025-05-16T02:56:02.030020Z"
    },
    "trusted": true
   },
   "outputs": [
    {
     "name": "stderr",
     "output_type": "stream",
     "text": [
      "==((====))==  Unsloth - 2x faster free finetuning | Num GPUs used = 1\n",
      "   \\\\   /|    Num examples = 1,766 | Num Epochs = 1 | Total steps = 73\n",
      "O^O/ \\_/ \\    Batch size per device = 6 | Gradient accumulation steps = 4\n",
      "\\        /    Data Parallel GPUs = 1 | Total batch size (6 x 4 x 1) = 24\n",
      " \"-____-\"     Trainable parameters = 24,313,856/3,000,000,000 (0.81% trained)\n"
     ]
    },
    {
     "name": "stdout",
     "output_type": "stream",
     "text": [
      "Unsloth: Will smartly offload gradients to save VRAM!\n"
     ]
    },
    {
     "data": {
      "text/html": [
       "\n",
       "    <div>\n",
       "      \n",
       "      <progress value='73' max='73' style='width:300px; height:20px; vertical-align: middle;'></progress>\n",
       "      [73/73 6:48:59, Epoch 0/1]\n",
       "    </div>\n",
       "    <table border=\"1\" class=\"dataframe\">\n",
       "  <thead>\n",
       " <tr style=\"text-align: left;\">\n",
       "      <th>Step</th>\n",
       "      <th>Training Loss</th>\n",
       "      <th>Validation Loss</th>\n",
       "    </tr>\n",
       "  </thead>\n",
       "  <tbody>\n",
       "    <tr>\n",
       "      <td>5</td>\n",
       "      <td>0.452700</td>\n",
       "      <td>0.651569</td>\n",
       "    </tr>\n",
       "    <tr>\n",
       "      <td>10</td>\n",
       "      <td>0.510900</td>\n",
       "      <td>0.632964</td>\n",
       "    </tr>\n",
       "    <tr>\n",
       "      <td>15</td>\n",
       "      <td>0.711500</td>\n",
       "      <td>0.610084</td>\n",
       "    </tr>\n",
       "    <tr>\n",
       "      <td>20</td>\n",
       "      <td>0.739800</td>\n",
       "      <td>0.588070</td>\n",
       "    </tr>\n",
       "    <tr>\n",
       "      <td>25</td>\n",
       "      <td>0.508800</td>\n",
       "      <td>0.568010</td>\n",
       "    </tr>\n",
       "    <tr>\n",
       "      <td>30</td>\n",
       "      <td>0.444500</td>\n",
       "      <td>0.550989</td>\n",
       "    </tr>\n",
       "    <tr>\n",
       "      <td>35</td>\n",
       "      <td>0.430000</td>\n",
       "      <td>0.536877</td>\n",
       "    </tr>\n",
       "    <tr>\n",
       "      <td>40</td>\n",
       "      <td>0.403900</td>\n",
       "      <td>0.525322</td>\n",
       "    </tr>\n",
       "    <tr>\n",
       "      <td>45</td>\n",
       "      <td>0.500000</td>\n",
       "      <td>0.515921</td>\n",
       "    </tr>\n",
       "    <tr>\n",
       "      <td>50</td>\n",
       "      <td>0.429700</td>\n",
       "      <td>0.508760</td>\n",
       "    </tr>\n",
       "    <tr>\n",
       "      <td>55</td>\n",
       "      <td>0.387600</td>\n",
       "      <td>0.503643</td>\n",
       "    </tr>\n",
       "    <tr>\n",
       "      <td>60</td>\n",
       "      <td>0.646700</td>\n",
       "      <td>0.500062</td>\n",
       "    </tr>\n",
       "    <tr>\n",
       "      <td>65</td>\n",
       "      <td>0.333200</td>\n",
       "      <td>0.497770</td>\n",
       "    </tr>\n",
       "    <tr>\n",
       "      <td>70</td>\n",
       "      <td>0.531800</td>\n",
       "      <td>0.496543</td>\n",
       "    </tr>\n",
       "  </tbody>\n",
       "</table><p>"
      ],
      "text/plain": [
       "<IPython.core.display.HTML object>"
      ]
     },
     "metadata": {},
     "output_type": "display_data"
    },
    {
     "name": "stderr",
     "output_type": "stream",
     "text": [
      "Unsloth: Not an error, but LlamaForCausalLM does not accept `num_items_in_batch`.\n",
      "Using gradient accumulation will be very slightly less accurate.\n",
      "Read more on gradient accumulation issues here: https://unsloth.ai/blog/gradient\n"
     ]
    }
   ],
   "source": [
    "# 4. Train model\n",
    "trainer_stats = train_model(trainer)"
   ]
  },
  {
   "cell_type": "code",
   "execution_count": 34,
   "metadata": {
    "execution": {
     "iopub.execute_input": "2025-05-16T09:57:54.781123Z",
     "iopub.status.busy": "2025-05-16T09:57:54.780878Z",
     "iopub.status.idle": "2025-05-16T09:57:55.164053Z",
     "shell.execute_reply": "2025-05-16T09:57:55.163344Z",
     "shell.execute_reply.started": "2025-05-16T09:57:54.781106Z"
    },
    "trusted": true
   },
   "outputs": [
    {
     "data": {
      "image/png": "[encoded data removed]",
      "text/plain": [
       "<Figure size 1000x1000 with 2 Axes>"
      ]
     },
     "metadata": {},
     "output_type": "display_data"
    }
   ],
   "source": [
    "import matplotlib.pyplot as plt\n",
    "\n",
    "# Collect logs\n",
    "logs = trainer.state.log_history\n",
    "\n",
    "# Initialize lists for plotting\n",
    "train_loss = []\n",
    "eval_loss = []\n",
    "eval_steps = []\n",
    "train_steps = []\n",
    "\n",
    "# Extract values from logs\n",
    "for entry in logs:\n",
    "    if 'loss' in entry and 'step' in entry:\n",
    "        train_loss.append(entry['loss'])\n",
    "        train_steps.append(entry['step'])\n",
    "    if 'eval_loss' in entry:\n",
    "        eval_loss.append(entry['eval_loss'])\n",
    "        eval_steps.append(entry['step'])\n",
    "\n",
    "# Create subplots\n",
    "fig, axs = plt.subplots(2, 1, figsize=(10, 10))\n",
    "\n",
    "# Plot Training Loss\n",
    "axs[0].plot(train_steps, train_loss, color='blue', label=\"Training Loss\")\n",
    "axs[0].set_title(\"Training Loss Over Steps\")\n",
    "axs[0].set_xlabel(\"Steps\")\n",
    "axs[0].set_ylabel(\"Loss\")\n",
    "axs[0].legend()\n",
    "axs[0].grid(True)\n",
    "\n",
    "# Plot Evaluation Loss\n",
    "axs[1].plot(eval_steps, eval_loss, color='orange', label=\"Evaluation Loss\")\n",
    "axs[1].set_title(\"Evaluation Loss Over Steps\")\n",
    "axs[1].set_xlabel(\"Steps\")\n",
    "axs[1].set_ylabel(\"Loss\")\n",
    "axs[1].legend()\n",
    "axs[1].grid(True)\n",
    "\n",
    "# Adjust layout\n",
    "plt.tight_layout()\n",
    "plt.show()\n"
   ]
  },
  {
   "cell_type": "markdown",
   "metadata": {},
   "source": [
    "## Save the Lora Adaptor Locally"
   ]
  },
  {
   "cell_type": "code",
   "execution_count": null,
   "metadata": {
    "execution": {
     "iopub.execute_input": "2025-05-16T09:49:21.599004Z",
     "iopub.status.busy": "2025-05-16T09:49:21.598725Z",
     "iopub.status.idle": "2025-05-16T09:49:23.170903Z",
     "shell.execute_reply": "2025-05-16T09:49:23.170124Z",
     "shell.execute_reply.started": "2025-05-16T09:49:21.598971Z"
    },
    "trusted": true
   },
   "outputs": [
    {
     "data": {
      "application/vnd.jupyter.widget-view+json": {
       "model_id": "9e3a978b54494941bde51814e8762cec",
       "version_major": 2,
       "version_minor": 0
      },
      "text/plain": [
       "config.json:   0%|          | 0.00/1.55k [00:00<?, ?B/s]"
      ]
     },
     "metadata": {},
     "output_type": "display_data"
    },
    {
     "data": {
      "text/plain": [
       "('lora_model/tokenizer_config.json',\n",
       " 'lora_model/special_tokens_map.json',\n",
       " 'lora_model/tokenizer.json')"
      ]
     },
     "execution_count": 28,
     "metadata": {},
     "output_type": "execute_result"
    }
   ],
   "source": [
    "model.save_pretrained(\"MediLlama-3.2-LoraAdaptors\")  \n",
    "tokenizer.save_pretrained(\"MediLlama-3.2-LoraAdaptors\")"
   ]
  },
  {
   "cell_type": "markdown",
   "metadata": {},
   "source": [
    "## Save Lora Adaptor to Hugging Hub"
   ]
  },
  {
   "cell_type": "code",
   "execution_count": null,
   "metadata": {
    "execution": {
     "iopub.execute_input": "2025-05-16T09:51:19.490777Z",
     "iopub.status.busy": "2025-05-16T09:51:19.490173Z",
     "iopub.status.idle": "2025-05-16T09:51:29.099740Z",
     "shell.execute_reply": "2025-05-16T09:51:29.099166Z",
     "shell.execute_reply.started": "2025-05-16T09:51:19.490753Z"
    },
    "trusted": true
   },
   "outputs": [],
   "source": [
    "model.push_to_hub(\"your_username/MediLlama-3.2-LoraAdaptors\", token = hf_token) # Online saving\n",
    "tokenizer.push_to_hub(\"your_username/MediLlama-3.2-LoraAdaptors\", token = hf_token) # Online saving"
   ]
  },
  {
   "cell_type": "markdown",
   "metadata": {},
   "source": [
    "## Merge Lora Adaptor with base model and save to Hub"
   ]
  },
  {
   "cell_type": "code",
   "execution_count": null,
   "metadata": {
    "execution": {
     "iopub.execute_input": "2025-05-16T09:54:12.430024Z",
     "iopub.status.busy": "2025-05-16T09:54:12.429268Z",
     "iopub.status.idle": "2025-05-16T09:57:31.724262Z",
     "shell.execute_reply": "2025-05-16T09:57:31.723633Z",
     "shell.execute_reply.started": "2025-05-16T09:54:12.430000Z"
    },
    "trusted": true
   },
   "outputs": [],
   "source": [
    "# Merge to 16bit\n",
    "model.save_pretrained_merged(\"MediLlama-3.2\", tokenizer, save_method = \"merged_16bit\",)\n",
    "model.push_to_hub_merged(\"your_username/MediLlama-3.2\", tokenizer, save_method = \"merged_16bit\", token = hf_token)"
   ]
  },
  {
   "cell_type": "code",
   "execution_count": null,
   "metadata": {
    "trusted": true
   },
   "outputs": [],
   "source": []
  }
 ],
 "metadata": {
  "kaggle": {
   "accelerator": "gpu",
   "dataSources": [],
   "dockerImageVersionId": 31041,
   "isGpuEnabled": true,
   "isInternetEnabled": true,
   "language": "python",
   "sourceType": "notebook"
  },
  "kernelspec": {
   "display_name": "Python 3",
   "language": "python",
   "name": "python3"
  },
  "language_info": {
   "codemirror_mode": {
    "name": "ipython",
    "version": 3
   },
   "file_extension": ".py",
   "mimetype": "text/x-python",
   "name": "python",
   "nbconvert_exporter": "python",
   "pygments_lexer": "ipython3",
   "version": "3.13.2"
  }
 },
 "nbformat": 4,
 "nbformat_minor": 4
}
