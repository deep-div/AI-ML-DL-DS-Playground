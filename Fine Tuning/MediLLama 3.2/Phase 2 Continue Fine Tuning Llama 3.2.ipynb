{
 "cells": [
  {
   "cell_type": "markdown",
   "metadata": {},
   "source": [
    "# Continue Fine Tuning MediLlama-3.2"
   ]
  },
  {
   "cell_type": "code",
   "execution_count": 1,
   "metadata": {
    "execution": {
     "iopub.execute_input": "2025-05-18T04:46:36.804277Z",
     "iopub.status.busy": "2025-05-18T04:46:36.803797Z",
     "iopub.status.idle": "2025-05-18T04:46:49.658193Z",
     "shell.execute_reply": "2025-05-18T04:46:49.657177Z",
     "shell.execute_reply.started": "2025-05-18T04:46:36.804253Z"
    },
    "trusted": true
   },
   "outputs": [],
   "source": [
    "%%capture\n",
    "%pip install --no-deps bitsandbytes accelerate xformers==0.0.29.post3 peft trl==0.15.2 triton cut_cross_entropy unsloth_zoo\n",
    "%pip install sentencepiece protobuf datasets huggingface_hub hf_transfer\n",
    "%pip install --no-deps unsloth"
   ]
  },
  {
   "cell_type": "code",
   "execution_count": 2,
   "metadata": {
    "execution": {
     "iopub.execute_input": "2025-05-18T04:46:49.660120Z",
     "iopub.status.busy": "2025-05-18T04:46:49.659859Z",
     "iopub.status.idle": "2025-05-18T04:46:49.663510Z",
     "shell.execute_reply": "2025-05-18T04:46:49.662916Z",
     "shell.execute_reply.started": "2025-05-18T04:46:49.660080Z"
    },
    "trusted": true
   },
   "outputs": [],
   "source": [
    "# import wandb\n",
    "# from kaggle_secrets import UserSecretsClient\n",
    "# user_secrets = UserSecretsClient()\n",
    "# wb_token = user_secrets.get_secret(\"wandb\")\n",
    "\n",
    "# wandb.login(key=wb_token)\n",
    "# run = wandb.init(\n",
    "#     project='Clinical-Llama-3.2-3B', \n",
    "#     job_type=\"training\", \n",
    "#     anonymous=\"allow\"\n",
    "# )"
   ]
  },
  {
   "cell_type": "code",
   "execution_count": 3,
   "metadata": {
    "execution": {
     "iopub.execute_input": "2025-05-18T04:46:49.664442Z",
     "iopub.status.busy": "2025-05-18T04:46:49.664225Z",
     "iopub.status.idle": "2025-05-18T04:46:50.383833Z",
     "shell.execute_reply": "2025-05-18T04:46:50.383135Z",
     "shell.execute_reply.started": "2025-05-18T04:46:49.664426Z"
    },
    "trusted": true
   },
   "outputs": [],
   "source": [
    "from huggingface_hub import login\n",
    "from kaggle_secrets import UserSecretsClient\n",
    "user_secrets = UserSecretsClient()\n",
    "\n",
    "hf_token = user_secrets.get_secret(\"HUGGINGFACE_TOKEN\")\n",
    "login(hf_token)"
   ]
  },
  {
   "cell_type": "markdown",
   "metadata": {},
   "source": [
    "## Load Lora Adaptors from Hub (Guide in Phase 1)"
   ]
  },
  {
   "cell_type": "code",
   "execution_count": 1,
   "metadata": {
    "execution": {
     "iopub.execute_input": "2025-05-18T04:46:50.385479Z",
     "iopub.status.busy": "2025-05-18T04:46:50.385251Z",
     "iopub.status.idle": "2025-05-18T04:46:52.245840Z",
     "shell.execute_reply": "2025-05-18T04:46:52.245153Z",
     "shell.execute_reply.started": "2025-05-18T04:46:50.385461Z"
    },
    "trusted": true
   },
   "outputs": [
    {
     "name": "stderr",
     "output_type": "stream",
     "text": [
      "Cloning into 'MediLlama-3.2-LoraAdaptors'...\n",
      "Updating files:  71% (5/7)\n",
      "Updating files:  85% (6/7)\n",
      "Updating files: 100% (7/7)\n",
      "Updating files: 100% (7/7), done.\n",
      "Filtering content: 100% (2/2)\n",
      "Filtering content: 100% (2/2), 109.21 MiB | 20.16 MiB/s, done.\n"
     ]
    }
   ],
   "source": [
    "!git clone https://huggingface.co/InferenceLab/MediLlama-3.2-LoraAdaptors"
   ]
  },
  {
   "cell_type": "code",
   "execution_count": 5,
   "metadata": {
    "execution": {
     "iopub.execute_input": "2025-05-18T04:46:52.247018Z",
     "iopub.status.busy": "2025-05-18T04:46:52.246780Z",
     "iopub.status.idle": "2025-05-18T04:47:28.738135Z",
     "shell.execute_reply": "2025-05-18T04:47:28.737480Z",
     "shell.execute_reply.started": "2025-05-18T04:46:52.246984Z"
    },
    "trusted": true
   },
   "outputs": [
    {
     "name": "stdout",
     "output_type": "stream",
     "text": [
      "🦥 Unsloth: Will patch your computer to enable 2x faster free finetuning.\n"
     ]
    },
    {
     "name": "stderr",
     "output_type": "stream",
     "text": [
      "2025-05-18 04:47:06.149042: E external/local_xla/xla/stream_executor/cuda/cuda_fft.cc:477] Unable to register cuFFT factory: Attempting to register factory for plugin cuFFT when one has already been registered\n",
      "WARNING: All log messages before absl::InitializeLog() is called are written to STDERR\n",
      "E0000 00:00:1747543626.336974      35 cuda_dnn.cc:8310] Unable to register cuDNN factory: Attempting to register factory for plugin cuDNN when one has already been registered\n",
      "E0000 00:00:1747543626.390208      35 cuda_blas.cc:1418] Unable to register cuBLAS factory: Attempting to register factory for plugin cuBLAS when one has already been registered\n"
     ]
    },
    {
     "name": "stdout",
     "output_type": "stream",
     "text": [
      "🦥 Unsloth Zoo will now patch everything to make training faster!\n"
     ]
    }
   ],
   "source": [
    "from unsloth import FastLanguageModel\n",
    "import torch\n",
    "from trl import SFTTrainer\n",
    "from transformers import TrainingArguments, DataCollatorForSeq2Seq\n",
    "from unsloth import is_bfloat16_supported\n",
    "from unsloth.chat_templates import train_on_responses_only\n",
    "\n",
    "def load_model_and_tokenizer(max_seq_length=2048, dtype=None, load_in_4bit=True):\n",
    "    model, tokenizer = FastLanguageModel.from_pretrained(\n",
    "        model_name=\"MediLlama-3.2-LoraAdaptors\",  ## Give path to your Lora Adaptor\n",
    "        max_seq_length=max_seq_length,\n",
    "        dtype=dtype,\n",
    "        load_in_4bit=load_in_4bit,\n",
    "    )\n",
    "    return model, tokenizer"
   ]
  },
  {
   "cell_type": "markdown",
   "metadata": {},
   "source": [
    "## Train Model Parameters"
   ]
  },
  {
   "cell_type": "code",
   "execution_count": 6,
   "metadata": {
    "execution": {
     "iopub.execute_input": "2025-05-18T04:47:28.739530Z",
     "iopub.status.busy": "2025-05-18T04:47:28.738933Z",
     "iopub.status.idle": "2025-05-18T04:47:28.748810Z",
     "shell.execute_reply": "2025-05-18T04:47:28.748313Z",
     "shell.execute_reply.started": "2025-05-18T04:47:28.739510Z"
    },
    "trusted": true
   },
   "outputs": [],
   "source": [
    "from transformers import EarlyStoppingCallback, TextStreamer, TrainingArguments\n",
    "\n",
    "def create_trainer(model, tokenizer, train_dataset,eval_dataset, training_args):\n",
    "    callbacks = [\n",
    "        EarlyStoppingCallback(training_args[\"early_stopping_patience\"]),\n",
    "    ]\n",
    "\n",
    "    args = TrainingArguments(\n",
    "        per_device_train_batch_size=training_args[\"per_device_train_batch_size\"],\n",
    "        per_device_eval_batch_size=training_args[\"per_device_eval_batch_size\"],\n",
    "        gradient_accumulation_steps=training_args[\"gradient_accumulation_steps\"],\n",
    "        logging_steps=training_args[\"logging_steps\"],\n",
    "        output_dir=training_args[\"output_dir\"],\n",
    "        save_strategy = \"steps\",\n",
    "        save_steps=training_args[\"save_steps\"],     ## Fine tuning from last checkpoint\n",
    "        warmup_steps=training_args[\"warmup_steps\"],\n",
    "        num_train_epochs=training_args[\"num_train_epochs\"],\n",
    "        learning_rate=training_args[\"learning_rate\"],\n",
    "        fp16=not is_bfloat16_supported(),\n",
    "        bf16=is_bfloat16_supported(),\n",
    "        weight_decay=training_args[\"weight_decay\"],\n",
    "        lr_scheduler_type=training_args[\"lr_scheduler_type\"],\n",
    "        seed=training_args[\"seed\"],\n",
    "        report_to=training_args[\"report_to\"],            ## wandb if want metrics\n",
    "        optim=training_args[\"optim\"],\n",
    "\n",
    "        # ✅ Fields related to Validation loss:\n",
    "        eval_strategy=training_args[\"eval_strategy\"],\n",
    "        eval_steps=training_args[\"eval_steps\"],\n",
    "        load_best_model_at_end=True,\n",
    "        metric_for_best_model=\"eval_loss\",  # Or \"eval_accuracy\", depending on your metric\n",
    "        greater_is_better=False,\n",
    "    )\n",
    "\n",
    "    trainer = SFTTrainer(\n",
    "        model=model,\n",
    "        tokenizer=tokenizer,\n",
    "        train_dataset= train_dataset, \n",
    "        eval_dataset= eval_dataset,\n",
    "        dataset_text_field=training_args[\"dataset_text_field\"],\n",
    "        max_seq_length=training_args[\"max_seq_length\"],\n",
    "        data_collator=DataCollatorForSeq2Seq(tokenizer=tokenizer),\n",
    "        dataset_num_proc=training_args[\"dataset_num_proc\"],\n",
    "        packing=training_args[\"packing\"],\n",
    "        args=args,\n",
    "        callbacks=callbacks\n",
    "    )\n",
    "\n",
    "    trainer = train_on_responses_only(\n",
    "        trainer,\n",
    "        instruction_part=training_args[\"instruction_part\"],\n",
    "        response_part=training_args[\"response_part\"],\n",
    "    )\n",
    "    return trainer\n"
   ]
  },
  {
   "cell_type": "code",
   "execution_count": 7,
   "metadata": {
    "execution": {
     "iopub.execute_input": "2025-05-18T04:47:28.749959Z",
     "iopub.status.busy": "2025-05-18T04:47:28.749549Z",
     "iopub.status.idle": "2025-05-18T04:47:28.767406Z",
     "shell.execute_reply": "2025-05-18T04:47:28.766766Z",
     "shell.execute_reply.started": "2025-05-18T04:47:28.749941Z"
    },
    "trusted": true
   },
   "outputs": [],
   "source": [
    "def train_model(trainer):\n",
    "    return trainer.train()"
   ]
  },
  {
   "cell_type": "markdown",
   "metadata": {},
   "source": [
    "## Run Model"
   ]
  },
  {
   "cell_type": "code",
   "execution_count": 8,
   "metadata": {
    "execution": {
     "iopub.execute_input": "2025-05-18T04:47:28.768213Z",
     "iopub.status.busy": "2025-05-18T04:47:28.767969Z",
     "iopub.status.idle": "2025-05-18T04:47:28.781515Z",
     "shell.execute_reply": "2025-05-18T04:47:28.780966Z",
     "shell.execute_reply.started": "2025-05-18T04:47:28.768196Z"
    },
    "trusted": true
   },
   "outputs": [],
   "source": [
    "def run_model(model, tokenizer, instruction, query):\n",
    "    FastLanguageModel.for_inference(model)\n",
    "    messages = [\n",
    "        {\"role\": \"system\", \"content\": instruction},\n",
    "        {\"role\": \"user\", \"content\": query},\n",
    "    ]\n",
    "    prompt = tokenizer.apply_chat_template(messages, tokenize=False, add_generation_prompt=True)\n",
    "    inputs = tokenizer(prompt, return_tensors='pt', padding=True, truncation=True).to(\"cuda\")\n",
    "    outputs = model.generate(**inputs, max_new_tokens=1500, num_return_sequences=1)\n",
    "    text = tokenizer.decode(outputs[0], skip_special_tokens=True)\n",
    "    return text"
   ]
  },
  {
   "cell_type": "markdown",
   "metadata": {},
   "source": [
    "## Preprocessing Data"
   ]
  },
  {
   "cell_type": "code",
   "execution_count": 9,
   "metadata": {
    "execution": {
     "iopub.execute_input": "2025-05-18T04:47:28.783545Z",
     "iopub.status.busy": "2025-05-18T04:47:28.783349Z",
     "iopub.status.idle": "2025-05-18T04:47:28.801927Z",
     "shell.execute_reply": "2025-05-18T04:47:28.801147Z",
     "shell.execute_reply.started": "2025-05-18T04:47:28.783531Z"
    },
    "trusted": true
   },
   "outputs": [],
   "source": [
    "def visualize_data(df):\n",
    "    print(\"Shape:\", df.shape)\n",
    "    print(\"Columns:\", df.columns.tolist())\n",
    "    print(\"\\nData Types and Non-Null Info:\")\n",
    "    print(df.info())\n",
    "    print(\"-\" * 50)\n",
    "\n",
    "    # Null value check\n",
    "    print(\"Null values:\\n\", df.isna().sum())\n",
    "    print(\"-\" * 50)\n",
    "\n",
    "    # Duplicate rows\n",
    "    print(\"Duplicate rows:\", df.duplicated().sum())\n",
    "    print(\"-\" * 50)\n"
   ]
  },
  {
   "cell_type": "code",
   "execution_count": 10,
   "metadata": {
    "execution": {
     "iopub.execute_input": "2025-05-18T04:47:28.803245Z",
     "iopub.status.busy": "2025-05-18T04:47:28.802651Z",
     "iopub.status.idle": "2025-05-18T04:47:28.816464Z",
     "shell.execute_reply": "2025-05-18T04:47:28.815915Z",
     "shell.execute_reply.started": "2025-05-18T04:47:28.803220Z"
    },
    "trusted": true
   },
   "outputs": [],
   "source": [
    "from unsloth.chat_templates import get_chat_template\n",
    "from datasets import Dataset\n",
    "\n",
    "instruction = \"\"\"You are a helpful and knowledgeable medical expert.\"\"\"\n",
    "\n",
    "def format_chat_template(row):\n",
    "\n",
    "    row_json = [{\"role\": \"system\", \"content\": instruction },\n",
    "               {\"role\": \"user\", \"content\": row['input']},\n",
    "               {\"role\": \"assistant\", \"content\": row['output']}]\n",
    "    \n",
    "    row[\"text\"] = tokenizer.apply_chat_template(row_json, tokenize=False)\n",
    "    return row"
   ]
  },
  {
   "cell_type": "markdown",
   "metadata": {},
   "source": [
    "## Load Dataset"
   ]
  },
  {
   "cell_type": "code",
   "execution_count": 11,
   "metadata": {
    "execution": {
     "iopub.execute_input": "2025-05-18T04:47:28.817557Z",
     "iopub.status.busy": "2025-05-18T04:47:28.817124Z",
     "iopub.status.idle": "2025-05-18T04:47:30.960924Z",
     "shell.execute_reply": "2025-05-18T04:47:30.960308Z",
     "shell.execute_reply.started": "2025-05-18T04:47:28.817540Z"
    },
    "trusted": true
   },
   "outputs": [
    {
     "data": {
      "application/vnd.jupyter.widget-view+json": {
       "model_id": "5346b18f605c4f98916ab0c81c21bd39",
       "version_major": 2,
       "version_minor": 0
      },
      "text/plain": [
       "README.md:   0%|          | 0.00/539 [00:00<?, ?B/s]"
      ]
     },
     "metadata": {},
     "output_type": "display_data"
    },
    {
     "data": {
      "application/vnd.jupyter.widget-view+json": {
       "model_id": "a8fdfe1b2a57458092cf5d51e0486f16",
       "version_major": 2,
       "version_minor": 0
      },
      "text/plain": [
       "train-00000-of-00001.parquet:   0%|          | 0.00/6.97M [00:00<?, ?B/s]"
      ]
     },
     "metadata": {},
     "output_type": "display_data"
    },
    {
     "data": {
      "application/vnd.jupyter.widget-view+json": {
       "model_id": "6d27694c3f744a37880183354d54a490",
       "version_major": 2,
       "version_minor": 0
      },
      "text/plain": [
       "Generating train split:   0%|          | 0/33955 [00:00<?, ? examples/s]"
      ]
     },
     "metadata": {},
     "output_type": "display_data"
    },
    {
     "name": "stdout",
     "output_type": "stream",
     "text": [
      "Dataset({\n",
      "    features: ['input', 'output', 'instruction'],\n",
      "    num_rows: 16000\n",
      "})\n",
      "Dataset({\n",
      "    features: ['input', 'output', 'instruction'],\n",
      "    num_rows: 4000\n",
      "})\n"
     ]
    }
   ],
   "source": [
    "from datasets import load_dataset\n",
    "dataset = load_dataset(\"InferenceLab/healthcare_terms_glossary\")\n",
    "dataset = dataset['train'].select(range(20000))\n",
    "### split test and train\n",
    "split_dataset = dataset.train_test_split(test_size=0.2, seed=42)\n",
    "df_train = split_dataset[\"train\"]\n",
    "df_test = split_dataset[\"test\"]\n",
    "print(df_train)\n",
    "print(df_test)"
   ]
  },
  {
   "cell_type": "markdown",
   "metadata": {},
   "source": [
    "## Train Dataset"
   ]
  },
  {
   "cell_type": "code",
   "execution_count": 12,
   "metadata": {
    "execution": {
     "iopub.execute_input": "2025-05-18T04:47:30.962199Z",
     "iopub.status.busy": "2025-05-18T04:47:30.961663Z",
     "iopub.status.idle": "2025-05-18T04:47:31.113905Z",
     "shell.execute_reply": "2025-05-18T04:47:31.113196Z",
     "shell.execute_reply.started": "2025-05-18T04:47:30.962179Z"
    },
    "trusted": true
   },
   "outputs": [
    {
     "name": "stdout",
     "output_type": "stream",
     "text": [
      "Shape: (16000, 3)\n",
      "Columns: ['input', 'output', 'instruction']\n",
      "\n",
      "Data Types and Non-Null Info:\n",
      "<class 'pandas.core.frame.DataFrame'>\n",
      "RangeIndex: 16000 entries, 0 to 15999\n",
      "Data columns (total 3 columns):\n",
      " #   Column       Non-Null Count  Dtype \n",
      "---  ------       --------------  ----- \n",
      " 0   input        16000 non-null  object\n",
      " 1   output       16000 non-null  object\n",
      " 2   instruction  16000 non-null  object\n",
      "dtypes: object(3)\n",
      "memory usage: 375.1+ KB\n",
      "None\n",
      "--------------------------------------------------\n",
      "Null values:\n",
      " input          0\n",
      "output         0\n",
      "instruction    0\n",
      "dtype: int64\n",
      "--------------------------------------------------\n",
      "Duplicate rows: 15\n",
      "--------------------------------------------------\n"
     ]
    },
    {
     "data": {
      "text/html": [
       "<div>\n",
       "<style scoped>\n",
       "    .dataframe tbody tr th:only-of-type {\n",
       "        vertical-align: middle;\n",
       "    }\n",
       "\n",
       "    .dataframe tbody tr th {\n",
       "        vertical-align: top;\n",
       "    }\n",
       "\n",
       "    .dataframe thead th {\n",
       "        text-align: right;\n",
       "    }\n",
       "</style>\n",
       "<table border=\"1\" class=\"dataframe\">\n",
       "  <thead>\n",
       "    <tr style=\"text-align: right;\">\n",
       "      <th></th>\n",
       "      <th>input</th>\n",
       "      <th>output</th>\n",
       "      <th>instruction</th>\n",
       "    </tr>\n",
       "  </thead>\n",
       "  <tbody>\n",
       "    <tr>\n",
       "      <th>0</th>\n",
       "      <td>What is biofeedback psychotherapy, and how doe...</td>\n",
       "      <td>Biofeedback psychotherapy is a type of therapy...</td>\n",
       "      <td>Answer this question truthfully</td>\n",
       "    </tr>\n",
       "    <tr>\n",
       "      <th>1</th>\n",
       "      <td>Which viral pathogens are most commonly associ...</td>\n",
       "      <td>Coxsackie B and Adenovirus are the viral patho...</td>\n",
       "      <td>Answer this question truthfully</td>\n",
       "    </tr>\n",
       "    <tr>\n",
       "      <th>2</th>\n",
       "      <td>What is the treatment for prolactinoma and wha...</td>\n",
       "      <td>Prolactinoma is a type of tumor that affects t...</td>\n",
       "      <td>Answer this question truthfully</td>\n",
       "    </tr>\n",
       "    <tr>\n",
       "      <th>3</th>\n",
       "      <td>What is the pudendal nerve, and how does it re...</td>\n",
       "      <td>The pudendal nerve is a nerve that originates ...</td>\n",
       "      <td>Answer this question truthfully</td>\n",
       "    </tr>\n",
       "    <tr>\n",
       "      <th>4</th>\n",
       "      <td>What strain of influenza is targeted by M2 cha...</td>\n",
       "      <td>M2 channel blockers, including rimantadine and...</td>\n",
       "      <td>Answer this question truthfully</td>\n",
       "    </tr>\n",
       "  </tbody>\n",
       "</table>\n",
       "</div>"
      ],
      "text/plain": [
       "                                               input  \\\n",
       "0  What is biofeedback psychotherapy, and how doe...   \n",
       "1  Which viral pathogens are most commonly associ...   \n",
       "2  What is the treatment for prolactinoma and wha...   \n",
       "3  What is the pudendal nerve, and how does it re...   \n",
       "4  What strain of influenza is targeted by M2 cha...   \n",
       "\n",
       "                                              output  \\\n",
       "0  Biofeedback psychotherapy is a type of therapy...   \n",
       "1  Coxsackie B and Adenovirus are the viral patho...   \n",
       "2  Prolactinoma is a type of tumor that affects t...   \n",
       "3  The pudendal nerve is a nerve that originates ...   \n",
       "4  M2 channel blockers, including rimantadine and...   \n",
       "\n",
       "                       instruction  \n",
       "0  Answer this question truthfully  \n",
       "1  Answer this question truthfully  \n",
       "2  Answer this question truthfully  \n",
       "3  Answer this question truthfully  \n",
       "4  Answer this question truthfully  "
      ]
     },
     "execution_count": 12,
     "metadata": {},
     "output_type": "execute_result"
    }
   ],
   "source": [
    "df = df_train.to_pandas()\n",
    "visualize_data(df)\n",
    "df.head()"
   ]
  },
  {
   "cell_type": "code",
   "execution_count": 13,
   "metadata": {
    "execution": {
     "iopub.execute_input": "2025-05-18T04:47:31.115252Z",
     "iopub.status.busy": "2025-05-18T04:47:31.114744Z",
     "iopub.status.idle": "2025-05-18T04:48:09.211251Z",
     "shell.execute_reply": "2025-05-18T04:48:09.210675Z",
     "shell.execute_reply.started": "2025-05-18T04:47:31.115232Z"
    },
    "trusted": true
   },
   "outputs": [
    {
     "name": "stdout",
     "output_type": "stream",
     "text": [
      "==((====))==  Unsloth 2025.5.6: Fast Llama patching. Transformers: 4.51.3.\n",
      "   \\\\   /|    Tesla P100-PCIE-16GB. Num GPUs = 1. Max memory: 15.888 GB. Platform: Linux.\n",
      "O^O/ \\_/ \\    Torch: 2.6.0+cu124. CUDA: 6.0. CUDA Toolkit: 12.4. Triton: 3.2.0\n",
      "\\        /    Bfloat16 = FALSE. FA [Xformers = 0.0.29.post3. FA2 = False]\n",
      " \"-____-\"     Free license: http://github.com/unslothai/unsloth\n",
      "Unsloth: Fast downloading is enabled - ignore downloading bars which are red colored!\n"
     ]
    },
    {
     "data": {
      "application/vnd.jupyter.widget-view+json": {
       "model_id": "6e6c99e2d00543929aaae92ff5e53817",
       "version_major": 2,
       "version_minor": 0
      },
      "text/plain": [
       "model.safetensors:   0%|          | 0.00/2.35G [00:00<?, ?B/s]"
      ]
     },
     "metadata": {},
     "output_type": "display_data"
    },
    {
     "data": {
      "application/vnd.jupyter.widget-view+json": {
       "model_id": "77d8dd347d7f417298ba40c988f438b7",
       "version_major": 2,
       "version_minor": 0
      },
      "text/plain": [
       "generation_config.json:   0%|          | 0.00/234 [00:00<?, ?B/s]"
      ]
     },
     "metadata": {},
     "output_type": "display_data"
    },
    {
     "name": "stderr",
     "output_type": "stream",
     "text": [
      "Unsloth 2025.5.6 patched 28 layers with 0 QKV layers, 0 O layers and 0 MLP layers.\n"
     ]
    }
   ],
   "source": [
    "# 1. Load model and tokenizer\n",
    "model, tokenizer = load_model_and_tokenizer()"
   ]
  },
  {
   "cell_type": "code",
   "execution_count": 14,
   "metadata": {
    "execution": {
     "iopub.execute_input": "2025-05-18T04:48:09.212441Z",
     "iopub.status.busy": "2025-05-18T04:48:09.212152Z",
     "iopub.status.idle": "2025-05-18T04:48:11.256224Z",
     "shell.execute_reply": "2025-05-18T04:48:11.255405Z",
     "shell.execute_reply.started": "2025-05-18T04:48:09.212415Z"
    },
    "trusted": true
   },
   "outputs": [
    {
     "data": {
      "application/vnd.jupyter.widget-view+json": {
       "model_id": "939f81037f284b018808aeea5b1cc234",
       "version_major": 2,
       "version_minor": 0
      },
      "text/plain": [
       "Map (num_proc=4):   0%|          | 0/16000 [00:00<?, ? examples/s]"
      ]
     },
     "metadata": {},
     "output_type": "display_data"
    },
    {
     "name": "stdout",
     "output_type": "stream",
     "text": [
      "16000 <|begin_of_text|><|start_header_id|>system<|end_header_id|>\n",
      "\n",
      "Cutting Knowledge Date: December 2023\n",
      "Today Date: 18 May 2025\n",
      "\n",
      "You are a helpful and knowledgeable medical expert.<|eot_id|><|start_header_id|>user<|end_header_id|>\n",
      "\n",
      "What is biofeedback psychotherapy, and how does it use signals from the body to help patients manage emotional distress?<|eot_id|><|start_header_id|>assistant<|end_header_id|>\n",
      "\n",
      "Biofeedback psychotherapy is a type of therapy that helps patients learn to control their physiological responses to stress and anxiety. It involves using sensors to monitor signals from the body such as heart rate, muscle tension, skin temperature, and blood pressure. These signals serve as indicators of emotional distress, and patients are taught to recognize them and use relaxation techniques to control their physiological reactions. By learning to control these physical responses, patients can reduce symptoms of anxiety and stress, and gain a greater sense of control over their emotional well-being.<|eot_id|>\n"
     ]
    }
   ],
   "source": [
    "train_dataset = df_train.map(\n",
    "    format_chat_template,\n",
    "    num_proc= 4,\n",
    ")\n",
    "print(len(train_dataset), train_dataset[\"text\"][0])"
   ]
  },
  {
   "cell_type": "markdown",
   "metadata": {},
   "source": [
    "## Test Data"
   ]
  },
  {
   "cell_type": "code",
   "execution_count": 15,
   "metadata": {
    "execution": {
     "iopub.execute_input": "2025-05-18T04:48:11.258292Z",
     "iopub.status.busy": "2025-05-18T04:48:11.257993Z",
     "iopub.status.idle": "2025-05-18T04:48:12.254434Z",
     "shell.execute_reply": "2025-05-18T04:48:12.253525Z",
     "shell.execute_reply.started": "2025-05-18T04:48:11.258265Z"
    },
    "trusted": true
   },
   "outputs": [
    {
     "data": {
      "application/vnd.jupyter.widget-view+json": {
       "model_id": "db4d188a864f4ccd84f888c2e4719f48",
       "version_major": 2,
       "version_minor": 0
      },
      "text/plain": [
       "Map (num_proc=4):   0%|          | 0/4000 [00:00<?, ? examples/s]"
      ]
     },
     "metadata": {},
     "output_type": "display_data"
    },
    {
     "name": "stdout",
     "output_type": "stream",
     "text": [
      "4000 <|begin_of_text|><|start_header_id|>system<|end_header_id|>\n",
      "\n",
      "Cutting Knowledge Date: December 2023\n",
      "Today Date: 18 May 2025\n",
      "\n",
      "You are a helpful and knowledgeable medical expert.<|eot_id|><|start_header_id|>user<|end_header_id|>\n",
      "\n",
      "Which arteries in the fetal circulatory system supply deoxygenated blood to the placenta through the umbilical arteries?<|eot_id|><|start_header_id|>assistant<|end_header_id|>\n",
      "\n",
      "The umbilical arteries return deoxygenated blood from the fetal internal iliac arteries to the placenta. The internal iliac arteries are responsible for supplying blood to the pelvic region, including the bladder, rectum, and reproductive organs. During fetal development, the umbilical cord connects the fetus to the placenta, which acts as the primary site of oxygen and nutrient exchange between the maternal and fetal circulatory systems. The umbilical arteries are two of the three blood vessels in the umbilical cord, and they carry deoxygenated blood from the fetal body to the placenta for oxygenation and nutrient exchange. After the exchange occurs, the oxygenated blood is carried back to the fetus through the umbilical vein. The umbilical arteries play a crucial role in maintaining the oxygen balance and removing waste products from the fetal circulation.<|eot_id|>\n"
     ]
    }
   ],
   "source": [
    "test_dataset = df_test.map(\n",
    "    format_chat_template,\n",
    "    num_proc= 4,\n",
    ")\n",
    "print(len(test_dataset), test_dataset[\"text\"][1])"
   ]
  },
  {
   "cell_type": "markdown",
   "metadata": {},
   "source": [
    "## Set Model and Trainer"
   ]
  },
  {
   "cell_type": "code",
   "execution_count": 16,
   "metadata": {
    "execution": {
     "iopub.execute_input": "2025-05-18T04:48:12.256231Z",
     "iopub.status.busy": "2025-05-18T04:48:12.255909Z",
     "iopub.status.idle": "2025-05-18T04:48:21.033512Z",
     "shell.execute_reply": "2025-05-18T04:48:21.032867Z",
     "shell.execute_reply.started": "2025-05-18T04:48:12.256205Z"
    },
    "trusted": true
   },
   "outputs": [
    {
     "name": "stdout",
     "output_type": "stream",
     "text": [
      "==((====))==  Unsloth 2025.5.6: Fast Llama patching. Transformers: 4.51.3.\n",
      "   \\\\   /|    Tesla P100-PCIE-16GB. Num GPUs = 1. Max memory: 15.888 GB. Platform: Linux.\n",
      "O^O/ \\_/ \\    Torch: 2.6.0+cu124. CUDA: 6.0. CUDA Toolkit: 12.4. Triton: 3.2.0\n",
      "\\        /    Bfloat16 = FALSE. FA [Xformers = 0.0.29.post3. FA2 = False]\n",
      " \"-____-\"     Free license: http://github.com/unslothai/unsloth\n",
      "Unsloth: Fast downloading is enabled - ignore downloading bars which are red colored!\n"
     ]
    }
   ],
   "source": [
    "# 1. Load model and tokenizer\n",
    "model, tokenizer = load_model_and_tokenizer()\n"
   ]
  },
  {
   "cell_type": "code",
   "execution_count": 17,
   "metadata": {
    "execution": {
     "iopub.execute_input": "2025-05-18T04:48:21.035807Z",
     "iopub.status.busy": "2025-05-18T04:48:21.035614Z",
     "iopub.status.idle": "2025-05-18T04:48:31.813291Z",
     "shell.execute_reply": "2025-05-18T04:48:31.812313Z",
     "shell.execute_reply.started": "2025-05-18T04:48:21.035791Z"
    },
    "trusted": true
   },
   "outputs": [
    {
     "data": {
      "application/vnd.jupyter.widget-view+json": {
       "model_id": "4ed4a48bff494aa58cb9076f3229a163",
       "version_major": 2,
       "version_minor": 0
      },
      "text/plain": [
       "Unsloth: Tokenizing [\"text\"] (num_proc=2):   0%|          | 0/16000 [00:00<?, ? examples/s]"
      ]
     },
     "metadata": {},
     "output_type": "display_data"
    },
    {
     "data": {
      "application/vnd.jupyter.widget-view+json": {
       "model_id": "3ee2111c7f82488bb156b35434c8624e",
       "version_major": 2,
       "version_minor": 0
      },
      "text/plain": [
       "Unsloth: Tokenizing [\"text\"] (num_proc=2):   0%|          | 0/4000 [00:00<?, ? examples/s]"
      ]
     },
     "metadata": {},
     "output_type": "display_data"
    },
    {
     "data": {
      "application/vnd.jupyter.widget-view+json": {
       "model_id": "9bf79dbe7da540e48c0f40b8b0371fb5",
       "version_major": 2,
       "version_minor": 0
      },
      "text/plain": [
       "Map (num_proc=4):   0%|          | 0/16000 [00:00<?, ? examples/s]"
      ]
     },
     "metadata": {},
     "output_type": "display_data"
    },
    {
     "data": {
      "application/vnd.jupyter.widget-view+json": {
       "model_id": "81ebe5d233b14f1388fdb1542fda5b74",
       "version_major": 2,
       "version_minor": 0
      },
      "text/plain": [
       "Map (num_proc=4):   0%|          | 0/4000 [00:00<?, ? examples/s]"
      ]
     },
     "metadata": {},
     "output_type": "display_data"
    }
   ],
   "source": [
    "# 3. Create trainer\n",
    "training_args = {\n",
    "    \"per_device_eval_batch_size\": 6,  ## test batch size should fit in GPU ## all batches get tested at once\n",
    "    \"per_device_train_batch_size\": 6,  ## train batch size should fit in GPU\n",
    "    \"gradient_accumulation_steps\": 4,\n",
    "    \"eval_strategy\": \"steps\",\n",
    "    \"eval_steps\": 50,\n",
    "    \"early_stopping_patience\": 3,\n",
    "    \"logging_steps\": 1,\n",
    "    \"save_steps\": 50,                  ## total steps = (len(train_dataset)//(per_device_train_batch_size*gradient_accumulation_steps))  \n",
    "    \"warmup_steps\": 34,\n",
    "    \"num_train_epochs\": 1,\n",
    "    \"learning_rate\": 1e-5,\n",
    "    \"weight_decay\": 0.01,\n",
    "    \"lr_scheduler_type\": \"linear\",\n",
    "    \"seed\": 3407,\n",
    "    \"output_dir\": \"outputs\",\n",
    "    \"report_to\": \"none\",               ## use for wandb etc\n",
    "    \"optim\": \"adamw_8bit\",\n",
    "    \"max_seq_length\": 2048,\n",
    "    \"dataset_num_proc\": 2,\n",
    "    \"packing\": False,\n",
    "    \"dataset_text_field\": \"text\",\n",
    "    \"instruction_part\": \"<|start_header_id|>user<|end_header_id|>\\n\\n\",\n",
    "    \"response_part\": \"<|start_header_id|>assistant<|end_header_id|>\\n\\n\",\n",
    "}\n",
    "\n",
    "trainer = create_trainer(model, tokenizer, train_dataset, test_dataset, training_args)\n"
   ]
  },
  {
   "cell_type": "markdown",
   "metadata": {},
   "source": [
    "## Begin Training"
   ]
  },
  {
   "cell_type": "code",
   "execution_count": 18,
   "metadata": {
    "execution": {
     "iopub.execute_input": "2025-05-18T04:48:31.815183Z",
     "iopub.status.busy": "2025-05-18T04:48:31.814484Z",
     "iopub.status.idle": "2025-05-18T11:34:42.910285Z",
     "shell.execute_reply": "2025-05-18T11:34:42.909632Z",
     "shell.execute_reply.started": "2025-05-18T04:48:31.815155Z"
    },
    "trusted": true
   },
   "outputs": [
    {
     "name": "stderr",
     "output_type": "stream",
     "text": [
      "==((====))==  Unsloth - 2x faster free finetuning | Num GPUs used = 1\n",
      "   \\\\   /|    Num examples = 16,000 | Num Epochs = 1 | Total steps = 666\n",
      "O^O/ \\_/ \\    Batch size per device = 6 | Gradient accumulation steps = 4\n",
      "\\        /    Data Parallel GPUs = 1 | Total batch size (6 x 4 x 1) = 24\n",
      " \"-____-\"     Trainable parameters = 24,313,856/3,000,000,000 (0.81% trained)\n"
     ]
    },
    {
     "name": "stdout",
     "output_type": "stream",
     "text": [
      "Unsloth: Will smartly offload gradients to save VRAM!\n"
     ]
    },
    {
     "data": {
      "text/html": [
       "\n",
       "    <div>\n",
       "      \n",
       "      <progress value='666' max='666' style='width:300px; height:20px; vertical-align: middle;'></progress>\n",
       "      [666/666 6:45:44, Epoch 0/1]\n",
       "    </div>\n",
       "    <table border=\"1\" class=\"dataframe\">\n",
       "  <thead>\n",
       " <tr style=\"text-align: left;\">\n",
       "      <th>Step</th>\n",
       "      <th>Training Loss</th>\n",
       "      <th>Validation Loss</th>\n",
       "    </tr>\n",
       "  </thead>\n",
       "  <tbody>\n",
       "    <tr>\n",
       "      <td>50</td>\n",
       "      <td>0.893000</td>\n",
       "      <td>0.897122</td>\n",
       "    </tr>\n",
       "    <tr>\n",
       "      <td>100</td>\n",
       "      <td>0.823100</td>\n",
       "      <td>0.834464</td>\n",
       "    </tr>\n",
       "    <tr>\n",
       "      <td>150</td>\n",
       "      <td>0.741300</td>\n",
       "      <td>0.806310</td>\n",
       "    </tr>\n",
       "    <tr>\n",
       "      <td>200</td>\n",
       "      <td>0.765700</td>\n",
       "      <td>0.789024</td>\n",
       "    </tr>\n",
       "    <tr>\n",
       "      <td>250</td>\n",
       "      <td>0.847400</td>\n",
       "      <td>0.776591</td>\n",
       "    </tr>\n",
       "    <tr>\n",
       "      <td>300</td>\n",
       "      <td>0.691500</td>\n",
       "      <td>0.768130</td>\n",
       "    </tr>\n",
       "    <tr>\n",
       "      <td>350</td>\n",
       "      <td>0.768800</td>\n",
       "      <td>0.762145</td>\n",
       "    </tr>\n",
       "    <tr>\n",
       "      <td>400</td>\n",
       "      <td>0.856600</td>\n",
       "      <td>0.757777</td>\n",
       "    </tr>\n",
       "    <tr>\n",
       "      <td>450</td>\n",
       "      <td>0.745500</td>\n",
       "      <td>0.754711</td>\n",
       "    </tr>\n",
       "    <tr>\n",
       "      <td>500</td>\n",
       "      <td>0.760200</td>\n",
       "      <td>0.752456</td>\n",
       "    </tr>\n",
       "    <tr>\n",
       "      <td>550</td>\n",
       "      <td>0.702500</td>\n",
       "      <td>0.751501</td>\n",
       "    </tr>\n",
       "    <tr>\n",
       "      <td>600</td>\n",
       "      <td>0.780900</td>\n",
       "      <td>0.749759</td>\n",
       "    </tr>\n",
       "    <tr>\n",
       "      <td>650</td>\n",
       "      <td>0.688700</td>\n",
       "      <td>0.749415</td>\n",
       "    </tr>\n",
       "  </tbody>\n",
       "</table><p>"
      ],
      "text/plain": [
       "<IPython.core.display.HTML object>"
      ]
     },
     "metadata": {},
     "output_type": "display_data"
    },
    {
     "name": "stderr",
     "output_type": "stream",
     "text": [
      "Unsloth: Not an error, but LlamaForCausalLM does not accept `num_items_in_batch`.\n",
      "Using gradient accumulation will be very slightly less accurate.\n",
      "Read more on gradient accumulation issues here: https://unsloth.ai/blog/gradient\n"
     ]
    }
   ],
   "source": [
    "# 4. Train model\n",
    "trainer_stats = train_model(trainer)"
   ]
  },
  {
   "cell_type": "code",
   "execution_count": 19,
   "metadata": {
    "execution": {
     "iopub.execute_input": "2025-05-18T11:35:23.736740Z",
     "iopub.status.busy": "2025-05-18T11:35:23.736453Z",
     "iopub.status.idle": "2025-05-18T11:35:24.196889Z",
     "shell.execute_reply": "2025-05-18T11:35:24.196018Z",
     "shell.execute_reply.started": "2025-05-18T11:35:23.736720Z"
    },
    "trusted": true
   },
   "outputs": [
    {
     "data": {
      "image/png": "[encoded data removed]",
      "text/plain": [
       "<Figure size 1000x1000 with 2 Axes>"
      ]
     },
     "metadata": {},
     "output_type": "display_data"
    }
   ],
   "source": [
    "import matplotlib.pyplot as plt\n",
    "\n",
    "# Collect logs\n",
    "logs = trainer.state.log_history\n",
    "\n",
    "# Initialize lists for plotting\n",
    "train_loss = []\n",
    "eval_loss = []\n",
    "eval_steps = []\n",
    "train_steps = []\n",
    "\n",
    "# Extract values from logs\n",
    "for entry in logs:\n",
    "    if 'loss' in entry and 'step' in entry:\n",
    "        train_loss.append(entry['loss'])\n",
    "        train_steps.append(entry['step'])\n",
    "    if 'eval_loss' in entry:\n",
    "        eval_loss.append(entry['eval_loss'])\n",
    "        eval_steps.append(entry['step'])\n",
    "\n",
    "# Create subplots\n",
    "fig, axs = plt.subplots(2, 1, figsize=(10, 10))\n",
    "\n",
    "# Plot Training Loss\n",
    "axs[0].plot(train_steps, train_loss, color='blue', label=\"Training Loss\")\n",
    "axs[0].set_title(\"Training Loss Over Steps\")\n",
    "axs[0].set_xlabel(\"Steps\")\n",
    "axs[0].set_ylabel(\"Loss\")\n",
    "axs[0].legend()\n",
    "axs[0].grid(True)\n",
    "\n",
    "# Plot Evaluation Loss\n",
    "axs[1].plot(eval_steps, eval_loss, color='orange', label=\"Evaluation Loss\")\n",
    "axs[1].set_title(\"Evaluation Loss Over Steps\")\n",
    "axs[1].set_xlabel(\"Steps\")\n",
    "axs[1].set_ylabel(\"Loss\")\n",
    "axs[1].legend()\n",
    "axs[1].grid(True)\n",
    "\n",
    "# Adjust layout\n",
    "plt.tight_layout()\n",
    "plt.show()\n"
   ]
  },
  {
   "cell_type": "markdown",
   "metadata": {},
   "source": [
    "## Inference "
   ]
  },
  {
   "cell_type": "code",
   "execution_count": 27,
   "metadata": {
    "execution": {
     "iopub.execute_input": "2025-05-18T11:39:51.567400Z",
     "iopub.status.busy": "2025-05-18T11:39:51.566798Z",
     "iopub.status.idle": "2025-05-18T11:39:52.102692Z",
     "shell.execute_reply": "2025-05-18T11:39:52.102056Z",
     "shell.execute_reply.started": "2025-05-18T11:39:51.567379Z"
    },
    "trusted": true
   },
   "outputs": [
    {
     "name": "stdout",
     "output_type": "stream",
     "text": [
      "system\n",
      "\n",
      "Cutting Knowledge Date: December 2023\n",
      "Today Date: 18 May 2025\n",
      "\n",
      "You are a helpful assistant.user\n",
      "\n",
      "Hi!assistant\n",
      "\n",
      "How can I assist you today?\n"
     ]
    }
   ],
   "source": [
    "instruction = \"You are a helpful assistant.\"\n",
    "query = \"Hi!\"\n",
    "result = run_model(model, tokenizer, instruction, query)\n",
    "print(result)"
   ]
  },
  {
   "cell_type": "code",
   "execution_count": 34,
   "metadata": {
    "execution": {
     "iopub.execute_input": "2025-05-18T11:48:58.276620Z",
     "iopub.status.busy": "2025-05-18T11:48:58.276307Z",
     "iopub.status.idle": "2025-05-18T11:49:00.152482Z",
     "shell.execute_reply": "2025-05-18T11:49:00.151743Z",
     "shell.execute_reply.started": "2025-05-18T11:48:58.276598Z"
    },
    "trusted": true
   },
   "outputs": [
    {
     "name": "stdout",
     "output_type": "stream",
     "text": [
      "system\n",
      "\n",
      "Cutting Knowledge Date: December 2023\n",
      "Today Date: 18 May 2025\n",
      "\n",
      "You are a helpful assistant.user\n",
      "\n",
      "What medical condition is associated with α1-antitrypsin deficiency, and how does it manifest in the lungs?assistant\n",
      "\n",
      "α1-antitrypsin deficiency is associated with chronic obstructive pulmonary disease (COPD), which manifests as a progressive decline in lung function.\n"
     ]
    }
   ],
   "source": [
    "instruction = \"You are a helpful assistant.\"\n",
    "query = \"What medical condition is associated with α1-antitrypsin deficiency, and how does it manifest in the lungs?\"\n",
    "result = run_model(model, tokenizer, instruction, query)\n",
    "print(result)"
   ]
  },
  {
   "cell_type": "markdown",
   "metadata": {},
   "source": [
    "## Save the Lora Adaptor Locally"
   ]
  },
  {
   "cell_type": "code",
   "execution_count": 31,
   "metadata": {
    "execution": {
     "iopub.execute_input": "2025-05-18T11:44:04.831394Z",
     "iopub.status.busy": "2025-05-18T11:44:04.831063Z",
     "iopub.status.idle": "2025-05-18T11:44:05.936409Z",
     "shell.execute_reply": "2025-05-18T11:44:05.935616Z",
     "shell.execute_reply.started": "2025-05-18T11:44:04.831372Z"
    },
    "trusted": true
   },
   "outputs": [
    {
     "data": {
      "text/plain": [
       "('MediLlama-3.2-LoraAdaptors/tokenizer_config.json',\n",
       " 'MediLlama-3.2-LoraAdaptors/special_tokens_map.json',\n",
       " 'MediLlama-3.2-LoraAdaptors/tokenizer.json')"
      ]
     },
     "execution_count": 31,
     "metadata": {},
     "output_type": "execute_result"
    }
   ],
   "source": [
    "model.save_pretrained(\"MediLlama-3.2-LoraAdaptors\")  \n",
    "tokenizer.save_pretrained(\"MediLlama-3.2-LoraAdaptors\")"
   ]
  },
  {
   "cell_type": "markdown",
   "metadata": {},
   "source": [
    "## Save Lora Adaptor to Hugging Hub"
   ]
  },
  {
   "cell_type": "code",
   "execution_count": null,
   "metadata": {
    "execution": {
     "iopub.execute_input": "2025-05-18T11:44:24.122301Z",
     "iopub.status.busy": "2025-05-18T11:44:24.121919Z",
     "iopub.status.idle": "2025-05-18T11:44:32.553431Z",
     "shell.execute_reply": "2025-05-18T11:44:32.552843Z",
     "shell.execute_reply.started": "2025-05-18T11:44:24.122280Z"
    },
    "trusted": true
   },
   "outputs": [],
   "source": [
    "model.push_to_hub(\"your_username/MediLlama-3.2-LoraAdaptors\", token = hf_token) # Online saving\n",
    "tokenizer.push_to_hub(\"your_username/MediLlama-3.2-LoraAdaptors\", token = hf_token) # Online saving"
   ]
  },
  {
   "cell_type": "markdown",
   "metadata": {},
   "source": [
    "## Merge Lora Adaptor with base model and save to Hub"
   ]
  },
  {
   "cell_type": "code",
   "execution_count": null,
   "metadata": {
    "execution": {
     "iopub.execute_input": "2025-05-18T11:45:49.543786Z",
     "iopub.status.busy": "2025-05-18T11:45:49.543284Z",
     "iopub.status.idle": "2025-05-18T11:48:53.766025Z",
     "shell.execute_reply": "2025-05-18T11:48:53.765383Z",
     "shell.execute_reply.started": "2025-05-18T11:45:49.543763Z"
    },
    "trusted": true
   },
   "outputs": [],
   "source": [
    "# Merge to 16bit\n",
    "model.save_pretrained_merged(\"MediLlama-3.2\", tokenizer, save_method = \"merged_16bit\",)\n",
    "model.push_to_hub_merged(\"your_username/MediLlama-3.2\", tokenizer, save_method = \"merged_16bit\", token = hf_token)"
   ]
  },
  {
   "cell_type": "code",
   "execution_count": null,
   "metadata": {
    "trusted": true
   },
   "outputs": [],
   "source": []
  },
  {
   "cell_type": "code",
   "execution_count": null,
   "metadata": {
    "trusted": true
   },
   "outputs": [],
   "source": []
  },
  {
   "cell_type": "code",
   "execution_count": null,
   "metadata": {
    "trusted": true
   },
   "outputs": [],
   "source": []
  },
  {
   "cell_type": "code",
   "execution_count": null,
   "metadata": {
    "trusted": true
   },
   "outputs": [],
   "source": []
  },
  {
   "cell_type": "code",
   "execution_count": null,
   "metadata": {
    "trusted": true
   },
   "outputs": [],
   "source": []
  },
  {
   "cell_type": "code",
   "execution_count": null,
   "metadata": {
    "trusted": true
   },
   "outputs": [],
   "source": []
  },
  {
   "cell_type": "code",
   "execution_count": null,
   "metadata": {
    "trusted": true
   },
   "outputs": [],
   "source": []
  },
  {
   "cell_type": "code",
   "execution_count": null,
   "metadata": {
    "trusted": true
   },
   "outputs": [],
   "source": []
  }
 ],
 "metadata": {
  "kaggle": {
   "accelerator": "gpu",
   "dataSources": [],
   "dockerImageVersionId": 31041,
   "isGpuEnabled": true,
   "isInternetEnabled": true,
   "language": "python",
   "sourceType": "notebook"
  },
  "kernelspec": {
   "display_name": "Python 3",
   "language": "python",
   "name": "python3"
  },
  "language_info": {
   "codemirror_mode": {
    "name": "ipython",
    "version": 3
   },
   "file_extension": ".py",
   "mimetype": "text/x-python",
   "name": "python",
   "nbconvert_exporter": "python",
   "pygments_lexer": "ipython3",
   "version": "3.13.2"
  }
 },
 "nbformat": 4,
 "nbformat_minor": 4
}
