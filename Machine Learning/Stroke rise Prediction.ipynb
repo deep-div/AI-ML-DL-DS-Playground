{
 "cells": [
  {
   "cell_type": "code",
   "execution_count": 1,
   "id": "1e84d79a",
   "metadata": {
    "execution": {
     "iopub.execute_input": "2022-11-16T10:24:09.663720Z",
     "iopub.status.busy": "2022-11-16T10:24:09.663220Z",
     "iopub.status.idle": "2022-11-16T10:24:09.673904Z",
     "shell.execute_reply": "2022-11-16T10:24:09.672906Z"
    },
    "papermill": {
     "duration": 0.031326,
     "end_time": "2022-11-16T10:24:09.676222",
     "exception": false,
     "start_time": "2022-11-16T10:24:09.644896",
     "status": "completed"
    },
    "tags": []
   },
   "outputs": [],
   "source": [
    "import numpy as np    # linear algebra \n",
    "import pandas as pd    # Data processing, Input & Output load    \n",
    "import matplotlib.pyplot as plt    # Visualization & plotting\n",
    "\n",
    "import warnings   \n",
    "warnings.filterwarnings('ignore')"
   ]
  },
  {
   "cell_type": "markdown",
   "id": "8245757c",
   "metadata": {
    "papermill": {
     "duration": 0.016242,
     "end_time": "2022-11-16T10:24:09.709271",
     "exception": false,
     "start_time": "2022-11-16T10:24:09.693029",
     "status": "completed"
    },
    "tags": []
   },
   "source": [
    "## 2. Import Dataset"
   ]
  },
  {
   "cell_type": "code",
   "execution_count": 2,
   "id": "d7f1415d",
   "metadata": {
    "execution": {
     "iopub.execute_input": "2022-11-16T10:24:09.745003Z",
     "iopub.status.busy": "2022-11-16T10:24:09.743937Z",
     "iopub.status.idle": "2022-11-16T10:24:09.781576Z",
     "shell.execute_reply": "2022-11-16T10:24:09.780660Z"
    },
    "papermill": {
     "duration": 0.05823,
     "end_time": "2022-11-16T10:24:09.784215",
     "exception": false,
     "start_time": "2022-11-16T10:24:09.725985",
     "status": "completed"
    },
    "tags": []
   },
   "outputs": [],
   "source": [
    "data=pd.read_csv('../input/stroke-prediction-dataset/healthcare-dataset-stroke-data.csv')"
   ]
  },
  {
   "cell_type": "code",
   "execution_count": 3,
   "id": "188e04e0",
   "metadata": {
    "execution": {
     "iopub.execute_input": "2022-11-16T10:24:09.819741Z",
     "iopub.status.busy": "2022-11-16T10:24:09.819337Z",
     "iopub.status.idle": "2022-11-16T10:24:09.849988Z",
     "shell.execute_reply": "2022-11-16T10:24:09.848920Z"
    },
    "papermill": {
     "duration": 0.051407,
     "end_time": "2022-11-16T10:24:09.852956",
     "exception": false,
     "start_time": "2022-11-16T10:24:09.801549",
     "status": "completed"
    },
    "tags": []
   },
   "outputs": [
    {
     "data": {
      "text/html": [
       "<div>\n",
       "<style scoped>\n",
       "    .dataframe tbody tr th:only-of-type {\n",
       "        vertical-align: middle;\n",
       "    }\n",
       "\n",
       "    .dataframe tbody tr th {\n",
       "        vertical-align: top;\n",
       "    }\n",
       "\n",
       "    .dataframe thead th {\n",
       "        text-align: right;\n",
       "    }\n",
       "</style>\n",
       "<table border=\"1\" class=\"dataframe\">\n",
       "  <thead>\n",
       "    <tr style=\"text-align: right;\">\n",
       "      <th></th>\n",
       "      <th>id</th>\n",
       "      <th>gender</th>\n",
       "      <th>age</th>\n",
       "      <th>hypertension</th>\n",
       "      <th>heart_disease</th>\n",
       "      <th>ever_married</th>\n",
       "      <th>work_type</th>\n",
       "      <th>Residence_type</th>\n",
       "      <th>avg_glucose_level</th>\n",
       "      <th>bmi</th>\n",
       "      <th>smoking_status</th>\n",
       "      <th>stroke</th>\n",
       "    </tr>\n",
       "  </thead>\n",
       "  <tbody>\n",
       "    <tr>\n",
       "      <th>0</th>\n",
       "      <td>9046</td>\n",
       "      <td>Male</td>\n",
       "      <td>67.0</td>\n",
       "      <td>0</td>\n",
       "      <td>1</td>\n",
       "      <td>Yes</td>\n",
       "      <td>Private</td>\n",
       "      <td>Urban</td>\n",
       "      <td>228.69</td>\n",
       "      <td>36.6</td>\n",
       "      <td>formerly smoked</td>\n",
       "      <td>1</td>\n",
       "    </tr>\n",
       "    <tr>\n",
       "      <th>1</th>\n",
       "      <td>51676</td>\n",
       "      <td>Female</td>\n",
       "      <td>61.0</td>\n",
       "      <td>0</td>\n",
       "      <td>0</td>\n",
       "      <td>Yes</td>\n",
       "      <td>Self-employed</td>\n",
       "      <td>Rural</td>\n",
       "      <td>202.21</td>\n",
       "      <td>NaN</td>\n",
       "      <td>never smoked</td>\n",
       "      <td>1</td>\n",
       "    </tr>\n",
       "    <tr>\n",
       "      <th>2</th>\n",
       "      <td>31112</td>\n",
       "      <td>Male</td>\n",
       "      <td>80.0</td>\n",
       "      <td>0</td>\n",
       "      <td>1</td>\n",
       "      <td>Yes</td>\n",
       "      <td>Private</td>\n",
       "      <td>Rural</td>\n",
       "      <td>105.92</td>\n",
       "      <td>32.5</td>\n",
       "      <td>never smoked</td>\n",
       "      <td>1</td>\n",
       "    </tr>\n",
       "    <tr>\n",
       "      <th>3</th>\n",
       "      <td>60182</td>\n",
       "      <td>Female</td>\n",
       "      <td>49.0</td>\n",
       "      <td>0</td>\n",
       "      <td>0</td>\n",
       "      <td>Yes</td>\n",
       "      <td>Private</td>\n",
       "      <td>Urban</td>\n",
       "      <td>171.23</td>\n",
       "      <td>34.4</td>\n",
       "      <td>smokes</td>\n",
       "      <td>1</td>\n",
       "    </tr>\n",
       "    <tr>\n",
       "      <th>4</th>\n",
       "      <td>1665</td>\n",
       "      <td>Female</td>\n",
       "      <td>79.0</td>\n",
       "      <td>1</td>\n",
       "      <td>0</td>\n",
       "      <td>Yes</td>\n",
       "      <td>Self-employed</td>\n",
       "      <td>Rural</td>\n",
       "      <td>174.12</td>\n",
       "      <td>24.0</td>\n",
       "      <td>never smoked</td>\n",
       "      <td>1</td>\n",
       "    </tr>\n",
       "  </tbody>\n",
       "</table>\n",
       "</div>"
      ],
      "text/plain": [
       "      id  gender   age  hypertension  heart_disease ever_married  \\\n",
       "0   9046    Male  67.0             0              1          Yes   \n",
       "1  51676  Female  61.0             0              0          Yes   \n",
       "2  31112    Male  80.0             0              1          Yes   \n",
       "3  60182  Female  49.0             0              0          Yes   \n",
       "4   1665  Female  79.0             1              0          Yes   \n",
       "\n",
       "       work_type Residence_type  avg_glucose_level   bmi   smoking_status  \\\n",
       "0        Private          Urban             228.69  36.6  formerly smoked   \n",
       "1  Self-employed          Rural             202.21   NaN     never smoked   \n",
       "2        Private          Rural             105.92  32.5     never smoked   \n",
       "3        Private          Urban             171.23  34.4           smokes   \n",
       "4  Self-employed          Rural             174.12  24.0     never smoked   \n",
       "\n",
       "   stroke  \n",
       "0       1  \n",
       "1       1  \n",
       "2       1  \n",
       "3       1  \n",
       "4       1  "
      ]
     },
     "execution_count": 3,
     "metadata": {},
     "output_type": "execute_result"
    }
   ],
   "source": [
    "data.head()"
   ]
  },
  {
   "cell_type": "markdown",
   "id": "e4514e61",
   "metadata": {
    "papermill": {
     "duration": 0.016379,
     "end_time": "2022-11-16T10:24:09.886323",
     "exception": false,
     "start_time": "2022-11-16T10:24:09.869944",
     "status": "completed"
    },
    "tags": []
   },
   "source": [
    "* The entire dataset contains <b>5110</b> rows and <b>12</b> columns."
   ]
  },
  {
   "cell_type": "markdown",
   "id": "cfbf3554",
   "metadata": {
    "papermill": {
     "duration": 0.016252,
     "end_time": "2022-11-16T10:24:09.919551",
     "exception": false,
     "start_time": "2022-11-16T10:24:09.903299",
     "status": "completed"
    },
    "tags": []
   },
   "source": [
    "## 3. Let's Understand Our Data"
   ]
  },
  {
   "cell_type": "markdown",
   "id": "8f0402a2",
   "metadata": {
    "papermill": {
     "duration": 0.016916,
     "end_time": "2022-11-16T10:24:09.953374",
     "exception": false,
     "start_time": "2022-11-16T10:24:09.936458",
     "status": "completed"
    },
    "tags": []
   },
   "source": [
    "1. First, let's get the summary of the numerical data"
   ]
  },
  {
   "cell_type": "code",
   "execution_count": 4,
   "id": "50a216ca",
   "metadata": {
    "execution": {
     "iopub.execute_input": "2022-11-16T10:24:09.989042Z",
     "iopub.status.busy": "2022-11-16T10:24:09.988087Z",
     "iopub.status.idle": "2022-11-16T10:24:09.993959Z",
     "shell.execute_reply": "2022-11-16T10:24:09.992909Z"
    },
    "papermill": {
     "duration": 0.026474,
     "end_time": "2022-11-16T10:24:09.996728",
     "exception": false,
     "start_time": "2022-11-16T10:24:09.970254",
     "status": "completed"
    },
    "tags": []
   },
   "outputs": [
    {
     "name": "stdout",
     "output_type": "stream",
     "text": [
      "Data Shape  (5110, 12)\n"
     ]
    }
   ],
   "source": [
    "print(\"Data Shape \", data.shape)"
   ]
  },
  {
   "cell_type": "code",
   "execution_count": 5,
   "id": "07291308",
   "metadata": {
    "execution": {
     "iopub.execute_input": "2022-11-16T10:24:10.032761Z",
     "iopub.status.busy": "2022-11-16T10:24:10.031996Z",
     "iopub.status.idle": "2022-11-16T10:24:10.077733Z",
     "shell.execute_reply": "2022-11-16T10:24:10.076908Z"
    },
    "papermill": {
     "duration": 0.066121,
     "end_time": "2022-11-16T10:24:10.079800",
     "exception": false,
     "start_time": "2022-11-16T10:24:10.013679",
     "status": "completed"
    },
    "tags": []
   },
   "outputs": [
    {
     "data": {
      "text/html": [
       "<div>\n",
       "<style scoped>\n",
       "    .dataframe tbody tr th:only-of-type {\n",
       "        vertical-align: middle;\n",
       "    }\n",
       "\n",
       "    .dataframe tbody tr th {\n",
       "        vertical-align: top;\n",
       "    }\n",
       "\n",
       "    .dataframe thead th {\n",
       "        text-align: right;\n",
       "    }\n",
       "</style>\n",
       "<table border=\"1\" class=\"dataframe\">\n",
       "  <thead>\n",
       "    <tr style=\"text-align: right;\">\n",
       "      <th></th>\n",
       "      <th>id</th>\n",
       "      <th>age</th>\n",
       "      <th>hypertension</th>\n",
       "      <th>heart_disease</th>\n",
       "      <th>avg_glucose_level</th>\n",
       "      <th>bmi</th>\n",
       "      <th>stroke</th>\n",
       "    </tr>\n",
       "  </thead>\n",
       "  <tbody>\n",
       "    <tr>\n",
       "      <th>count</th>\n",
       "      <td>5110.000000</td>\n",
       "      <td>5110.000000</td>\n",
       "      <td>5110.000000</td>\n",
       "      <td>5110.000000</td>\n",
       "      <td>5110.000000</td>\n",
       "      <td>4909.000000</td>\n",
       "      <td>5110.000000</td>\n",
       "    </tr>\n",
       "    <tr>\n",
       "      <th>mean</th>\n",
       "      <td>36517.829354</td>\n",
       "      <td>43.226614</td>\n",
       "      <td>0.097456</td>\n",
       "      <td>0.054012</td>\n",
       "      <td>106.147677</td>\n",
       "      <td>28.893237</td>\n",
       "      <td>0.048728</td>\n",
       "    </tr>\n",
       "    <tr>\n",
       "      <th>std</th>\n",
       "      <td>21161.721625</td>\n",
       "      <td>22.612647</td>\n",
       "      <td>0.296607</td>\n",
       "      <td>0.226063</td>\n",
       "      <td>45.283560</td>\n",
       "      <td>7.854067</td>\n",
       "      <td>0.215320</td>\n",
       "    </tr>\n",
       "    <tr>\n",
       "      <th>min</th>\n",
       "      <td>67.000000</td>\n",
       "      <td>0.080000</td>\n",
       "      <td>0.000000</td>\n",
       "      <td>0.000000</td>\n",
       "      <td>55.120000</td>\n",
       "      <td>10.300000</td>\n",
       "      <td>0.000000</td>\n",
       "    </tr>\n",
       "    <tr>\n",
       "      <th>25%</th>\n",
       "      <td>17741.250000</td>\n",
       "      <td>25.000000</td>\n",
       "      <td>0.000000</td>\n",
       "      <td>0.000000</td>\n",
       "      <td>77.245000</td>\n",
       "      <td>23.500000</td>\n",
       "      <td>0.000000</td>\n",
       "    </tr>\n",
       "    <tr>\n",
       "      <th>50%</th>\n",
       "      <td>36932.000000</td>\n",
       "      <td>45.000000</td>\n",
       "      <td>0.000000</td>\n",
       "      <td>0.000000</td>\n",
       "      <td>91.885000</td>\n",
       "      <td>28.100000</td>\n",
       "      <td>0.000000</td>\n",
       "    </tr>\n",
       "    <tr>\n",
       "      <th>75%</th>\n",
       "      <td>54682.000000</td>\n",
       "      <td>61.000000</td>\n",
       "      <td>0.000000</td>\n",
       "      <td>0.000000</td>\n",
       "      <td>114.090000</td>\n",
       "      <td>33.100000</td>\n",
       "      <td>0.000000</td>\n",
       "    </tr>\n",
       "    <tr>\n",
       "      <th>max</th>\n",
       "      <td>72940.000000</td>\n",
       "      <td>82.000000</td>\n",
       "      <td>1.000000</td>\n",
       "      <td>1.000000</td>\n",
       "      <td>271.740000</td>\n",
       "      <td>97.600000</td>\n",
       "      <td>1.000000</td>\n",
       "    </tr>\n",
       "  </tbody>\n",
       "</table>\n",
       "</div>"
      ],
      "text/plain": [
       "                 id          age  hypertension  heart_disease  \\\n",
       "count   5110.000000  5110.000000   5110.000000    5110.000000   \n",
       "mean   36517.829354    43.226614      0.097456       0.054012   \n",
       "std    21161.721625    22.612647      0.296607       0.226063   \n",
       "min       67.000000     0.080000      0.000000       0.000000   \n",
       "25%    17741.250000    25.000000      0.000000       0.000000   \n",
       "50%    36932.000000    45.000000      0.000000       0.000000   \n",
       "75%    54682.000000    61.000000      0.000000       0.000000   \n",
       "max    72940.000000    82.000000      1.000000       1.000000   \n",
       "\n",
       "       avg_glucose_level          bmi       stroke  \n",
       "count        5110.000000  4909.000000  5110.000000  \n",
       "mean          106.147677    28.893237     0.048728  \n",
       "std            45.283560     7.854067     0.215320  \n",
       "min            55.120000    10.300000     0.000000  \n",
       "25%            77.245000    23.500000     0.000000  \n",
       "50%            91.885000    28.100000     0.000000  \n",
       "75%           114.090000    33.100000     0.000000  \n",
       "max           271.740000    97.600000     1.000000  "
      ]
     },
     "execution_count": 5,
     "metadata": {},
     "output_type": "execute_result"
    }
   ],
   "source": [
    "data.describe()"
   ]
  },
  {
   "cell_type": "markdown",
   "id": "1331ed40",
   "metadata": {
    "papermill": {
     "duration": 0.016746,
     "end_time": "2022-11-16T10:24:10.114173",
     "exception": false,
     "start_time": "2022-11-16T10:24:10.097427",
     "status": "completed"
    },
    "tags": []
   },
   "source": [
    "2. Now, let's get the summary for categorical data "
   ]
  },
  {
   "cell_type": "code",
   "execution_count": 6,
   "id": "bda637dc",
   "metadata": {
    "execution": {
     "iopub.execute_input": "2022-11-16T10:24:10.150467Z",
     "iopub.status.busy": "2022-11-16T10:24:10.149714Z",
     "iopub.status.idle": "2022-11-16T10:24:10.167397Z",
     "shell.execute_reply": "2022-11-16T10:24:10.165553Z"
    },
    "papermill": {
     "duration": 0.038771,
     "end_time": "2022-11-16T10:24:10.170085",
     "exception": false,
     "start_time": "2022-11-16T10:24:10.131314",
     "status": "completed"
    },
    "tags": []
   },
   "outputs": [
    {
     "name": "stdout",
     "output_type": "stream",
     "text": [
      "<class 'pandas.core.frame.DataFrame'>\n",
      "RangeIndex: 5110 entries, 0 to 5109\n",
      "Data columns (total 12 columns):\n",
      " #   Column             Non-Null Count  Dtype  \n",
      "---  ------             --------------  -----  \n",
      " 0   id                 5110 non-null   int64  \n",
      " 1   gender             5110 non-null   object \n",
      " 2   age                5110 non-null   float64\n",
      " 3   hypertension       5110 non-null   int64  \n",
      " 4   heart_disease      5110 non-null   int64  \n",
      " 5   ever_married       5110 non-null   object \n",
      " 6   work_type          5110 non-null   object \n",
      " 7   Residence_type     5110 non-null   object \n",
      " 8   avg_glucose_level  5110 non-null   float64\n",
      " 9   bmi                4909 non-null   float64\n",
      " 10  smoking_status     5110 non-null   object \n",
      " 11  stroke             5110 non-null   int64  \n",
      "dtypes: float64(3), int64(4), object(5)\n",
      "memory usage: 479.2+ KB\n"
     ]
    }
   ],
   "source": [
    "data.info()"
   ]
  },
  {
   "cell_type": "markdown",
   "id": "0cf5d540",
   "metadata": {
    "papermill": {
     "duration": 0.016962,
     "end_time": "2022-11-16T10:24:10.205002",
     "exception": false,
     "start_time": "2022-11-16T10:24:10.188040",
     "status": "completed"
    },
    "tags": []
   },
   "source": [
    "## 4. EDA(Exploratory Data Analysis)"
   ]
  },
  {
   "cell_type": "code",
   "execution_count": 7,
   "id": "ba6de11a",
   "metadata": {
    "execution": {
     "iopub.execute_input": "2022-11-16T10:24:10.241834Z",
     "iopub.status.busy": "2022-11-16T10:24:10.241437Z",
     "iopub.status.idle": "2022-11-16T10:24:10.249973Z",
     "shell.execute_reply": "2022-11-16T10:24:10.248896Z"
    },
    "papermill": {
     "duration": 0.029575,
     "end_time": "2022-11-16T10:24:10.252305",
     "exception": false,
     "start_time": "2022-11-16T10:24:10.222730",
     "status": "completed"
    },
    "tags": []
   },
   "outputs": [
    {
     "data": {
      "text/plain": [
       "0    4861\n",
       "1     249\n",
       "Name: stroke, dtype: int64"
      ]
     },
     "execution_count": 7,
     "metadata": {},
     "output_type": "execute_result"
    }
   ],
   "source": [
    "Target = 'stroke'\n",
    "data[Target].value_counts()"
   ]
  },
  {
   "cell_type": "markdown",
   "id": "e4bfc715",
   "metadata": {
    "papermill": {
     "duration": 0.017064,
     "end_time": "2022-11-16T10:24:10.286860",
     "exception": false,
     "start_time": "2022-11-16T10:24:10.269796",
     "status": "completed"
    },
    "tags": []
   },
   "source": [
    "* We have approximately <b>95%</b> of <b>0's</b> and <b>5%</b> of <b>1's</b> in our data."
   ]
  },
  {
   "cell_type": "code",
   "execution_count": 8,
   "id": "ad03a975",
   "metadata": {
    "execution": {
     "iopub.execute_input": "2022-11-16T10:24:10.324296Z",
     "iopub.status.busy": "2022-11-16T10:24:10.323548Z",
     "iopub.status.idle": "2022-11-16T10:24:10.544543Z",
     "shell.execute_reply": "2022-11-16T10:24:10.543729Z"
    },
    "papermill": {
     "duration": 0.244854,
     "end_time": "2022-11-16T10:24:10.549546",
     "exception": false,
     "start_time": "2022-11-16T10:24:10.304692",
     "status": "completed"
    },
    "tags": []
   },
   "outputs": [
    {
     "data": {
      "image/png": "[encoded data removed]",
      "text/plain": [
       "<Figure size 720x576 with 1 Axes>"
      ]
     },
     "metadata": {},
     "output_type": "display_data"
    }
   ],
   "source": [
    "plt.figure(figsize = (10, 8))\n",
    "plt.pie(pd.value_counts(data['stroke']), \n",
    "        labels = [0,1],\n",
    "        autopct = '%.2f%%',\n",
    "        textprops = {'size' : 'x-large',\n",
    "                     'fontweight' : 'bold', \n",
    "                     'rotation' : '30',\n",
    "                     'color' : 'w'})\n",
    "\n",
    "plt.legend()\n",
    "plt.title('Percentage of stroke', fontsize = 18, fontweight = 'bold')\n",
    "plt.show()"
   ]
  },
  {
   "cell_type": "markdown",
   "id": "2f9051b0",
   "metadata": {
    "papermill": {
     "duration": 0.017789,
     "end_time": "2022-11-16T10:24:10.614227",
     "exception": false,
     "start_time": "2022-11-16T10:24:10.596438",
     "status": "completed"
    },
    "tags": []
   },
   "source": [
    "## 5. Handling Null Values"
   ]
  },
  {
   "cell_type": "markdown",
   "id": "094acaed",
   "metadata": {
    "papermill": {
     "duration": 0.0174,
     "end_time": "2022-11-16T10:24:10.649763",
     "exception": false,
     "start_time": "2022-11-16T10:24:10.632363",
     "status": "completed"
    },
    "tags": []
   },
   "source": [
    "* Let's check if there are any null variables in the <b>data</b> dataset."
   ]
  },
  {
   "cell_type": "code",
   "execution_count": 9,
   "id": "333c18db",
   "metadata": {
    "execution": {
     "iopub.execute_input": "2022-11-16T10:24:10.687787Z",
     "iopub.status.busy": "2022-11-16T10:24:10.687066Z",
     "iopub.status.idle": "2022-11-16T10:24:10.696861Z",
     "shell.execute_reply": "2022-11-16T10:24:10.695775Z"
    },
    "papermill": {
     "duration": 0.031302,
     "end_time": "2022-11-16T10:24:10.699333",
     "exception": false,
     "start_time": "2022-11-16T10:24:10.668031",
     "status": "completed"
    },
    "tags": []
   },
   "outputs": [
    {
     "data": {
      "text/plain": [
       "id                     0\n",
       "gender                 0\n",
       "age                    0\n",
       "hypertension           0\n",
       "heart_disease          0\n",
       "ever_married           0\n",
       "work_type              0\n",
       "Residence_type         0\n",
       "avg_glucose_level      0\n",
       "bmi                  201\n",
       "smoking_status         0\n",
       "stroke                 0\n",
       "dtype: int64"
      ]
     },
     "execution_count": 9,
     "metadata": {},
     "output_type": "execute_result"
    }
   ],
   "source": [
    "data.isnull().sum()"
   ]
  },
  {
   "cell_type": "code",
   "execution_count": 10,
   "id": "8373ed89",
   "metadata": {
    "execution": {
     "iopub.execute_input": "2022-11-16T10:24:10.737624Z",
     "iopub.status.busy": "2022-11-16T10:24:10.736922Z",
     "iopub.status.idle": "2022-11-16T10:24:10.747581Z",
     "shell.execute_reply": "2022-11-16T10:24:10.746413Z"
    },
    "papermill": {
     "duration": 0.032533,
     "end_time": "2022-11-16T10:24:10.749726",
     "exception": false,
     "start_time": "2022-11-16T10:24:10.717193",
     "status": "completed"
    },
    "tags": []
   },
   "outputs": [
    {
     "data": {
      "text/plain": [
       "count    4909.000000\n",
       "mean       28.893237\n",
       "std         7.854067\n",
       "min        10.300000\n",
       "25%        23.500000\n",
       "50%        28.100000\n",
       "75%        33.100000\n",
       "max        97.600000\n",
       "Name: bmi, dtype: float64"
      ]
     },
     "execution_count": 10,
     "metadata": {},
     "output_type": "execute_result"
    }
   ],
   "source": [
    "data['bmi'].describe()"
   ]
  },
  {
   "cell_type": "code",
   "execution_count": 11,
   "id": "3f8c6a25",
   "metadata": {
    "execution": {
     "iopub.execute_input": "2022-11-16T10:24:10.789721Z",
     "iopub.status.busy": "2022-11-16T10:24:10.789009Z",
     "iopub.status.idle": "2022-11-16T10:24:10.794924Z",
     "shell.execute_reply": "2022-11-16T10:24:10.794108Z"
    },
    "papermill": {
     "duration": 0.028127,
     "end_time": "2022-11-16T10:24:10.797235",
     "exception": false,
     "start_time": "2022-11-16T10:24:10.769108",
     "status": "completed"
    },
    "tags": []
   },
   "outputs": [],
   "source": [
    "data['bmi'].fillna(data['bmi'].mean(),inplace=True)"
   ]
  },
  {
   "cell_type": "code",
   "execution_count": 12,
   "id": "83faab42",
   "metadata": {
    "execution": {
     "iopub.execute_input": "2022-11-16T10:24:10.835747Z",
     "iopub.status.busy": "2022-11-16T10:24:10.835078Z",
     "iopub.status.idle": "2022-11-16T10:24:10.845531Z",
     "shell.execute_reply": "2022-11-16T10:24:10.844404Z"
    },
    "papermill": {
     "duration": 0.031945,
     "end_time": "2022-11-16T10:24:10.847650",
     "exception": false,
     "start_time": "2022-11-16T10:24:10.815705",
     "status": "completed"
    },
    "tags": []
   },
   "outputs": [
    {
     "data": {
      "text/plain": [
       "id                   0\n",
       "gender               0\n",
       "age                  0\n",
       "hypertension         0\n",
       "heart_disease        0\n",
       "ever_married         0\n",
       "work_type            0\n",
       "Residence_type       0\n",
       "avg_glucose_level    0\n",
       "bmi                  0\n",
       "smoking_status       0\n",
       "stroke               0\n",
       "dtype: int64"
      ]
     },
     "execution_count": 12,
     "metadata": {},
     "output_type": "execute_result"
    }
   ],
   "source": [
    "data.isnull().sum()"
   ]
  },
  {
   "cell_type": "markdown",
   "id": "c180e582",
   "metadata": {
    "papermill": {
     "duration": 0.018045,
     "end_time": "2022-11-16T10:24:10.884169",
     "exception": false,
     "start_time": "2022-11-16T10:24:10.866124",
     "status": "completed"
    },
    "tags": []
   },
   "source": [
    "## 6. Feature Engineering"
   ]
  },
  {
   "cell_type": "markdown",
   "id": "45e29024",
   "metadata": {
    "papermill": {
     "duration": 0.018011,
     "end_time": "2022-11-16T10:24:10.920365",
     "exception": false,
     "start_time": "2022-11-16T10:24:10.902354",
     "status": "completed"
    },
    "tags": []
   },
   "source": [
    "### Dropping Least Important Variable"
   ]
  },
  {
   "cell_type": "markdown",
   "id": "c1f2461e",
   "metadata": {
    "papermill": {
     "duration": 0.017812,
     "end_time": "2022-11-16T10:24:10.956444",
     "exception": false,
     "start_time": "2022-11-16T10:24:10.938632",
     "status": "completed"
    },
    "tags": []
   },
   "source": [
    "* As variable <b>id</b> has no correlation with any other variables, we can drop this variable."
   ]
  },
  {
   "cell_type": "code",
   "execution_count": 13,
   "id": "cc0b6717",
   "metadata": {
    "execution": {
     "iopub.execute_input": "2022-11-16T10:24:10.995254Z",
     "iopub.status.busy": "2022-11-16T10:24:10.994089Z",
     "iopub.status.idle": "2022-11-16T10:24:11.000407Z",
     "shell.execute_reply": "2022-11-16T10:24:10.999551Z"
    },
    "papermill": {
     "duration": 0.027833,
     "end_time": "2022-11-16T10:24:11.002628",
     "exception": false,
     "start_time": "2022-11-16T10:24:10.974795",
     "status": "completed"
    },
    "tags": []
   },
   "outputs": [],
   "source": [
    "data.drop('id',axis=1,inplace=True)"
   ]
  },
  {
   "cell_type": "code",
   "execution_count": 14,
   "id": "2575f5fd",
   "metadata": {
    "execution": {
     "iopub.execute_input": "2022-11-16T10:24:11.041136Z",
     "iopub.status.busy": "2022-11-16T10:24:11.040084Z",
     "iopub.status.idle": "2022-11-16T10:24:11.063721Z",
     "shell.execute_reply": "2022-11-16T10:24:11.060469Z"
    },
    "papermill": {
     "duration": 0.045973,
     "end_time": "2022-11-16T10:24:11.066883",
     "exception": false,
     "start_time": "2022-11-16T10:24:11.020910",
     "status": "completed"
    },
    "tags": []
   },
   "outputs": [
    {
     "data": {
      "text/html": [
       "<div>\n",
       "<style scoped>\n",
       "    .dataframe tbody tr th:only-of-type {\n",
       "        vertical-align: middle;\n",
       "    }\n",
       "\n",
       "    .dataframe tbody tr th {\n",
       "        vertical-align: top;\n",
       "    }\n",
       "\n",
       "    .dataframe thead th {\n",
       "        text-align: right;\n",
       "    }\n",
       "</style>\n",
       "<table border=\"1\" class=\"dataframe\">\n",
       "  <thead>\n",
       "    <tr style=\"text-align: right;\">\n",
       "      <th></th>\n",
       "      <th>gender</th>\n",
       "      <th>age</th>\n",
       "      <th>hypertension</th>\n",
       "      <th>heart_disease</th>\n",
       "      <th>ever_married</th>\n",
       "      <th>work_type</th>\n",
       "      <th>Residence_type</th>\n",
       "      <th>avg_glucose_level</th>\n",
       "      <th>bmi</th>\n",
       "      <th>smoking_status</th>\n",
       "      <th>stroke</th>\n",
       "    </tr>\n",
       "  </thead>\n",
       "  <tbody>\n",
       "    <tr>\n",
       "      <th>0</th>\n",
       "      <td>Male</td>\n",
       "      <td>67.0</td>\n",
       "      <td>0</td>\n",
       "      <td>1</td>\n",
       "      <td>Yes</td>\n",
       "      <td>Private</td>\n",
       "      <td>Urban</td>\n",
       "      <td>228.69</td>\n",
       "      <td>36.600000</td>\n",
       "      <td>formerly smoked</td>\n",
       "      <td>1</td>\n",
       "    </tr>\n",
       "    <tr>\n",
       "      <th>1</th>\n",
       "      <td>Female</td>\n",
       "      <td>61.0</td>\n",
       "      <td>0</td>\n",
       "      <td>0</td>\n",
       "      <td>Yes</td>\n",
       "      <td>Self-employed</td>\n",
       "      <td>Rural</td>\n",
       "      <td>202.21</td>\n",
       "      <td>28.893237</td>\n",
       "      <td>never smoked</td>\n",
       "      <td>1</td>\n",
       "    </tr>\n",
       "    <tr>\n",
       "      <th>2</th>\n",
       "      <td>Male</td>\n",
       "      <td>80.0</td>\n",
       "      <td>0</td>\n",
       "      <td>1</td>\n",
       "      <td>Yes</td>\n",
       "      <td>Private</td>\n",
       "      <td>Rural</td>\n",
       "      <td>105.92</td>\n",
       "      <td>32.500000</td>\n",
       "      <td>never smoked</td>\n",
       "      <td>1</td>\n",
       "    </tr>\n",
       "    <tr>\n",
       "      <th>3</th>\n",
       "      <td>Female</td>\n",
       "      <td>49.0</td>\n",
       "      <td>0</td>\n",
       "      <td>0</td>\n",
       "      <td>Yes</td>\n",
       "      <td>Private</td>\n",
       "      <td>Urban</td>\n",
       "      <td>171.23</td>\n",
       "      <td>34.400000</td>\n",
       "      <td>smokes</td>\n",
       "      <td>1</td>\n",
       "    </tr>\n",
       "    <tr>\n",
       "      <th>4</th>\n",
       "      <td>Female</td>\n",
       "      <td>79.0</td>\n",
       "      <td>1</td>\n",
       "      <td>0</td>\n",
       "      <td>Yes</td>\n",
       "      <td>Self-employed</td>\n",
       "      <td>Rural</td>\n",
       "      <td>174.12</td>\n",
       "      <td>24.000000</td>\n",
       "      <td>never smoked</td>\n",
       "      <td>1</td>\n",
       "    </tr>\n",
       "  </tbody>\n",
       "</table>\n",
       "</div>"
      ],
      "text/plain": [
       "   gender   age  hypertension  heart_disease ever_married      work_type  \\\n",
       "0    Male  67.0             0              1          Yes        Private   \n",
       "1  Female  61.0             0              0          Yes  Self-employed   \n",
       "2    Male  80.0             0              1          Yes        Private   \n",
       "3  Female  49.0             0              0          Yes        Private   \n",
       "4  Female  79.0             1              0          Yes  Self-employed   \n",
       "\n",
       "  Residence_type  avg_glucose_level        bmi   smoking_status  stroke  \n",
       "0          Urban             228.69  36.600000  formerly smoked       1  \n",
       "1          Rural             202.21  28.893237     never smoked       1  \n",
       "2          Rural             105.92  32.500000     never smoked       1  \n",
       "3          Urban             171.23  34.400000           smokes       1  \n",
       "4          Rural             174.12  24.000000     never smoked       1  "
      ]
     },
     "execution_count": 14,
     "metadata": {},
     "output_type": "execute_result"
    }
   ],
   "source": [
    "data.head()"
   ]
  },
  {
   "cell_type": "markdown",
   "id": "373784f2",
   "metadata": {
    "papermill": {
     "duration": 0.025459,
     "end_time": "2022-11-16T10:24:11.112647",
     "exception": false,
     "start_time": "2022-11-16T10:24:11.087188",
     "status": "completed"
    },
    "tags": []
   },
   "source": [
    "## 7. Label Encoding"
   ]
  },
  {
   "cell_type": "code",
   "execution_count": 15,
   "id": "e2fcc5bb",
   "metadata": {
    "execution": {
     "iopub.execute_input": "2022-11-16T10:24:11.161709Z",
     "iopub.status.busy": "2022-11-16T10:24:11.160444Z",
     "iopub.status.idle": "2022-11-16T10:24:11.177722Z",
     "shell.execute_reply": "2022-11-16T10:24:11.176659Z"
    },
    "papermill": {
     "duration": 0.042809,
     "end_time": "2022-11-16T10:24:11.179855",
     "exception": false,
     "start_time": "2022-11-16T10:24:11.137046",
     "status": "completed"
    },
    "tags": []
   },
   "outputs": [
    {
     "data": {
      "text/html": [
       "<div>\n",
       "<style scoped>\n",
       "    .dataframe tbody tr th:only-of-type {\n",
       "        vertical-align: middle;\n",
       "    }\n",
       "\n",
       "    .dataframe tbody tr th {\n",
       "        vertical-align: top;\n",
       "    }\n",
       "\n",
       "    .dataframe thead th {\n",
       "        text-align: right;\n",
       "    }\n",
       "</style>\n",
       "<table border=\"1\" class=\"dataframe\">\n",
       "  <thead>\n",
       "    <tr style=\"text-align: right;\">\n",
       "      <th></th>\n",
       "      <th>gender</th>\n",
       "      <th>age</th>\n",
       "      <th>hypertension</th>\n",
       "      <th>heart_disease</th>\n",
       "      <th>ever_married</th>\n",
       "      <th>work_type</th>\n",
       "      <th>Residence_type</th>\n",
       "      <th>avg_glucose_level</th>\n",
       "      <th>bmi</th>\n",
       "      <th>smoking_status</th>\n",
       "      <th>stroke</th>\n",
       "    </tr>\n",
       "  </thead>\n",
       "  <tbody>\n",
       "    <tr>\n",
       "      <th>0</th>\n",
       "      <td>Male</td>\n",
       "      <td>67.0</td>\n",
       "      <td>0</td>\n",
       "      <td>1</td>\n",
       "      <td>Yes</td>\n",
       "      <td>Private</td>\n",
       "      <td>Urban</td>\n",
       "      <td>228.69</td>\n",
       "      <td>36.600000</td>\n",
       "      <td>formerly smoked</td>\n",
       "      <td>1</td>\n",
       "    </tr>\n",
       "    <tr>\n",
       "      <th>1</th>\n",
       "      <td>Female</td>\n",
       "      <td>61.0</td>\n",
       "      <td>0</td>\n",
       "      <td>0</td>\n",
       "      <td>Yes</td>\n",
       "      <td>Self-employed</td>\n",
       "      <td>Rural</td>\n",
       "      <td>202.21</td>\n",
       "      <td>28.893237</td>\n",
       "      <td>never smoked</td>\n",
       "      <td>1</td>\n",
       "    </tr>\n",
       "    <tr>\n",
       "      <th>2</th>\n",
       "      <td>Male</td>\n",
       "      <td>80.0</td>\n",
       "      <td>0</td>\n",
       "      <td>1</td>\n",
       "      <td>Yes</td>\n",
       "      <td>Private</td>\n",
       "      <td>Rural</td>\n",
       "      <td>105.92</td>\n",
       "      <td>32.500000</td>\n",
       "      <td>never smoked</td>\n",
       "      <td>1</td>\n",
       "    </tr>\n",
       "    <tr>\n",
       "      <th>3</th>\n",
       "      <td>Female</td>\n",
       "      <td>49.0</td>\n",
       "      <td>0</td>\n",
       "      <td>0</td>\n",
       "      <td>Yes</td>\n",
       "      <td>Private</td>\n",
       "      <td>Urban</td>\n",
       "      <td>171.23</td>\n",
       "      <td>34.400000</td>\n",
       "      <td>smokes</td>\n",
       "      <td>1</td>\n",
       "    </tr>\n",
       "    <tr>\n",
       "      <th>4</th>\n",
       "      <td>Female</td>\n",
       "      <td>79.0</td>\n",
       "      <td>1</td>\n",
       "      <td>0</td>\n",
       "      <td>Yes</td>\n",
       "      <td>Self-employed</td>\n",
       "      <td>Rural</td>\n",
       "      <td>174.12</td>\n",
       "      <td>24.000000</td>\n",
       "      <td>never smoked</td>\n",
       "      <td>1</td>\n",
       "    </tr>\n",
       "  </tbody>\n",
       "</table>\n",
       "</div>"
      ],
      "text/plain": [
       "   gender   age  hypertension  heart_disease ever_married      work_type  \\\n",
       "0    Male  67.0             0              1          Yes        Private   \n",
       "1  Female  61.0             0              0          Yes  Self-employed   \n",
       "2    Male  80.0             0              1          Yes        Private   \n",
       "3  Female  49.0             0              0          Yes        Private   \n",
       "4  Female  79.0             1              0          Yes  Self-employed   \n",
       "\n",
       "  Residence_type  avg_glucose_level        bmi   smoking_status  stroke  \n",
       "0          Urban             228.69  36.600000  formerly smoked       1  \n",
       "1          Rural             202.21  28.893237     never smoked       1  \n",
       "2          Rural             105.92  32.500000     never smoked       1  \n",
       "3          Urban             171.23  34.400000           smokes       1  \n",
       "4          Rural             174.12  24.000000     never smoked       1  "
      ]
     },
     "execution_count": 15,
     "metadata": {},
     "output_type": "execute_result"
    }
   ],
   "source": [
    "data.head()"
   ]
  },
  {
   "cell_type": "code",
   "execution_count": 16,
   "id": "f344badf",
   "metadata": {
    "execution": {
     "iopub.execute_input": "2022-11-16T10:24:11.221432Z",
     "iopub.status.busy": "2022-11-16T10:24:11.220274Z",
     "iopub.status.idle": "2022-11-16T10:24:12.138296Z",
     "shell.execute_reply": "2022-11-16T10:24:12.137115Z"
    },
    "papermill": {
     "duration": 0.941713,
     "end_time": "2022-11-16T10:24:12.141026",
     "exception": false,
     "start_time": "2022-11-16T10:24:11.199313",
     "status": "completed"
    },
    "tags": []
   },
   "outputs": [],
   "source": [
    "from sklearn.preprocessing import LabelEncoder\n",
    "enc=LabelEncoder()"
   ]
  },
  {
   "cell_type": "code",
   "execution_count": 17,
   "id": "fd7136a3",
   "metadata": {
    "execution": {
     "iopub.execute_input": "2022-11-16T10:24:12.181805Z",
     "iopub.status.busy": "2022-11-16T10:24:12.181391Z",
     "iopub.status.idle": "2022-11-16T10:24:12.187711Z",
     "shell.execute_reply": "2022-11-16T10:24:12.186652Z"
    },
    "papermill": {
     "duration": 0.029088,
     "end_time": "2022-11-16T10:24:12.190179",
     "exception": false,
     "start_time": "2022-11-16T10:24:12.161091",
     "status": "completed"
    },
    "tags": []
   },
   "outputs": [],
   "source": [
    "gender=enc.fit_transform(data['gender'])"
   ]
  },
  {
   "cell_type": "code",
   "execution_count": 18,
   "id": "19da88d1",
   "metadata": {
    "execution": {
     "iopub.execute_input": "2022-11-16T10:24:12.230121Z",
     "iopub.status.busy": "2022-11-16T10:24:12.229734Z",
     "iopub.status.idle": "2022-11-16T10:24:12.236043Z",
     "shell.execute_reply": "2022-11-16T10:24:12.235172Z"
    },
    "papermill": {
     "duration": 0.028659,
     "end_time": "2022-11-16T10:24:12.238125",
     "exception": false,
     "start_time": "2022-11-16T10:24:12.209466",
     "status": "completed"
    },
    "tags": []
   },
   "outputs": [],
   "source": [
    "smoking_status=enc.fit_transform(data['smoking_status'])"
   ]
  },
  {
   "cell_type": "code",
   "execution_count": 19,
   "id": "067c99f6",
   "metadata": {
    "execution": {
     "iopub.execute_input": "2022-11-16T10:24:12.278665Z",
     "iopub.status.busy": "2022-11-16T10:24:12.277569Z",
     "iopub.status.idle": "2022-11-16T10:24:12.287245Z",
     "shell.execute_reply": "2022-11-16T10:24:12.286497Z"
    },
    "papermill": {
     "duration": 0.03203,
     "end_time": "2022-11-16T10:24:12.289317",
     "exception": false,
     "start_time": "2022-11-16T10:24:12.257287",
     "status": "completed"
    },
    "tags": []
   },
   "outputs": [],
   "source": [
    "work_type=enc.fit_transform(data['work_type'])\n",
    "Residence_type=enc.fit_transform(data['Residence_type'])\n",
    "ever_married=enc.fit_transform(data['ever_married'])"
   ]
  },
  {
   "cell_type": "code",
   "execution_count": 20,
   "id": "5d865492",
   "metadata": {
    "execution": {
     "iopub.execute_input": "2022-11-16T10:24:12.329417Z",
     "iopub.status.busy": "2022-11-16T10:24:12.328208Z",
     "iopub.status.idle": "2022-11-16T10:24:12.333983Z",
     "shell.execute_reply": "2022-11-16T10:24:12.332881Z"
    },
    "papermill": {
     "duration": 0.027792,
     "end_time": "2022-11-16T10:24:12.336246",
     "exception": false,
     "start_time": "2022-11-16T10:24:12.308454",
     "status": "completed"
    },
    "tags": []
   },
   "outputs": [],
   "source": [
    "data['work_type']=work_type"
   ]
  },
  {
   "cell_type": "code",
   "execution_count": 21,
   "id": "3dc13838",
   "metadata": {
    "execution": {
     "iopub.execute_input": "2022-11-16T10:24:12.375908Z",
     "iopub.status.busy": "2022-11-16T10:24:12.375479Z",
     "iopub.status.idle": "2022-11-16T10:24:12.383125Z",
     "shell.execute_reply": "2022-11-16T10:24:12.382023Z"
    },
    "papermill": {
     "duration": 0.030662,
     "end_time": "2022-11-16T10:24:12.385622",
     "exception": false,
     "start_time": "2022-11-16T10:24:12.354960",
     "status": "completed"
    },
    "tags": []
   },
   "outputs": [],
   "source": [
    "data['ever_married']=ever_married\n",
    "data['Residence_type']=Residence_type\n",
    "data['smoking_status']=smoking_status\n",
    "data['gender']=gender"
   ]
  },
  {
   "cell_type": "code",
   "execution_count": 22,
   "id": "fa5dd00f",
   "metadata": {
    "execution": {
     "iopub.execute_input": "2022-11-16T10:24:12.425951Z",
     "iopub.status.busy": "2022-11-16T10:24:12.425507Z",
     "iopub.status.idle": "2022-11-16T10:24:12.446815Z",
     "shell.execute_reply": "2022-11-16T10:24:12.445790Z"
    },
    "papermill": {
     "duration": 0.04406,
     "end_time": "2022-11-16T10:24:12.449108",
     "exception": false,
     "start_time": "2022-11-16T10:24:12.405048",
     "status": "completed"
    },
    "scrolled": true,
    "tags": []
   },
   "outputs": [
    {
     "data": {
      "text/html": [
       "<div>\n",
       "<style scoped>\n",
       "    .dataframe tbody tr th:only-of-type {\n",
       "        vertical-align: middle;\n",
       "    }\n",
       "\n",
       "    .dataframe tbody tr th {\n",
       "        vertical-align: top;\n",
       "    }\n",
       "\n",
       "    .dataframe thead th {\n",
       "        text-align: right;\n",
       "    }\n",
       "</style>\n",
       "<table border=\"1\" class=\"dataframe\">\n",
       "  <thead>\n",
       "    <tr style=\"text-align: right;\">\n",
       "      <th></th>\n",
       "      <th>gender</th>\n",
       "      <th>age</th>\n",
       "      <th>hypertension</th>\n",
       "      <th>heart_disease</th>\n",
       "      <th>ever_married</th>\n",
       "      <th>work_type</th>\n",
       "      <th>Residence_type</th>\n",
       "      <th>avg_glucose_level</th>\n",
       "      <th>bmi</th>\n",
       "      <th>smoking_status</th>\n",
       "      <th>stroke</th>\n",
       "    </tr>\n",
       "  </thead>\n",
       "  <tbody>\n",
       "    <tr>\n",
       "      <th>0</th>\n",
       "      <td>1</td>\n",
       "      <td>67.0</td>\n",
       "      <td>0</td>\n",
       "      <td>1</td>\n",
       "      <td>1</td>\n",
       "      <td>2</td>\n",
       "      <td>1</td>\n",
       "      <td>228.69</td>\n",
       "      <td>36.600000</td>\n",
       "      <td>1</td>\n",
       "      <td>1</td>\n",
       "    </tr>\n",
       "    <tr>\n",
       "      <th>1</th>\n",
       "      <td>0</td>\n",
       "      <td>61.0</td>\n",
       "      <td>0</td>\n",
       "      <td>0</td>\n",
       "      <td>1</td>\n",
       "      <td>3</td>\n",
       "      <td>0</td>\n",
       "      <td>202.21</td>\n",
       "      <td>28.893237</td>\n",
       "      <td>2</td>\n",
       "      <td>1</td>\n",
       "    </tr>\n",
       "    <tr>\n",
       "      <th>2</th>\n",
       "      <td>1</td>\n",
       "      <td>80.0</td>\n",
       "      <td>0</td>\n",
       "      <td>1</td>\n",
       "      <td>1</td>\n",
       "      <td>2</td>\n",
       "      <td>0</td>\n",
       "      <td>105.92</td>\n",
       "      <td>32.500000</td>\n",
       "      <td>2</td>\n",
       "      <td>1</td>\n",
       "    </tr>\n",
       "    <tr>\n",
       "      <th>3</th>\n",
       "      <td>0</td>\n",
       "      <td>49.0</td>\n",
       "      <td>0</td>\n",
       "      <td>0</td>\n",
       "      <td>1</td>\n",
       "      <td>2</td>\n",
       "      <td>1</td>\n",
       "      <td>171.23</td>\n",
       "      <td>34.400000</td>\n",
       "      <td>3</td>\n",
       "      <td>1</td>\n",
       "    </tr>\n",
       "    <tr>\n",
       "      <th>4</th>\n",
       "      <td>0</td>\n",
       "      <td>79.0</td>\n",
       "      <td>1</td>\n",
       "      <td>0</td>\n",
       "      <td>1</td>\n",
       "      <td>3</td>\n",
       "      <td>0</td>\n",
       "      <td>174.12</td>\n",
       "      <td>24.000000</td>\n",
       "      <td>2</td>\n",
       "      <td>1</td>\n",
       "    </tr>\n",
       "    <tr>\n",
       "      <th>...</th>\n",
       "      <td>...</td>\n",
       "      <td>...</td>\n",
       "      <td>...</td>\n",
       "      <td>...</td>\n",
       "      <td>...</td>\n",
       "      <td>...</td>\n",
       "      <td>...</td>\n",
       "      <td>...</td>\n",
       "      <td>...</td>\n",
       "      <td>...</td>\n",
       "      <td>...</td>\n",
       "    </tr>\n",
       "    <tr>\n",
       "      <th>5105</th>\n",
       "      <td>0</td>\n",
       "      <td>80.0</td>\n",
       "      <td>1</td>\n",
       "      <td>0</td>\n",
       "      <td>1</td>\n",
       "      <td>2</td>\n",
       "      <td>1</td>\n",
       "      <td>83.75</td>\n",
       "      <td>28.893237</td>\n",
       "      <td>2</td>\n",
       "      <td>0</td>\n",
       "    </tr>\n",
       "    <tr>\n",
       "      <th>5106</th>\n",
       "      <td>0</td>\n",
       "      <td>81.0</td>\n",
       "      <td>0</td>\n",
       "      <td>0</td>\n",
       "      <td>1</td>\n",
       "      <td>3</td>\n",
       "      <td>1</td>\n",
       "      <td>125.20</td>\n",
       "      <td>40.000000</td>\n",
       "      <td>2</td>\n",
       "      <td>0</td>\n",
       "    </tr>\n",
       "    <tr>\n",
       "      <th>5107</th>\n",
       "      <td>0</td>\n",
       "      <td>35.0</td>\n",
       "      <td>0</td>\n",
       "      <td>0</td>\n",
       "      <td>1</td>\n",
       "      <td>3</td>\n",
       "      <td>0</td>\n",
       "      <td>82.99</td>\n",
       "      <td>30.600000</td>\n",
       "      <td>2</td>\n",
       "      <td>0</td>\n",
       "    </tr>\n",
       "    <tr>\n",
       "      <th>5108</th>\n",
       "      <td>1</td>\n",
       "      <td>51.0</td>\n",
       "      <td>0</td>\n",
       "      <td>0</td>\n",
       "      <td>1</td>\n",
       "      <td>2</td>\n",
       "      <td>0</td>\n",
       "      <td>166.29</td>\n",
       "      <td>25.600000</td>\n",
       "      <td>1</td>\n",
       "      <td>0</td>\n",
       "    </tr>\n",
       "    <tr>\n",
       "      <th>5109</th>\n",
       "      <td>0</td>\n",
       "      <td>44.0</td>\n",
       "      <td>0</td>\n",
       "      <td>0</td>\n",
       "      <td>1</td>\n",
       "      <td>0</td>\n",
       "      <td>1</td>\n",
       "      <td>85.28</td>\n",
       "      <td>26.200000</td>\n",
       "      <td>0</td>\n",
       "      <td>0</td>\n",
       "    </tr>\n",
       "  </tbody>\n",
       "</table>\n",
       "<p>5110 rows × 11 columns</p>\n",
       "</div>"
      ],
      "text/plain": [
       "      gender   age  hypertension  heart_disease  ever_married  work_type  \\\n",
       "0          1  67.0             0              1             1          2   \n",
       "1          0  61.0             0              0             1          3   \n",
       "2          1  80.0             0              1             1          2   \n",
       "3          0  49.0             0              0             1          2   \n",
       "4          0  79.0             1              0             1          3   \n",
       "...      ...   ...           ...            ...           ...        ...   \n",
       "5105       0  80.0             1              0             1          2   \n",
       "5106       0  81.0             0              0             1          3   \n",
       "5107       0  35.0             0              0             1          3   \n",
       "5108       1  51.0             0              0             1          2   \n",
       "5109       0  44.0             0              0             1          0   \n",
       "\n",
       "      Residence_type  avg_glucose_level        bmi  smoking_status  stroke  \n",
       "0                  1             228.69  36.600000               1       1  \n",
       "1                  0             202.21  28.893237               2       1  \n",
       "2                  0             105.92  32.500000               2       1  \n",
       "3                  1             171.23  34.400000               3       1  \n",
       "4                  0             174.12  24.000000               2       1  \n",
       "...              ...                ...        ...             ...     ...  \n",
       "5105               1              83.75  28.893237               2       0  \n",
       "5106               1             125.20  40.000000               2       0  \n",
       "5107               0              82.99  30.600000               2       0  \n",
       "5108               0             166.29  25.600000               1       0  \n",
       "5109               1              85.28  26.200000               0       0  \n",
       "\n",
       "[5110 rows x 11 columns]"
      ]
     },
     "execution_count": 22,
     "metadata": {},
     "output_type": "execute_result"
    }
   ],
   "source": [
    "data"
   ]
  },
  {
   "cell_type": "code",
   "execution_count": 23,
   "id": "caa829cf",
   "metadata": {
    "execution": {
     "iopub.execute_input": "2022-11-16T10:24:12.489244Z",
     "iopub.status.busy": "2022-11-16T10:24:12.488806Z",
     "iopub.status.idle": "2022-11-16T10:24:12.504414Z",
     "shell.execute_reply": "2022-11-16T10:24:12.502494Z"
    },
    "papermill": {
     "duration": 0.038198,
     "end_time": "2022-11-16T10:24:12.506636",
     "exception": false,
     "start_time": "2022-11-16T10:24:12.468438",
     "status": "completed"
    },
    "tags": []
   },
   "outputs": [
    {
     "name": "stdout",
     "output_type": "stream",
     "text": [
      "<class 'pandas.core.frame.DataFrame'>\n",
      "RangeIndex: 5110 entries, 0 to 5109\n",
      "Data columns (total 11 columns):\n",
      " #   Column             Non-Null Count  Dtype  \n",
      "---  ------             --------------  -----  \n",
      " 0   gender             5110 non-null   int64  \n",
      " 1   age                5110 non-null   float64\n",
      " 2   hypertension       5110 non-null   int64  \n",
      " 3   heart_disease      5110 non-null   int64  \n",
      " 4   ever_married       5110 non-null   int64  \n",
      " 5   work_type          5110 non-null   int64  \n",
      " 6   Residence_type     5110 non-null   int64  \n",
      " 7   avg_glucose_level  5110 non-null   float64\n",
      " 8   bmi                5110 non-null   float64\n",
      " 9   smoking_status     5110 non-null   int64  \n",
      " 10  stroke             5110 non-null   int64  \n",
      "dtypes: float64(3), int64(8)\n",
      "memory usage: 439.3 KB\n"
     ]
    }
   ],
   "source": [
    "data.info()"
   ]
  },
  {
   "cell_type": "markdown",
   "id": "28197895",
   "metadata": {
    "papermill": {
     "duration": 0.019018,
     "end_time": "2022-11-16T10:24:12.545626",
     "exception": false,
     "start_time": "2022-11-16T10:24:12.526608",
     "status": "completed"
    },
    "tags": []
   },
   "source": [
    "## 8. Splitting the data into train and test data"
   ]
  },
  {
   "cell_type": "markdown",
   "id": "a5c3806b",
   "metadata": {
    "papermill": {
     "duration": 0.018825,
     "end_time": "2022-11-16T10:24:12.583670",
     "exception": false,
     "start_time": "2022-11-16T10:24:12.564845",
     "status": "completed"
    },
    "tags": []
   },
   "source": [
    "### a) Separating the target variable - stroke from the dataframe"
   ]
  },
  {
   "cell_type": "code",
   "execution_count": 24,
   "id": "86548127",
   "metadata": {
    "execution": {
     "iopub.execute_input": "2022-11-16T10:24:12.624169Z",
     "iopub.status.busy": "2022-11-16T10:24:12.623361Z",
     "iopub.status.idle": "2022-11-16T10:24:12.630264Z",
     "shell.execute_reply": "2022-11-16T10:24:12.629452Z"
    },
    "papermill": {
     "duration": 0.029653,
     "end_time": "2022-11-16T10:24:12.632525",
     "exception": false,
     "start_time": "2022-11-16T10:24:12.602872",
     "status": "completed"
    },
    "tags": []
   },
   "outputs": [],
   "source": [
    "X=data.drop('stroke',axis=1)"
   ]
  },
  {
   "cell_type": "code",
   "execution_count": 25,
   "id": "f9ba4107",
   "metadata": {
    "execution": {
     "iopub.execute_input": "2022-11-16T10:24:12.672919Z",
     "iopub.status.busy": "2022-11-16T10:24:12.672100Z",
     "iopub.status.idle": "2022-11-16T10:24:12.686842Z",
     "shell.execute_reply": "2022-11-16T10:24:12.685795Z"
    },
    "papermill": {
     "duration": 0.037372,
     "end_time": "2022-11-16T10:24:12.689033",
     "exception": false,
     "start_time": "2022-11-16T10:24:12.651661",
     "status": "completed"
    },
    "tags": []
   },
   "outputs": [
    {
     "data": {
      "text/html": [
       "<div>\n",
       "<style scoped>\n",
       "    .dataframe tbody tr th:only-of-type {\n",
       "        vertical-align: middle;\n",
       "    }\n",
       "\n",
       "    .dataframe tbody tr th {\n",
       "        vertical-align: top;\n",
       "    }\n",
       "\n",
       "    .dataframe thead th {\n",
       "        text-align: right;\n",
       "    }\n",
       "</style>\n",
       "<table border=\"1\" class=\"dataframe\">\n",
       "  <thead>\n",
       "    <tr style=\"text-align: right;\">\n",
       "      <th></th>\n",
       "      <th>gender</th>\n",
       "      <th>age</th>\n",
       "      <th>hypertension</th>\n",
       "      <th>heart_disease</th>\n",
       "      <th>ever_married</th>\n",
       "      <th>work_type</th>\n",
       "      <th>Residence_type</th>\n",
       "      <th>avg_glucose_level</th>\n",
       "      <th>bmi</th>\n",
       "      <th>smoking_status</th>\n",
       "    </tr>\n",
       "  </thead>\n",
       "  <tbody>\n",
       "    <tr>\n",
       "      <th>0</th>\n",
       "      <td>1</td>\n",
       "      <td>67.0</td>\n",
       "      <td>0</td>\n",
       "      <td>1</td>\n",
       "      <td>1</td>\n",
       "      <td>2</td>\n",
       "      <td>1</td>\n",
       "      <td>228.69</td>\n",
       "      <td>36.600000</td>\n",
       "      <td>1</td>\n",
       "    </tr>\n",
       "    <tr>\n",
       "      <th>1</th>\n",
       "      <td>0</td>\n",
       "      <td>61.0</td>\n",
       "      <td>0</td>\n",
       "      <td>0</td>\n",
       "      <td>1</td>\n",
       "      <td>3</td>\n",
       "      <td>0</td>\n",
       "      <td>202.21</td>\n",
       "      <td>28.893237</td>\n",
       "      <td>2</td>\n",
       "    </tr>\n",
       "    <tr>\n",
       "      <th>2</th>\n",
       "      <td>1</td>\n",
       "      <td>80.0</td>\n",
       "      <td>0</td>\n",
       "      <td>1</td>\n",
       "      <td>1</td>\n",
       "      <td>2</td>\n",
       "      <td>0</td>\n",
       "      <td>105.92</td>\n",
       "      <td>32.500000</td>\n",
       "      <td>2</td>\n",
       "    </tr>\n",
       "    <tr>\n",
       "      <th>3</th>\n",
       "      <td>0</td>\n",
       "      <td>49.0</td>\n",
       "      <td>0</td>\n",
       "      <td>0</td>\n",
       "      <td>1</td>\n",
       "      <td>2</td>\n",
       "      <td>1</td>\n",
       "      <td>171.23</td>\n",
       "      <td>34.400000</td>\n",
       "      <td>3</td>\n",
       "    </tr>\n",
       "    <tr>\n",
       "      <th>4</th>\n",
       "      <td>0</td>\n",
       "      <td>79.0</td>\n",
       "      <td>1</td>\n",
       "      <td>0</td>\n",
       "      <td>1</td>\n",
       "      <td>3</td>\n",
       "      <td>0</td>\n",
       "      <td>174.12</td>\n",
       "      <td>24.000000</td>\n",
       "      <td>2</td>\n",
       "    </tr>\n",
       "  </tbody>\n",
       "</table>\n",
       "</div>"
      ],
      "text/plain": [
       "   gender   age  hypertension  heart_disease  ever_married  work_type  \\\n",
       "0       1  67.0             0              1             1          2   \n",
       "1       0  61.0             0              0             1          3   \n",
       "2       1  80.0             0              1             1          2   \n",
       "3       0  49.0             0              0             1          2   \n",
       "4       0  79.0             1              0             1          3   \n",
       "\n",
       "   Residence_type  avg_glucose_level        bmi  smoking_status  \n",
       "0               1             228.69  36.600000               1  \n",
       "1               0             202.21  28.893237               2  \n",
       "2               0             105.92  32.500000               2  \n",
       "3               1             171.23  34.400000               3  \n",
       "4               0             174.12  24.000000               2  "
      ]
     },
     "execution_count": 25,
     "metadata": {},
     "output_type": "execute_result"
    }
   ],
   "source": [
    "X.head()"
   ]
  },
  {
   "cell_type": "code",
   "execution_count": 26,
   "id": "ec149ba0",
   "metadata": {
    "execution": {
     "iopub.execute_input": "2022-11-16T10:24:12.730209Z",
     "iopub.status.busy": "2022-11-16T10:24:12.729781Z",
     "iopub.status.idle": "2022-11-16T10:24:12.734509Z",
     "shell.execute_reply": "2022-11-16T10:24:12.733591Z"
    },
    "papermill": {
     "duration": 0.027658,
     "end_time": "2022-11-16T10:24:12.736734",
     "exception": false,
     "start_time": "2022-11-16T10:24:12.709076",
     "status": "completed"
    },
    "tags": []
   },
   "outputs": [],
   "source": [
    "Y=data['stroke']"
   ]
  },
  {
   "cell_type": "code",
   "execution_count": 27,
   "id": "03f4710e",
   "metadata": {
    "execution": {
     "iopub.execute_input": "2022-11-16T10:24:12.777543Z",
     "iopub.status.busy": "2022-11-16T10:24:12.776825Z",
     "iopub.status.idle": "2022-11-16T10:24:12.785248Z",
     "shell.execute_reply": "2022-11-16T10:24:12.784195Z"
    },
    "papermill": {
     "duration": 0.031597,
     "end_time": "2022-11-16T10:24:12.787576",
     "exception": false,
     "start_time": "2022-11-16T10:24:12.755979",
     "status": "completed"
    },
    "tags": []
   },
   "outputs": [
    {
     "data": {
      "text/plain": [
       "0       1\n",
       "1       1\n",
       "2       1\n",
       "3       1\n",
       "4       1\n",
       "       ..\n",
       "5105    0\n",
       "5106    0\n",
       "5107    0\n",
       "5108    0\n",
       "5109    0\n",
       "Name: stroke, Length: 5110, dtype: int64"
      ]
     },
     "execution_count": 27,
     "metadata": {},
     "output_type": "execute_result"
    }
   ],
   "source": [
    "Y"
   ]
  },
  {
   "cell_type": "markdown",
   "id": "72843c90",
   "metadata": {
    "papermill": {
     "duration": 0.022264,
     "end_time": "2022-11-16T10:24:12.829501",
     "exception": false,
     "start_time": "2022-11-16T10:24:12.807237",
     "status": "completed"
    },
    "tags": []
   },
   "source": [
    "### b) Performing Train, Test & Split"
   ]
  },
  {
   "cell_type": "code",
   "execution_count": 28,
   "id": "e3a59057",
   "metadata": {
    "execution": {
     "iopub.execute_input": "2022-11-16T10:24:12.871201Z",
     "iopub.status.busy": "2022-11-16T10:24:12.870512Z",
     "iopub.status.idle": "2022-11-16T10:24:12.931373Z",
     "shell.execute_reply": "2022-11-16T10:24:12.930426Z"
    },
    "papermill": {
     "duration": 0.084369,
     "end_time": "2022-11-16T10:24:12.933904",
     "exception": false,
     "start_time": "2022-11-16T10:24:12.849535",
     "status": "completed"
    },
    "tags": []
   },
   "outputs": [],
   "source": [
    "from sklearn.model_selection import train_test_split\n",
    "X_train, X_test, Y_train, Y_test=train_test_split(X,Y,test_size=0.2,random_state=10)"
   ]
  },
  {
   "cell_type": "code",
   "execution_count": 29,
   "id": "0f4fff1e",
   "metadata": {
    "execution": {
     "iopub.execute_input": "2022-11-16T10:24:12.975773Z",
     "iopub.status.busy": "2022-11-16T10:24:12.974807Z",
     "iopub.status.idle": "2022-11-16T10:24:12.992948Z",
     "shell.execute_reply": "2022-11-16T10:24:12.992194Z"
    },
    "papermill": {
     "duration": 0.041589,
     "end_time": "2022-11-16T10:24:12.995091",
     "exception": false,
     "start_time": "2022-11-16T10:24:12.953502",
     "status": "completed"
    },
    "tags": []
   },
   "outputs": [
    {
     "data": {
      "text/html": [
       "<div>\n",
       "<style scoped>\n",
       "    .dataframe tbody tr th:only-of-type {\n",
       "        vertical-align: middle;\n",
       "    }\n",
       "\n",
       "    .dataframe tbody tr th {\n",
       "        vertical-align: top;\n",
       "    }\n",
       "\n",
       "    .dataframe thead th {\n",
       "        text-align: right;\n",
       "    }\n",
       "</style>\n",
       "<table border=\"1\" class=\"dataframe\">\n",
       "  <thead>\n",
       "    <tr style=\"text-align: right;\">\n",
       "      <th></th>\n",
       "      <th>gender</th>\n",
       "      <th>age</th>\n",
       "      <th>hypertension</th>\n",
       "      <th>heart_disease</th>\n",
       "      <th>ever_married</th>\n",
       "      <th>work_type</th>\n",
       "      <th>Residence_type</th>\n",
       "      <th>avg_glucose_level</th>\n",
       "      <th>bmi</th>\n",
       "      <th>smoking_status</th>\n",
       "    </tr>\n",
       "  </thead>\n",
       "  <tbody>\n",
       "    <tr>\n",
       "      <th>2285</th>\n",
       "      <td>1</td>\n",
       "      <td>49.0</td>\n",
       "      <td>0</td>\n",
       "      <td>0</td>\n",
       "      <td>1</td>\n",
       "      <td>2</td>\n",
       "      <td>0</td>\n",
       "      <td>79.64</td>\n",
       "      <td>28.893237</td>\n",
       "      <td>3</td>\n",
       "    </tr>\n",
       "    <tr>\n",
       "      <th>4733</th>\n",
       "      <td>1</td>\n",
       "      <td>67.0</td>\n",
       "      <td>0</td>\n",
       "      <td>0</td>\n",
       "      <td>1</td>\n",
       "      <td>2</td>\n",
       "      <td>0</td>\n",
       "      <td>83.16</td>\n",
       "      <td>25.500000</td>\n",
       "      <td>1</td>\n",
       "    </tr>\n",
       "    <tr>\n",
       "      <th>3905</th>\n",
       "      <td>1</td>\n",
       "      <td>78.0</td>\n",
       "      <td>0</td>\n",
       "      <td>0</td>\n",
       "      <td>1</td>\n",
       "      <td>2</td>\n",
       "      <td>1</td>\n",
       "      <td>208.85</td>\n",
       "      <td>24.400000</td>\n",
       "      <td>1</td>\n",
       "    </tr>\n",
       "    <tr>\n",
       "      <th>4700</th>\n",
       "      <td>1</td>\n",
       "      <td>47.0</td>\n",
       "      <td>0</td>\n",
       "      <td>0</td>\n",
       "      <td>1</td>\n",
       "      <td>2</td>\n",
       "      <td>0</td>\n",
       "      <td>110.14</td>\n",
       "      <td>30.500000</td>\n",
       "      <td>3</td>\n",
       "    </tr>\n",
       "    <tr>\n",
       "      <th>4939</th>\n",
       "      <td>0</td>\n",
       "      <td>59.0</td>\n",
       "      <td>0</td>\n",
       "      <td>0</td>\n",
       "      <td>1</td>\n",
       "      <td>2</td>\n",
       "      <td>1</td>\n",
       "      <td>71.08</td>\n",
       "      <td>28.100000</td>\n",
       "      <td>2</td>\n",
       "    </tr>\n",
       "    <tr>\n",
       "      <th>...</th>\n",
       "      <td>...</td>\n",
       "      <td>...</td>\n",
       "      <td>...</td>\n",
       "      <td>...</td>\n",
       "      <td>...</td>\n",
       "      <td>...</td>\n",
       "      <td>...</td>\n",
       "      <td>...</td>\n",
       "      <td>...</td>\n",
       "      <td>...</td>\n",
       "    </tr>\n",
       "    <tr>\n",
       "      <th>1180</th>\n",
       "      <td>0</td>\n",
       "      <td>62.0</td>\n",
       "      <td>0</td>\n",
       "      <td>0</td>\n",
       "      <td>1</td>\n",
       "      <td>2</td>\n",
       "      <td>0</td>\n",
       "      <td>82.57</td>\n",
       "      <td>36.000000</td>\n",
       "      <td>1</td>\n",
       "    </tr>\n",
       "    <tr>\n",
       "      <th>3441</th>\n",
       "      <td>0</td>\n",
       "      <td>59.0</td>\n",
       "      <td>0</td>\n",
       "      <td>0</td>\n",
       "      <td>1</td>\n",
       "      <td>3</td>\n",
       "      <td>1</td>\n",
       "      <td>90.06</td>\n",
       "      <td>28.900000</td>\n",
       "      <td>3</td>\n",
       "    </tr>\n",
       "    <tr>\n",
       "      <th>1344</th>\n",
       "      <td>1</td>\n",
       "      <td>47.0</td>\n",
       "      <td>0</td>\n",
       "      <td>0</td>\n",
       "      <td>1</td>\n",
       "      <td>2</td>\n",
       "      <td>0</td>\n",
       "      <td>86.37</td>\n",
       "      <td>39.200000</td>\n",
       "      <td>3</td>\n",
       "    </tr>\n",
       "    <tr>\n",
       "      <th>4623</th>\n",
       "      <td>1</td>\n",
       "      <td>25.0</td>\n",
       "      <td>0</td>\n",
       "      <td>0</td>\n",
       "      <td>1</td>\n",
       "      <td>0</td>\n",
       "      <td>1</td>\n",
       "      <td>166.38</td>\n",
       "      <td>23.100000</td>\n",
       "      <td>2</td>\n",
       "    </tr>\n",
       "    <tr>\n",
       "      <th>1289</th>\n",
       "      <td>0</td>\n",
       "      <td>80.0</td>\n",
       "      <td>0</td>\n",
       "      <td>0</td>\n",
       "      <td>1</td>\n",
       "      <td>3</td>\n",
       "      <td>0</td>\n",
       "      <td>72.61</td>\n",
       "      <td>27.600000</td>\n",
       "      <td>2</td>\n",
       "    </tr>\n",
       "  </tbody>\n",
       "</table>\n",
       "<p>4088 rows × 10 columns</p>\n",
       "</div>"
      ],
      "text/plain": [
       "      gender   age  hypertension  heart_disease  ever_married  work_type  \\\n",
       "2285       1  49.0             0              0             1          2   \n",
       "4733       1  67.0             0              0             1          2   \n",
       "3905       1  78.0             0              0             1          2   \n",
       "4700       1  47.0             0              0             1          2   \n",
       "4939       0  59.0             0              0             1          2   \n",
       "...      ...   ...           ...            ...           ...        ...   \n",
       "1180       0  62.0             0              0             1          2   \n",
       "3441       0  59.0             0              0             1          3   \n",
       "1344       1  47.0             0              0             1          2   \n",
       "4623       1  25.0             0              0             1          0   \n",
       "1289       0  80.0             0              0             1          3   \n",
       "\n",
       "      Residence_type  avg_glucose_level        bmi  smoking_status  \n",
       "2285               0              79.64  28.893237               3  \n",
       "4733               0              83.16  25.500000               1  \n",
       "3905               1             208.85  24.400000               1  \n",
       "4700               0             110.14  30.500000               3  \n",
       "4939               1              71.08  28.100000               2  \n",
       "...              ...                ...        ...             ...  \n",
       "1180               0              82.57  36.000000               1  \n",
       "3441               1              90.06  28.900000               3  \n",
       "1344               0              86.37  39.200000               3  \n",
       "4623               1             166.38  23.100000               2  \n",
       "1289               0              72.61  27.600000               2  \n",
       "\n",
       "[4088 rows x 10 columns]"
      ]
     },
     "execution_count": 29,
     "metadata": {},
     "output_type": "execute_result"
    }
   ],
   "source": [
    "X_train"
   ]
  },
  {
   "cell_type": "code",
   "execution_count": 30,
   "id": "fac3a2af",
   "metadata": {
    "execution": {
     "iopub.execute_input": "2022-11-16T10:24:13.037254Z",
     "iopub.status.busy": "2022-11-16T10:24:13.036527Z",
     "iopub.status.idle": "2022-11-16T10:24:13.043416Z",
     "shell.execute_reply": "2022-11-16T10:24:13.042665Z"
    },
    "papermill": {
     "duration": 0.030221,
     "end_time": "2022-11-16T10:24:13.045449",
     "exception": false,
     "start_time": "2022-11-16T10:24:13.015228",
     "status": "completed"
    },
    "tags": []
   },
   "outputs": [
    {
     "data": {
      "text/plain": [
       "2285    0\n",
       "4733    0\n",
       "3905    0\n",
       "4700    0\n",
       "4939    0\n",
       "       ..\n",
       "1180    0\n",
       "3441    0\n",
       "1344    0\n",
       "4623    0\n",
       "1289    0\n",
       "Name: stroke, Length: 4088, dtype: int64"
      ]
     },
     "execution_count": 30,
     "metadata": {},
     "output_type": "execute_result"
    }
   ],
   "source": [
    "Y_train"
   ]
  },
  {
   "cell_type": "code",
   "execution_count": 31,
   "id": "891df4d1",
   "metadata": {
    "execution": {
     "iopub.execute_input": "2022-11-16T10:24:13.087926Z",
     "iopub.status.busy": "2022-11-16T10:24:13.087233Z",
     "iopub.status.idle": "2022-11-16T10:24:13.105106Z",
     "shell.execute_reply": "2022-11-16T10:24:13.104033Z"
    },
    "papermill": {
     "duration": 0.041866,
     "end_time": "2022-11-16T10:24:13.107482",
     "exception": false,
     "start_time": "2022-11-16T10:24:13.065616",
     "status": "completed"
    },
    "tags": []
   },
   "outputs": [
    {
     "data": {
      "text/html": [
       "<div>\n",
       "<style scoped>\n",
       "    .dataframe tbody tr th:only-of-type {\n",
       "        vertical-align: middle;\n",
       "    }\n",
       "\n",
       "    .dataframe tbody tr th {\n",
       "        vertical-align: top;\n",
       "    }\n",
       "\n",
       "    .dataframe thead th {\n",
       "        text-align: right;\n",
       "    }\n",
       "</style>\n",
       "<table border=\"1\" class=\"dataframe\">\n",
       "  <thead>\n",
       "    <tr style=\"text-align: right;\">\n",
       "      <th></th>\n",
       "      <th>gender</th>\n",
       "      <th>age</th>\n",
       "      <th>hypertension</th>\n",
       "      <th>heart_disease</th>\n",
       "      <th>ever_married</th>\n",
       "      <th>work_type</th>\n",
       "      <th>Residence_type</th>\n",
       "      <th>avg_glucose_level</th>\n",
       "      <th>bmi</th>\n",
       "      <th>smoking_status</th>\n",
       "    </tr>\n",
       "  </thead>\n",
       "  <tbody>\n",
       "    <tr>\n",
       "      <th>2413</th>\n",
       "      <td>0</td>\n",
       "      <td>58.00</td>\n",
       "      <td>0</td>\n",
       "      <td>0</td>\n",
       "      <td>1</td>\n",
       "      <td>2</td>\n",
       "      <td>0</td>\n",
       "      <td>100.42</td>\n",
       "      <td>39.500000</td>\n",
       "      <td>3</td>\n",
       "    </tr>\n",
       "    <tr>\n",
       "      <th>1141</th>\n",
       "      <td>1</td>\n",
       "      <td>57.00</td>\n",
       "      <td>0</td>\n",
       "      <td>0</td>\n",
       "      <td>1</td>\n",
       "      <td>2</td>\n",
       "      <td>0</td>\n",
       "      <td>90.06</td>\n",
       "      <td>29.800000</td>\n",
       "      <td>0</td>\n",
       "    </tr>\n",
       "    <tr>\n",
       "      <th>146</th>\n",
       "      <td>1</td>\n",
       "      <td>65.00</td>\n",
       "      <td>0</td>\n",
       "      <td>0</td>\n",
       "      <td>1</td>\n",
       "      <td>3</td>\n",
       "      <td>1</td>\n",
       "      <td>68.43</td>\n",
       "      <td>28.893237</td>\n",
       "      <td>1</td>\n",
       "    </tr>\n",
       "    <tr>\n",
       "      <th>3883</th>\n",
       "      <td>0</td>\n",
       "      <td>1.64</td>\n",
       "      <td>0</td>\n",
       "      <td>0</td>\n",
       "      <td>0</td>\n",
       "      <td>4</td>\n",
       "      <td>1</td>\n",
       "      <td>69.89</td>\n",
       "      <td>18.100000</td>\n",
       "      <td>0</td>\n",
       "    </tr>\n",
       "    <tr>\n",
       "      <th>1044</th>\n",
       "      <td>0</td>\n",
       "      <td>79.00</td>\n",
       "      <td>0</td>\n",
       "      <td>0</td>\n",
       "      <td>1</td>\n",
       "      <td>0</td>\n",
       "      <td>1</td>\n",
       "      <td>93.89</td>\n",
       "      <td>30.400000</td>\n",
       "      <td>2</td>\n",
       "    </tr>\n",
       "    <tr>\n",
       "      <th>...</th>\n",
       "      <td>...</td>\n",
       "      <td>...</td>\n",
       "      <td>...</td>\n",
       "      <td>...</td>\n",
       "      <td>...</td>\n",
       "      <td>...</td>\n",
       "      <td>...</td>\n",
       "      <td>...</td>\n",
       "      <td>...</td>\n",
       "      <td>...</td>\n",
       "    </tr>\n",
       "    <tr>\n",
       "      <th>2261</th>\n",
       "      <td>1</td>\n",
       "      <td>59.00</td>\n",
       "      <td>0</td>\n",
       "      <td>0</td>\n",
       "      <td>1</td>\n",
       "      <td>2</td>\n",
       "      <td>1</td>\n",
       "      <td>60.35</td>\n",
       "      <td>25.900000</td>\n",
       "      <td>1</td>\n",
       "    </tr>\n",
       "    <tr>\n",
       "      <th>4712</th>\n",
       "      <td>1</td>\n",
       "      <td>57.00</td>\n",
       "      <td>0</td>\n",
       "      <td>0</td>\n",
       "      <td>1</td>\n",
       "      <td>2</td>\n",
       "      <td>1</td>\n",
       "      <td>93.04</td>\n",
       "      <td>29.200000</td>\n",
       "      <td>2</td>\n",
       "    </tr>\n",
       "    <tr>\n",
       "      <th>4971</th>\n",
       "      <td>0</td>\n",
       "      <td>63.00</td>\n",
       "      <td>0</td>\n",
       "      <td>0</td>\n",
       "      <td>1</td>\n",
       "      <td>2</td>\n",
       "      <td>1</td>\n",
       "      <td>57.06</td>\n",
       "      <td>37.900000</td>\n",
       "      <td>2</td>\n",
       "    </tr>\n",
       "    <tr>\n",
       "      <th>2224</th>\n",
       "      <td>1</td>\n",
       "      <td>57.00</td>\n",
       "      <td>0</td>\n",
       "      <td>0</td>\n",
       "      <td>1</td>\n",
       "      <td>2</td>\n",
       "      <td>0</td>\n",
       "      <td>76.28</td>\n",
       "      <td>31.400000</td>\n",
       "      <td>1</td>\n",
       "    </tr>\n",
       "    <tr>\n",
       "      <th>4825</th>\n",
       "      <td>0</td>\n",
       "      <td>14.00</td>\n",
       "      <td>0</td>\n",
       "      <td>0</td>\n",
       "      <td>0</td>\n",
       "      <td>4</td>\n",
       "      <td>1</td>\n",
       "      <td>71.80</td>\n",
       "      <td>18.800000</td>\n",
       "      <td>0</td>\n",
       "    </tr>\n",
       "  </tbody>\n",
       "</table>\n",
       "<p>1022 rows × 10 columns</p>\n",
       "</div>"
      ],
      "text/plain": [
       "      gender    age  hypertension  heart_disease  ever_married  work_type  \\\n",
       "2413       0  58.00             0              0             1          2   \n",
       "1141       1  57.00             0              0             1          2   \n",
       "146        1  65.00             0              0             1          3   \n",
       "3883       0   1.64             0              0             0          4   \n",
       "1044       0  79.00             0              0             1          0   \n",
       "...      ...    ...           ...            ...           ...        ...   \n",
       "2261       1  59.00             0              0             1          2   \n",
       "4712       1  57.00             0              0             1          2   \n",
       "4971       0  63.00             0              0             1          2   \n",
       "2224       1  57.00             0              0             1          2   \n",
       "4825       0  14.00             0              0             0          4   \n",
       "\n",
       "      Residence_type  avg_glucose_level        bmi  smoking_status  \n",
       "2413               0             100.42  39.500000               3  \n",
       "1141               0              90.06  29.800000               0  \n",
       "146                1              68.43  28.893237               1  \n",
       "3883               1              69.89  18.100000               0  \n",
       "1044               1              93.89  30.400000               2  \n",
       "...              ...                ...        ...             ...  \n",
       "2261               1              60.35  25.900000               1  \n",
       "4712               1              93.04  29.200000               2  \n",
       "4971               1              57.06  37.900000               2  \n",
       "2224               0              76.28  31.400000               1  \n",
       "4825               1              71.80  18.800000               0  \n",
       "\n",
       "[1022 rows x 10 columns]"
      ]
     },
     "execution_count": 31,
     "metadata": {},
     "output_type": "execute_result"
    }
   ],
   "source": [
    "X_test"
   ]
  },
  {
   "cell_type": "code",
   "execution_count": 32,
   "id": "c36c05ce",
   "metadata": {
    "execution": {
     "iopub.execute_input": "2022-11-16T10:24:13.149814Z",
     "iopub.status.busy": "2022-11-16T10:24:13.149395Z",
     "iopub.status.idle": "2022-11-16T10:24:13.157588Z",
     "shell.execute_reply": "2022-11-16T10:24:13.156512Z"
    },
    "papermill": {
     "duration": 0.03211,
     "end_time": "2022-11-16T10:24:13.159941",
     "exception": false,
     "start_time": "2022-11-16T10:24:13.127831",
     "status": "completed"
    },
    "tags": []
   },
   "outputs": [
    {
     "data": {
      "text/plain": [
       "2413    0\n",
       "1141    0\n",
       "146     1\n",
       "3883    0\n",
       "1044    0\n",
       "       ..\n",
       "2261    0\n",
       "4712    0\n",
       "4971    0\n",
       "2224    0\n",
       "4825    0\n",
       "Name: stroke, Length: 1022, dtype: int64"
      ]
     },
     "execution_count": 32,
     "metadata": {},
     "output_type": "execute_result"
    }
   ],
   "source": [
    "Y_test"
   ]
  },
  {
   "cell_type": "markdown",
   "id": "a9c3deda",
   "metadata": {
    "papermill": {
     "duration": 0.021486,
     "end_time": "2022-11-16T10:24:13.202705",
     "exception": false,
     "start_time": "2022-11-16T10:24:13.181219",
     "status": "completed"
    },
    "tags": []
   },
   "source": [
    "## 9. Scaling "
   ]
  },
  {
   "cell_type": "code",
   "execution_count": 33,
   "id": "4b105920",
   "metadata": {
    "execution": {
     "iopub.execute_input": "2022-11-16T10:24:13.247544Z",
     "iopub.status.busy": "2022-11-16T10:24:13.246824Z",
     "iopub.status.idle": "2022-11-16T10:24:13.250924Z",
     "shell.execute_reply": "2022-11-16T10:24:13.250214Z"
    },
    "papermill": {
     "duration": 0.027964,
     "end_time": "2022-11-16T10:24:13.252931",
     "exception": false,
     "start_time": "2022-11-16T10:24:13.224967",
     "status": "completed"
    },
    "tags": []
   },
   "outputs": [],
   "source": [
    "from sklearn.preprocessing import StandardScaler\n",
    "std=StandardScaler()"
   ]
  },
  {
   "cell_type": "code",
   "execution_count": 34,
   "id": "9323f4f1",
   "metadata": {
    "execution": {
     "iopub.execute_input": "2022-11-16T10:24:13.295808Z",
     "iopub.status.busy": "2022-11-16T10:24:13.295156Z",
     "iopub.status.idle": "2022-11-16T10:24:13.305825Z",
     "shell.execute_reply": "2022-11-16T10:24:13.305040Z"
    },
    "papermill": {
     "duration": 0.034604,
     "end_time": "2022-11-16T10:24:13.307961",
     "exception": false,
     "start_time": "2022-11-16T10:24:13.273357",
     "status": "completed"
    },
    "tags": []
   },
   "outputs": [],
   "source": [
    "X_train_std=std.fit_transform(X_train)\n",
    "X_test_std=std.transform(X_test)"
   ]
  },
  {
   "cell_type": "markdown",
   "id": "64510e5a",
   "metadata": {
    "papermill": {
     "duration": 0.020119,
     "end_time": "2022-11-16T10:24:13.349179",
     "exception": false,
     "start_time": "2022-11-16T10:24:13.329060",
     "status": "completed"
    },
    "tags": []
   },
   "source": [
    "## 10. lets save the scaler object"
   ]
  },
  {
   "cell_type": "code",
   "execution_count": 35,
   "id": "65f13cea",
   "metadata": {
    "execution": {
     "iopub.execute_input": "2022-11-16T10:24:13.392475Z",
     "iopub.status.busy": "2022-11-16T10:24:13.391713Z",
     "iopub.status.idle": "2022-11-16T10:24:13.396424Z",
     "shell.execute_reply": "2022-11-16T10:24:13.395300Z"
    },
    "papermill": {
     "duration": 0.029112,
     "end_time": "2022-11-16T10:24:13.398730",
     "exception": false,
     "start_time": "2022-11-16T10:24:13.369618",
     "status": "completed"
    },
    "tags": []
   },
   "outputs": [],
   "source": [
    "import pickle\n",
    "import os"
   ]
  },
  {
   "cell_type": "code",
   "execution_count": 36,
   "id": "305061f0",
   "metadata": {
    "execution": {
     "iopub.execute_input": "2022-11-16T10:24:13.441534Z",
     "iopub.status.busy": "2022-11-16T10:24:13.441093Z",
     "iopub.status.idle": "2022-11-16T10:24:13.447152Z",
     "shell.execute_reply": "2022-11-16T10:24:13.446091Z"
    },
    "papermill": {
     "duration": 0.030004,
     "end_time": "2022-11-16T10:24:13.449411",
     "exception": false,
     "start_time": "2022-11-16T10:24:13.419407",
     "status": "completed"
    },
    "tags": []
   },
   "outputs": [],
   "source": [
    "scaler_path=os.path.join(r'C:\\Users\\user\\Downloads\\Stroke Risk Predictive Analysis\\scaler.pkl')\n",
    "with open(scaler_path,'wb') as scaler_file:\n",
    "    pickle.dump(std,scaler_file)"
   ]
  },
  {
   "cell_type": "code",
   "execution_count": 37,
   "id": "e3587d70",
   "metadata": {
    "execution": {
     "iopub.execute_input": "2022-11-16T10:24:13.493690Z",
     "iopub.status.busy": "2022-11-16T10:24:13.492850Z",
     "iopub.status.idle": "2022-11-16T10:24:13.499341Z",
     "shell.execute_reply": "2022-11-16T10:24:13.498603Z"
    },
    "papermill": {
     "duration": 0.030635,
     "end_time": "2022-11-16T10:24:13.501367",
     "exception": false,
     "start_time": "2022-11-16T10:24:13.470732",
     "status": "completed"
    },
    "tags": []
   },
   "outputs": [
    {
     "data": {
      "text/plain": [
       "array([[ 1.19359699,  0.2521852 , -0.33069968, ..., -0.58626884,\n",
       "         0.00238781,  1.51158251],\n",
       "       [ 1.19359699,  1.04686385, -0.33069968, ..., -0.50843521,\n",
       "        -0.44065504, -0.35191245],\n",
       "       [ 1.19359699,  1.5325008 , -0.33069968, ...,  2.27080023,\n",
       "        -0.58427812, -0.35191245],\n",
       "       ...,\n",
       "       [ 1.19359699,  0.16388757, -0.33069968, ..., -0.43745625,\n",
       "         1.34810513,  1.51158251],\n",
       "       [ 1.19359699, -0.80738634, -0.33069968, ...,  1.33171097,\n",
       "        -0.75401449,  0.57983503],\n",
       "       [-0.83780372,  1.62079843, -0.33069968, ..., -0.74171498,\n",
       "        -0.16646553,  0.57983503]])"
      ]
     },
     "execution_count": 37,
     "metadata": {},
     "output_type": "execute_result"
    }
   ],
   "source": [
    "X_train_std"
   ]
  },
  {
   "cell_type": "code",
   "execution_count": 38,
   "id": "b7bab5e2",
   "metadata": {
    "execution": {
     "iopub.execute_input": "2022-11-16T10:24:13.544405Z",
     "iopub.status.busy": "2022-11-16T10:24:13.543751Z",
     "iopub.status.idle": "2022-11-16T10:24:13.550110Z",
     "shell.execute_reply": "2022-11-16T10:24:13.549189Z"
    },
    "papermill": {
     "duration": 0.030177,
     "end_time": "2022-11-16T10:24:13.552188",
     "exception": false,
     "start_time": "2022-11-16T10:24:13.522011",
     "status": "completed"
    },
    "tags": []
   },
   "outputs": [
    {
     "data": {
      "text/plain": [
       "array([[-0.83780372,  0.64952452, -0.33069968, ..., -0.12678509,\n",
       "         1.38727506,  1.51158251],\n",
       "       [ 1.19359699,  0.60537571, -0.33069968, ..., -0.35586361,\n",
       "         0.12078063, -1.28365994],\n",
       "       [ 1.19359699,  0.95856622, -0.33069968, ..., -0.83414241,\n",
       "         0.00238781, -0.35191245],\n",
       "       ...,\n",
       "       [-0.83780372,  0.87026859, -0.33069968, ..., -1.08555387,\n",
       "         1.17836876,  0.57983503],\n",
       "       [ 1.19359699,  0.60537571, -0.33069968, ..., -0.66056457,\n",
       "         0.32968693, -0.35191245],\n",
       "       [-0.83780372, -1.29302329, -0.33069968, ..., -0.75962556,\n",
       "        -1.31545016, -1.28365994]])"
      ]
     },
     "execution_count": 38,
     "metadata": {},
     "output_type": "execute_result"
    }
   ],
   "source": [
    "X_test_std"
   ]
  },
  {
   "cell_type": "markdown",
   "id": "95303e4b",
   "metadata": {
    "papermill": {
     "duration": 0.020189,
     "end_time": "2022-11-16T10:24:13.593205",
     "exception": false,
     "start_time": "2022-11-16T10:24:13.573016",
     "status": "completed"
    },
    "tags": []
   },
   "source": [
    "## 11. Modeling"
   ]
  },
  {
   "cell_type": "markdown",
   "id": "384c48b8",
   "metadata": {
    "papermill": {
     "duration": 0.020241,
     "end_time": "2022-11-16T10:24:13.634868",
     "exception": false,
     "start_time": "2022-11-16T10:24:13.614627",
     "status": "completed"
    },
    "tags": []
   },
   "source": [
    "### a) Decision Tree"
   ]
  },
  {
   "cell_type": "code",
   "execution_count": 39,
   "id": "ee70ca0a",
   "metadata": {
    "execution": {
     "iopub.execute_input": "2022-11-16T10:24:13.678513Z",
     "iopub.status.busy": "2022-11-16T10:24:13.677790Z",
     "iopub.status.idle": "2022-11-16T10:24:13.824396Z",
     "shell.execute_reply": "2022-11-16T10:24:13.823403Z"
    },
    "papermill": {
     "duration": 0.171793,
     "end_time": "2022-11-16T10:24:13.827238",
     "exception": false,
     "start_time": "2022-11-16T10:24:13.655445",
     "status": "completed"
    },
    "tags": []
   },
   "outputs": [],
   "source": [
    "from sklearn.tree import DecisionTreeClassifier\n",
    "dt=DecisionTreeClassifier()"
   ]
  },
  {
   "cell_type": "code",
   "execution_count": 40,
   "id": "fe089ac3",
   "metadata": {
    "execution": {
     "iopub.execute_input": "2022-11-16T10:24:13.871761Z",
     "iopub.status.busy": "2022-11-16T10:24:13.870677Z",
     "iopub.status.idle": "2022-11-16T10:24:13.892739Z",
     "shell.execute_reply": "2022-11-16T10:24:13.891609Z"
    },
    "papermill": {
     "duration": 0.046179,
     "end_time": "2022-11-16T10:24:13.894873",
     "exception": false,
     "start_time": "2022-11-16T10:24:13.848694",
     "status": "completed"
    },
    "tags": []
   },
   "outputs": [
    {
     "data": {
      "text/plain": [
       "DecisionTreeClassifier()"
      ]
     },
     "execution_count": 40,
     "metadata": {},
     "output_type": "execute_result"
    }
   ],
   "source": [
    "dt.fit(X_train_std,Y_train)"
   ]
  },
  {
   "cell_type": "code",
   "execution_count": 41,
   "id": "4bee7d4d",
   "metadata": {
    "execution": {
     "iopub.execute_input": "2022-11-16T10:24:13.939759Z",
     "iopub.status.busy": "2022-11-16T10:24:13.938753Z",
     "iopub.status.idle": "2022-11-16T10:24:13.945321Z",
     "shell.execute_reply": "2022-11-16T10:24:13.944483Z"
    },
    "papermill": {
     "duration": 0.031616,
     "end_time": "2022-11-16T10:24:13.947538",
     "exception": false,
     "start_time": "2022-11-16T10:24:13.915922",
     "status": "completed"
    },
    "tags": []
   },
   "outputs": [
    {
     "data": {
      "text/plain": [
       "array([0.03422886, 0.17031768, 0.01385387, 0.02180955, 0.02690404,\n",
       "       0.0509736 , 0.0421681 , 0.3182595 , 0.26943729, 0.0520475 ])"
      ]
     },
     "execution_count": 41,
     "metadata": {},
     "output_type": "execute_result"
    }
   ],
   "source": [
    "dt.feature_importances_"
   ]
  },
  {
   "cell_type": "code",
   "execution_count": 42,
   "id": "345fd20b",
   "metadata": {
    "execution": {
     "iopub.execute_input": "2022-11-16T10:24:13.990895Z",
     "iopub.status.busy": "2022-11-16T10:24:13.990449Z",
     "iopub.status.idle": "2022-11-16T10:24:13.997374Z",
     "shell.execute_reply": "2022-11-16T10:24:13.996335Z"
    },
    "papermill": {
     "duration": 0.031102,
     "end_time": "2022-11-16T10:24:13.999427",
     "exception": false,
     "start_time": "2022-11-16T10:24:13.968325",
     "status": "completed"
    },
    "tags": []
   },
   "outputs": [
    {
     "data": {
      "text/plain": [
       "Index(['gender', 'age', 'hypertension', 'heart_disease', 'ever_married',\n",
       "       'work_type', 'Residence_type', 'avg_glucose_level', 'bmi',\n",
       "       'smoking_status'],\n",
       "      dtype='object')"
      ]
     },
     "execution_count": 42,
     "metadata": {},
     "output_type": "execute_result"
    }
   ],
   "source": [
    "X_train.columns"
   ]
  },
  {
   "cell_type": "code",
   "execution_count": 43,
   "id": "5155f4c5",
   "metadata": {
    "execution": {
     "iopub.execute_input": "2022-11-16T10:24:14.044275Z",
     "iopub.status.busy": "2022-11-16T10:24:14.043556Z",
     "iopub.status.idle": "2022-11-16T10:24:14.048261Z",
     "shell.execute_reply": "2022-11-16T10:24:14.047449Z"
    },
    "papermill": {
     "duration": 0.029411,
     "end_time": "2022-11-16T10:24:14.050372",
     "exception": false,
     "start_time": "2022-11-16T10:24:14.020961",
     "status": "completed"
    },
    "tags": []
   },
   "outputs": [],
   "source": [
    "Y_pred=dt.predict(X_test_std)"
   ]
  },
  {
   "cell_type": "code",
   "execution_count": 44,
   "id": "c72eacb3",
   "metadata": {
    "execution": {
     "iopub.execute_input": "2022-11-16T10:24:14.094939Z",
     "iopub.status.busy": "2022-11-16T10:24:14.094201Z",
     "iopub.status.idle": "2022-11-16T10:24:14.100108Z",
     "shell.execute_reply": "2022-11-16T10:24:14.099224Z"
    },
    "papermill": {
     "duration": 0.030412,
     "end_time": "2022-11-16T10:24:14.102089",
     "exception": false,
     "start_time": "2022-11-16T10:24:14.071677",
     "status": "completed"
    },
    "tags": []
   },
   "outputs": [
    {
     "data": {
      "text/plain": [
       "array([0, 0, 0, ..., 0, 0, 0])"
      ]
     },
     "execution_count": 44,
     "metadata": {},
     "output_type": "execute_result"
    }
   ],
   "source": [
    "Y_pred"
   ]
  },
  {
   "cell_type": "code",
   "execution_count": 45,
   "id": "685d8162",
   "metadata": {
    "execution": {
     "iopub.execute_input": "2022-11-16T10:24:14.145784Z",
     "iopub.status.busy": "2022-11-16T10:24:14.145379Z",
     "iopub.status.idle": "2022-11-16T10:24:14.150464Z",
     "shell.execute_reply": "2022-11-16T10:24:14.149432Z"
    },
    "papermill": {
     "duration": 0.029636,
     "end_time": "2022-11-16T10:24:14.152735",
     "exception": false,
     "start_time": "2022-11-16T10:24:14.123099",
     "status": "completed"
    },
    "tags": []
   },
   "outputs": [],
   "source": [
    "from sklearn.metrics import accuracy_score"
   ]
  },
  {
   "cell_type": "code",
   "execution_count": 46,
   "id": "7c8a9ab6",
   "metadata": {
    "execution": {
     "iopub.execute_input": "2022-11-16T10:24:14.197187Z",
     "iopub.status.busy": "2022-11-16T10:24:14.196540Z",
     "iopub.status.idle": "2022-11-16T10:24:14.201895Z",
     "shell.execute_reply": "2022-11-16T10:24:14.201179Z"
    },
    "papermill": {
     "duration": 0.030141,
     "end_time": "2022-11-16T10:24:14.204067",
     "exception": false,
     "start_time": "2022-11-16T10:24:14.173926",
     "status": "completed"
    },
    "tags": []
   },
   "outputs": [],
   "source": [
    "ac_dt=accuracy_score(Y_test,Y_pred)"
   ]
  },
  {
   "cell_type": "code",
   "execution_count": 47,
   "id": "9bc23db1",
   "metadata": {
    "execution": {
     "iopub.execute_input": "2022-11-16T10:24:14.248079Z",
     "iopub.status.busy": "2022-11-16T10:24:14.247416Z",
     "iopub.status.idle": "2022-11-16T10:24:14.254350Z",
     "shell.execute_reply": "2022-11-16T10:24:14.253367Z"
    },
    "papermill": {
     "duration": 0.031586,
     "end_time": "2022-11-16T10:24:14.256452",
     "exception": false,
     "start_time": "2022-11-16T10:24:14.224866",
     "status": "completed"
    },
    "tags": []
   },
   "outputs": [
    {
     "data": {
      "text/plain": [
       "0.898238747553816"
      ]
     },
     "execution_count": 47,
     "metadata": {},
     "output_type": "execute_result"
    }
   ],
   "source": [
    "ac_dt"
   ]
  },
  {
   "cell_type": "code",
   "execution_count": 48,
   "id": "0ed78028",
   "metadata": {
    "execution": {
     "iopub.execute_input": "2022-11-16T10:24:14.300298Z",
     "iopub.status.busy": "2022-11-16T10:24:14.299850Z",
     "iopub.status.idle": "2022-11-16T10:24:14.308645Z",
     "shell.execute_reply": "2022-11-16T10:24:14.307369Z"
    },
    "papermill": {
     "duration": 0.033467,
     "end_time": "2022-11-16T10:24:14.310930",
     "exception": false,
     "start_time": "2022-11-16T10:24:14.277463",
     "status": "completed"
    },
    "tags": []
   },
   "outputs": [
    {
     "data": {
      "text/plain": [
       "['C:\\\\Users\\\\user\\\\Downloads\\\\Stroke Risk Predictive Analysis\\\\dt.sav']"
      ]
     },
     "execution_count": 48,
     "metadata": {},
     "output_type": "execute_result"
    }
   ],
   "source": [
    "import joblib\n",
    "model_path=os.path.join(r'C:\\Users\\user\\Downloads\\Stroke Risk Predictive Analysis\\dt.sav')\n",
    "joblib.dump(dt,model_path)"
   ]
  },
  {
   "cell_type": "markdown",
   "id": "06f94fdb",
   "metadata": {
    "papermill": {
     "duration": 0.021263,
     "end_time": "2022-11-16T10:24:14.353222",
     "exception": false,
     "start_time": "2022-11-16T10:24:14.331959",
     "status": "completed"
    },
    "tags": []
   },
   "source": [
    "### b) Logistic Regression"
   ]
  },
  {
   "cell_type": "code",
   "execution_count": 49,
   "id": "c178e263",
   "metadata": {
    "execution": {
     "iopub.execute_input": "2022-11-16T10:24:14.397596Z",
     "iopub.status.busy": "2022-11-16T10:24:14.397189Z",
     "iopub.status.idle": "2022-11-16T10:24:14.401657Z",
     "shell.execute_reply": "2022-11-16T10:24:14.400601Z"
    },
    "papermill": {
     "duration": 0.029656,
     "end_time": "2022-11-16T10:24:14.403971",
     "exception": false,
     "start_time": "2022-11-16T10:24:14.374315",
     "status": "completed"
    },
    "tags": []
   },
   "outputs": [],
   "source": [
    "from sklearn.linear_model import LogisticRegression\n",
    "lr=LogisticRegression()"
   ]
  },
  {
   "cell_type": "code",
   "execution_count": 50,
   "id": "1c06fa02",
   "metadata": {
    "execution": {
     "iopub.execute_input": "2022-11-16T10:24:14.448687Z",
     "iopub.status.busy": "2022-11-16T10:24:14.448289Z",
     "iopub.status.idle": "2022-11-16T10:24:14.486251Z",
     "shell.execute_reply": "2022-11-16T10:24:14.484538Z"
    },
    "papermill": {
     "duration": 0.065511,
     "end_time": "2022-11-16T10:24:14.490923",
     "exception": false,
     "start_time": "2022-11-16T10:24:14.425412",
     "status": "completed"
    },
    "tags": []
   },
   "outputs": [
    {
     "data": {
      "text/plain": [
       "LogisticRegression()"
      ]
     },
     "execution_count": 50,
     "metadata": {},
     "output_type": "execute_result"
    }
   ],
   "source": [
    "lr.fit(X_train_std,Y_train)"
   ]
  },
  {
   "cell_type": "code",
   "execution_count": 51,
   "id": "321b145e",
   "metadata": {
    "execution": {
     "iopub.execute_input": "2022-11-16T10:24:14.604324Z",
     "iopub.status.busy": "2022-11-16T10:24:14.603823Z",
     "iopub.status.idle": "2022-11-16T10:24:14.613985Z",
     "shell.execute_reply": "2022-11-16T10:24:14.612494Z"
    },
    "papermill": {
     "duration": 0.071185,
     "end_time": "2022-11-16T10:24:14.617964",
     "exception": false,
     "start_time": "2022-11-16T10:24:14.546779",
     "status": "completed"
    },
    "tags": []
   },
   "outputs": [],
   "source": [
    "Y_pred_lr=lr.predict(X_test_std)"
   ]
  },
  {
   "cell_type": "code",
   "execution_count": 52,
   "id": "99633fda",
   "metadata": {
    "execution": {
     "iopub.execute_input": "2022-11-16T10:24:14.734734Z",
     "iopub.status.busy": "2022-11-16T10:24:14.734338Z",
     "iopub.status.idle": "2022-11-16T10:24:14.741329Z",
     "shell.execute_reply": "2022-11-16T10:24:14.740296Z"
    },
    "papermill": {
     "duration": 0.066772,
     "end_time": "2022-11-16T10:24:14.743645",
     "exception": false,
     "start_time": "2022-11-16T10:24:14.676873",
     "status": "completed"
    },
    "tags": []
   },
   "outputs": [
    {
     "data": {
      "text/plain": [
       "array([0, 0, 0, ..., 0, 0, 0])"
      ]
     },
     "execution_count": 52,
     "metadata": {},
     "output_type": "execute_result"
    }
   ],
   "source": [
    "Y_pred_lr"
   ]
  },
  {
   "cell_type": "code",
   "execution_count": 53,
   "id": "0b961ecd",
   "metadata": {
    "execution": {
     "iopub.execute_input": "2022-11-16T10:24:14.788374Z",
     "iopub.status.busy": "2022-11-16T10:24:14.787348Z",
     "iopub.status.idle": "2022-11-16T10:24:14.792973Z",
     "shell.execute_reply": "2022-11-16T10:24:14.791937Z"
    },
    "papermill": {
     "duration": 0.030073,
     "end_time": "2022-11-16T10:24:14.795117",
     "exception": false,
     "start_time": "2022-11-16T10:24:14.765044",
     "status": "completed"
    },
    "tags": []
   },
   "outputs": [],
   "source": [
    "ac_lr=accuracy_score(Y_test,Y_pred_lr)"
   ]
  },
  {
   "cell_type": "code",
   "execution_count": 54,
   "id": "05acb30e",
   "metadata": {
    "execution": {
     "iopub.execute_input": "2022-11-16T10:24:14.841080Z",
     "iopub.status.busy": "2022-11-16T10:24:14.839998Z",
     "iopub.status.idle": "2022-11-16T10:24:14.846666Z",
     "shell.execute_reply": "2022-11-16T10:24:14.845833Z"
    },
    "papermill": {
     "duration": 0.032499,
     "end_time": "2022-11-16T10:24:14.848846",
     "exception": false,
     "start_time": "2022-11-16T10:24:14.816347",
     "status": "completed"
    },
    "tags": []
   },
   "outputs": [
    {
     "data": {
      "text/plain": [
       "0.9383561643835616"
      ]
     },
     "execution_count": 54,
     "metadata": {},
     "output_type": "execute_result"
    }
   ],
   "source": [
    "ac_lr"
   ]
  },
  {
   "cell_type": "markdown",
   "id": "768a45fa",
   "metadata": {
    "papermill": {
     "duration": 0.021111,
     "end_time": "2022-11-16T10:24:14.891614",
     "exception": false,
     "start_time": "2022-11-16T10:24:14.870503",
     "status": "completed"
    },
    "tags": []
   },
   "source": [
    "### c) SVM"
   ]
  },
  {
   "cell_type": "code",
   "execution_count": 55,
   "id": "061b0c8f",
   "metadata": {
    "execution": {
     "iopub.execute_input": "2022-11-16T10:24:14.936746Z",
     "iopub.status.busy": "2022-11-16T10:24:14.935551Z",
     "iopub.status.idle": "2022-11-16T10:24:14.940913Z",
     "shell.execute_reply": "2022-11-16T10:24:14.940192Z"
    },
    "papermill": {
     "duration": 0.030357,
     "end_time": "2022-11-16T10:24:14.943212",
     "exception": false,
     "start_time": "2022-11-16T10:24:14.912855",
     "status": "completed"
    },
    "tags": []
   },
   "outputs": [],
   "source": [
    "from sklearn.svm import SVC"
   ]
  },
  {
   "cell_type": "code",
   "execution_count": 56,
   "id": "982d7b13",
   "metadata": {
    "execution": {
     "iopub.execute_input": "2022-11-16T10:24:14.987609Z",
     "iopub.status.busy": "2022-11-16T10:24:14.987190Z",
     "iopub.status.idle": "2022-11-16T10:24:14.992159Z",
     "shell.execute_reply": "2022-11-16T10:24:14.991299Z"
    },
    "papermill": {
     "duration": 0.029675,
     "end_time": "2022-11-16T10:24:14.994164",
     "exception": false,
     "start_time": "2022-11-16T10:24:14.964489",
     "status": "completed"
    },
    "tags": []
   },
   "outputs": [],
   "source": [
    "sv=SVC()"
   ]
  },
  {
   "cell_type": "code",
   "execution_count": 57,
   "id": "d4dcdcac",
   "metadata": {
    "execution": {
     "iopub.execute_input": "2022-11-16T10:24:15.039547Z",
     "iopub.status.busy": "2022-11-16T10:24:15.038362Z",
     "iopub.status.idle": "2022-11-16T10:24:15.294270Z",
     "shell.execute_reply": "2022-11-16T10:24:15.293303Z"
    },
    "papermill": {
     "duration": 0.281325,
     "end_time": "2022-11-16T10:24:15.297098",
     "exception": false,
     "start_time": "2022-11-16T10:24:15.015773",
     "status": "completed"
    },
    "tags": []
   },
   "outputs": [
    {
     "data": {
      "text/plain": [
       "SVC()"
      ]
     },
     "execution_count": 57,
     "metadata": {},
     "output_type": "execute_result"
    }
   ],
   "source": [
    "sv.fit(X_train_std,Y_train)"
   ]
  },
  {
   "cell_type": "code",
   "execution_count": 58,
   "id": "4763cc4e",
   "metadata": {
    "execution": {
     "iopub.execute_input": "2022-11-16T10:24:15.342371Z",
     "iopub.status.busy": "2022-11-16T10:24:15.341567Z",
     "iopub.status.idle": "2022-11-16T10:24:15.389592Z",
     "shell.execute_reply": "2022-11-16T10:24:15.388495Z"
    },
    "papermill": {
     "duration": 0.073187,
     "end_time": "2022-11-16T10:24:15.392234",
     "exception": false,
     "start_time": "2022-11-16T10:24:15.319047",
     "status": "completed"
    },
    "tags": []
   },
   "outputs": [],
   "source": [
    "Y_pred=sv.predict(X_test_std)"
   ]
  },
  {
   "cell_type": "code",
   "execution_count": 59,
   "id": "a7b1fbcb",
   "metadata": {
    "execution": {
     "iopub.execute_input": "2022-11-16T10:24:15.438464Z",
     "iopub.status.busy": "2022-11-16T10:24:15.437999Z",
     "iopub.status.idle": "2022-11-16T10:24:15.443361Z",
     "shell.execute_reply": "2022-11-16T10:24:15.442458Z"
    },
    "papermill": {
     "duration": 0.031156,
     "end_time": "2022-11-16T10:24:15.445685",
     "exception": false,
     "start_time": "2022-11-16T10:24:15.414529",
     "status": "completed"
    },
    "tags": []
   },
   "outputs": [],
   "source": [
    "ac_sv=accuracy_score(Y_test,Y_pred)"
   ]
  },
  {
   "cell_type": "code",
   "execution_count": 60,
   "id": "d028d1cd",
   "metadata": {
    "execution": {
     "iopub.execute_input": "2022-11-16T10:24:15.491240Z",
     "iopub.status.busy": "2022-11-16T10:24:15.490782Z",
     "iopub.status.idle": "2022-11-16T10:24:15.497305Z",
     "shell.execute_reply": "2022-11-16T10:24:15.496217Z"
    },
    "papermill": {
     "duration": 0.031783,
     "end_time": "2022-11-16T10:24:15.499519",
     "exception": false,
     "start_time": "2022-11-16T10:24:15.467736",
     "status": "completed"
    },
    "tags": []
   },
   "outputs": [
    {
     "data": {
      "text/plain": [
       "0.9393346379647749"
      ]
     },
     "execution_count": 60,
     "metadata": {},
     "output_type": "execute_result"
    }
   ],
   "source": [
    "ac_sv"
   ]
  },
  {
   "cell_type": "code",
   "execution_count": 61,
   "id": "cbcab9b4",
   "metadata": {
    "execution": {
     "iopub.execute_input": "2022-11-16T10:24:15.544848Z",
     "iopub.status.busy": "2022-11-16T10:24:15.544181Z",
     "iopub.status.idle": "2022-11-16T10:24:15.713248Z",
     "shell.execute_reply": "2022-11-16T10:24:15.711903Z"
    },
    "papermill": {
     "duration": 0.194645,
     "end_time": "2022-11-16T10:24:15.715813",
     "exception": false,
     "start_time": "2022-11-16T10:24:15.521168",
     "status": "completed"
    },
    "tags": []
   },
   "outputs": [
    {
     "data": {
      "image/png": "[encoded data removed]",
      "text/plain": [
       "<Figure size 432x288 with 1 Axes>"
      ]
     },
     "metadata": {
      "needs_background": "light"
     },
     "output_type": "display_data"
    }
   ],
   "source": [
    "plt.bar(['Decision Tree','Logistic','SVM'],[ac_dt,ac_lr,ac_sv])\n",
    "plt.xlabel(\"Algorithms\")\n",
    "plt.ylabel(\"Accuracy\")\n",
    "plt.show()"
   ]
  },
  {
   "cell_type": "code",
   "execution_count": null,
   "id": "9f750ca8",
   "metadata": {
    "papermill": {
     "duration": 0.021691,
     "end_time": "2022-11-16T10:24:15.759497",
     "exception": false,
     "start_time": "2022-11-16T10:24:15.737806",
     "status": "completed"
    },
    "tags": []
   },
   "outputs": [],
   "source": []
  },
  {
   "cell_type": "code",
   "execution_count": null,
   "id": "e0c2897a",
   "metadata": {
    "papermill": {
     "duration": 0.021194,
     "end_time": "2022-11-16T10:24:15.802673",
     "exception": false,
     "start_time": "2022-11-16T10:24:15.781479",
     "status": "completed"
    },
    "tags": []
   },
   "outputs": [],
   "source": []
  }
 ],
 "metadata": {
  "kernelspec": {
   "display_name": "Python 3",
   "language": "python",
   "name": "python3"
  },
  "language_info": {
   "codemirror_mode": {
    "name": "ipython",
    "version": 3
   },
   "file_extension": ".py",
   "mimetype": "text/x-python",
   "name": "python",
   "nbconvert_exporter": "python",
   "pygments_lexer": "ipython3",
   "version": "3.7.12"
  },
  "papermill": {
   "default_parameters": {},
   "duration": 15.454761,
   "end_time": "2022-11-16T10:24:16.545461",
   "environment_variables": {},
   "exception": null,
   "input_path": "__notebook__.ipynb",
   "output_path": "__notebook__.ipynb",
   "parameters": {},
   "start_time": "2022-11-16T10:24:01.090700",
   "version": "2.3.4"
  }
 },
 "nbformat": 4,
 "nbformat_minor": 5
}
