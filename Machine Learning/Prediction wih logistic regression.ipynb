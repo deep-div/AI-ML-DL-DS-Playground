{
 "cells": [
  {
   "cell_type": "code",
   "execution_count": 1,
   "id": "18d761fb",
   "metadata": {
    "_cell_guid": "b1076dfc-b9ad-4769-8c92-a6c4dae69d19",
    "_uuid": "8f2839f25d086af736a60e9eeb907d3b93b6e0e5",
    "execution": {
     "iopub.execute_input": "2024-05-20T01:22:38.462181Z",
     "iopub.status.busy": "2024-05-20T01:22:38.461742Z",
     "iopub.status.idle": "2024-05-20T01:22:42.722883Z",
     "shell.execute_reply": "2024-05-20T01:22:42.721394Z"
    },
    "papermill": {
     "duration": 4.282582,
     "end_time": "2024-05-20T01:22:42.725827",
     "exception": false,
     "start_time": "2024-05-20T01:22:38.443245",
     "status": "completed"
    },
    "tags": []
   },
   "outputs": [],
   "source": [
    "import pandas as pd\n",
    "import numpy as np\n",
    "import seaborn as sns\n",
    "import matplotlib.pyplot as plt\n",
    "import pandas as pd\n",
    "from sklearn.model_selection import train_test_split, GridSearchCV, cross_val_score\n",
    "from sklearn.decomposition import PCA\n",
    "from sklearn.pipeline import Pipeline\n",
    "from sklearn.ensemble import GradientBoostingClassifier, RandomForestClassifier\n",
    "from sklearn.preprocessing import StandardScaler\n",
    "from sklearn.linear_model import LogisticRegression\n",
    "from sklearn.tree import DecisionTreeClassifier\n",
    "from sklearn.svm import SVC\n",
    "from sklearn.neighbors import KNeighborsClassifier\n",
    "from sklearn.naive_bayes import GaussianNB\n",
    "from sklearn.neural_network import MLPClassifier\n",
    "from xgboost import XGBClassifier\n",
    "from sklearn.metrics import accuracy_score, precision_score, recall_score, f1_score, roc_curve, precision_recall_curve, roc_auc_score, average_precision_score\n",
    "from statsmodels.tsa.arima.model import ARIMA\n",
    "from imblearn.over_sampling import SMOTE\n",
    "from sklearn.feature_selection import RFE"
   ]
  },
  {
   "cell_type": "code",
   "execution_count": 2,
   "id": "899204fe",
   "metadata": {
    "execution": {
     "iopub.execute_input": "2024-05-20T01:22:42.760999Z",
     "iopub.status.busy": "2024-05-20T01:22:42.760420Z",
     "iopub.status.idle": "2024-05-20T01:22:42.766698Z",
     "shell.execute_reply": "2024-05-20T01:22:42.765539Z"
    },
    "papermill": {
     "duration": 0.02635,
     "end_time": "2024-05-20T01:22:42.769025",
     "exception": false,
     "start_time": "2024-05-20T01:22:42.742675",
     "status": "completed"
    },
    "tags": []
   },
   "outputs": [],
   "source": [
    "import warnings\n",
    "# Suppress specific warnings\n",
    "warnings.filterwarnings(\"ignore\", category=DeprecationWarning)"
   ]
  },
  {
   "cell_type": "code",
   "execution_count": 3,
   "id": "a199e3be",
   "metadata": {
    "execution": {
     "iopub.execute_input": "2024-05-20T01:22:42.803506Z",
     "iopub.status.busy": "2024-05-20T01:22:42.803107Z",
     "iopub.status.idle": "2024-05-20T01:22:42.832345Z",
     "shell.execute_reply": "2024-05-20T01:22:42.830778Z"
    },
    "papermill": {
     "duration": 0.049978,
     "end_time": "2024-05-20T01:22:42.835366",
     "exception": false,
     "start_time": "2024-05-20T01:22:42.785388",
     "status": "completed"
    },
    "tags": []
   },
   "outputs": [],
   "source": [
    "# Load dataset\n",
    "file_path = \"/kaggle/input/predict-survival-of-patients-with-heart-failure/heart_failure_clinical_records_dataset.csv\"\n",
    "df = pd.read_csv(file_path)"
   ]
  },
  {
   "cell_type": "code",
   "execution_count": 4,
   "id": "23b925ad",
   "metadata": {
    "execution": {
     "iopub.execute_input": "2024-05-20T01:22:42.870735Z",
     "iopub.status.busy": "2024-05-20T01:22:42.870292Z",
     "iopub.status.idle": "2024-05-20T01:22:42.914228Z",
     "shell.execute_reply": "2024-05-20T01:22:42.912718Z"
    },
    "papermill": {
     "duration": 0.06609,
     "end_time": "2024-05-20T01:22:42.918258",
     "exception": false,
     "start_time": "2024-05-20T01:22:42.852168",
     "status": "completed"
    },
    "tags": []
   },
   "outputs": [
    {
     "data": {
      "text/html": [
       "<div>\n",
       "<style scoped>\n",
       "    .dataframe tbody tr th:only-of-type {\n",
       "        vertical-align: middle;\n",
       "    }\n",
       "\n",
       "    .dataframe tbody tr th {\n",
       "        vertical-align: top;\n",
       "    }\n",
       "\n",
       "    .dataframe thead th {\n",
       "        text-align: right;\n",
       "    }\n",
       "</style>\n",
       "<table border=\"1\" class=\"dataframe\">\n",
       "  <thead>\n",
       "    <tr style=\"text-align: right;\">\n",
       "      <th></th>\n",
       "      <th>age</th>\n",
       "      <th>anaemia</th>\n",
       "      <th>creatinine_phosphokinase</th>\n",
       "      <th>diabetes</th>\n",
       "      <th>ejection_fraction</th>\n",
       "      <th>high_blood_pressure</th>\n",
       "      <th>platelets</th>\n",
       "      <th>serum_creatinine</th>\n",
       "      <th>serum_sodium</th>\n",
       "      <th>sex</th>\n",
       "      <th>smoking</th>\n",
       "      <th>time</th>\n",
       "      <th>DEATH_EVENT</th>\n",
       "    </tr>\n",
       "  </thead>\n",
       "  <tbody>\n",
       "    <tr>\n",
       "      <th>0</th>\n",
       "      <td>75.0</td>\n",
       "      <td>0</td>\n",
       "      <td>582</td>\n",
       "      <td>0</td>\n",
       "      <td>20</td>\n",
       "      <td>1</td>\n",
       "      <td>265000.00</td>\n",
       "      <td>1.9</td>\n",
       "      <td>130</td>\n",
       "      <td>1</td>\n",
       "      <td>0</td>\n",
       "      <td>4</td>\n",
       "      <td>1</td>\n",
       "    </tr>\n",
       "    <tr>\n",
       "      <th>1</th>\n",
       "      <td>55.0</td>\n",
       "      <td>0</td>\n",
       "      <td>7861</td>\n",
       "      <td>0</td>\n",
       "      <td>38</td>\n",
       "      <td>0</td>\n",
       "      <td>263358.03</td>\n",
       "      <td>1.1</td>\n",
       "      <td>136</td>\n",
       "      <td>1</td>\n",
       "      <td>0</td>\n",
       "      <td>6</td>\n",
       "      <td>1</td>\n",
       "    </tr>\n",
       "    <tr>\n",
       "      <th>2</th>\n",
       "      <td>65.0</td>\n",
       "      <td>0</td>\n",
       "      <td>146</td>\n",
       "      <td>0</td>\n",
       "      <td>20</td>\n",
       "      <td>0</td>\n",
       "      <td>162000.00</td>\n",
       "      <td>1.3</td>\n",
       "      <td>129</td>\n",
       "      <td>1</td>\n",
       "      <td>1</td>\n",
       "      <td>7</td>\n",
       "      <td>1</td>\n",
       "    </tr>\n",
       "    <tr>\n",
       "      <th>3</th>\n",
       "      <td>50.0</td>\n",
       "      <td>1</td>\n",
       "      <td>111</td>\n",
       "      <td>0</td>\n",
       "      <td>20</td>\n",
       "      <td>0</td>\n",
       "      <td>210000.00</td>\n",
       "      <td>1.9</td>\n",
       "      <td>137</td>\n",
       "      <td>1</td>\n",
       "      <td>0</td>\n",
       "      <td>7</td>\n",
       "      <td>1</td>\n",
       "    </tr>\n",
       "    <tr>\n",
       "      <th>4</th>\n",
       "      <td>65.0</td>\n",
       "      <td>1</td>\n",
       "      <td>160</td>\n",
       "      <td>1</td>\n",
       "      <td>20</td>\n",
       "      <td>0</td>\n",
       "      <td>327000.00</td>\n",
       "      <td>2.7</td>\n",
       "      <td>116</td>\n",
       "      <td>0</td>\n",
       "      <td>0</td>\n",
       "      <td>8</td>\n",
       "      <td>1</td>\n",
       "    </tr>\n",
       "    <tr>\n",
       "      <th>...</th>\n",
       "      <td>...</td>\n",
       "      <td>...</td>\n",
       "      <td>...</td>\n",
       "      <td>...</td>\n",
       "      <td>...</td>\n",
       "      <td>...</td>\n",
       "      <td>...</td>\n",
       "      <td>...</td>\n",
       "      <td>...</td>\n",
       "      <td>...</td>\n",
       "      <td>...</td>\n",
       "      <td>...</td>\n",
       "      <td>...</td>\n",
       "    </tr>\n",
       "    <tr>\n",
       "      <th>294</th>\n",
       "      <td>62.0</td>\n",
       "      <td>0</td>\n",
       "      <td>61</td>\n",
       "      <td>1</td>\n",
       "      <td>38</td>\n",
       "      <td>1</td>\n",
       "      <td>155000.00</td>\n",
       "      <td>1.1</td>\n",
       "      <td>143</td>\n",
       "      <td>1</td>\n",
       "      <td>1</td>\n",
       "      <td>270</td>\n",
       "      <td>0</td>\n",
       "    </tr>\n",
       "    <tr>\n",
       "      <th>295</th>\n",
       "      <td>55.0</td>\n",
       "      <td>0</td>\n",
       "      <td>1820</td>\n",
       "      <td>0</td>\n",
       "      <td>38</td>\n",
       "      <td>0</td>\n",
       "      <td>270000.00</td>\n",
       "      <td>1.2</td>\n",
       "      <td>139</td>\n",
       "      <td>0</td>\n",
       "      <td>0</td>\n",
       "      <td>271</td>\n",
       "      <td>0</td>\n",
       "    </tr>\n",
       "    <tr>\n",
       "      <th>296</th>\n",
       "      <td>45.0</td>\n",
       "      <td>0</td>\n",
       "      <td>2060</td>\n",
       "      <td>1</td>\n",
       "      <td>60</td>\n",
       "      <td>0</td>\n",
       "      <td>742000.00</td>\n",
       "      <td>0.8</td>\n",
       "      <td>138</td>\n",
       "      <td>0</td>\n",
       "      <td>0</td>\n",
       "      <td>278</td>\n",
       "      <td>0</td>\n",
       "    </tr>\n",
       "    <tr>\n",
       "      <th>297</th>\n",
       "      <td>45.0</td>\n",
       "      <td>0</td>\n",
       "      <td>2413</td>\n",
       "      <td>0</td>\n",
       "      <td>38</td>\n",
       "      <td>0</td>\n",
       "      <td>140000.00</td>\n",
       "      <td>1.4</td>\n",
       "      <td>140</td>\n",
       "      <td>1</td>\n",
       "      <td>1</td>\n",
       "      <td>280</td>\n",
       "      <td>0</td>\n",
       "    </tr>\n",
       "    <tr>\n",
       "      <th>298</th>\n",
       "      <td>50.0</td>\n",
       "      <td>0</td>\n",
       "      <td>196</td>\n",
       "      <td>0</td>\n",
       "      <td>45</td>\n",
       "      <td>0</td>\n",
       "      <td>395000.00</td>\n",
       "      <td>1.6</td>\n",
       "      <td>136</td>\n",
       "      <td>1</td>\n",
       "      <td>1</td>\n",
       "      <td>285</td>\n",
       "      <td>0</td>\n",
       "    </tr>\n",
       "  </tbody>\n",
       "</table>\n",
       "<p>299 rows × 13 columns</p>\n",
       "</div>"
      ],
      "text/plain": [
       "      age  anaemia  creatinine_phosphokinase  diabetes  ejection_fraction  \\\n",
       "0    75.0        0                       582         0                 20   \n",
       "1    55.0        0                      7861         0                 38   \n",
       "2    65.0        0                       146         0                 20   \n",
       "3    50.0        1                       111         0                 20   \n",
       "4    65.0        1                       160         1                 20   \n",
       "..    ...      ...                       ...       ...                ...   \n",
       "294  62.0        0                        61         1                 38   \n",
       "295  55.0        0                      1820         0                 38   \n",
       "296  45.0        0                      2060         1                 60   \n",
       "297  45.0        0                      2413         0                 38   \n",
       "298  50.0        0                       196         0                 45   \n",
       "\n",
       "     high_blood_pressure  platelets  serum_creatinine  serum_sodium  sex  \\\n",
       "0                      1  265000.00               1.9           130    1   \n",
       "1                      0  263358.03               1.1           136    1   \n",
       "2                      0  162000.00               1.3           129    1   \n",
       "3                      0  210000.00               1.9           137    1   \n",
       "4                      0  327000.00               2.7           116    0   \n",
       "..                   ...        ...               ...           ...  ...   \n",
       "294                    1  155000.00               1.1           143    1   \n",
       "295                    0  270000.00               1.2           139    0   \n",
       "296                    0  742000.00               0.8           138    0   \n",
       "297                    0  140000.00               1.4           140    1   \n",
       "298                    0  395000.00               1.6           136    1   \n",
       "\n",
       "     smoking  time  DEATH_EVENT  \n",
       "0          0     4            1  \n",
       "1          0     6            1  \n",
       "2          1     7            1  \n",
       "3          0     7            1  \n",
       "4          0     8            1  \n",
       "..       ...   ...          ...  \n",
       "294        1   270            0  \n",
       "295        0   271            0  \n",
       "296        0   278            0  \n",
       "297        1   280            0  \n",
       "298        1   285            0  \n",
       "\n",
       "[299 rows x 13 columns]"
      ]
     },
     "execution_count": 4,
     "metadata": {},
     "output_type": "execute_result"
    }
   ],
   "source": [
    "df"
   ]
  },
  {
   "cell_type": "markdown",
   "id": "49bfd186",
   "metadata": {
    "papermill": {
     "duration": 0.016874,
     "end_time": "2024-05-20T01:22:42.953636",
     "exception": false,
     "start_time": "2024-05-20T01:22:42.936762",
     "status": "completed"
    },
    "tags": []
   },
   "source": [
    "# Step 2: Exploratory Data Analysis (EDA)"
   ]
  },
  {
   "cell_type": "code",
   "execution_count": 5,
   "id": "73e47f90",
   "metadata": {
    "execution": {
     "iopub.execute_input": "2024-05-20T01:22:42.990070Z",
     "iopub.status.busy": "2024-05-20T01:22:42.989608Z",
     "iopub.status.idle": "2024-05-20T01:22:43.008928Z",
     "shell.execute_reply": "2024-05-20T01:22:43.007554Z"
    },
    "papermill": {
     "duration": 0.041309,
     "end_time": "2024-05-20T01:22:43.011746",
     "exception": false,
     "start_time": "2024-05-20T01:22:42.970437",
     "status": "completed"
    },
    "tags": []
   },
   "outputs": [
    {
     "data": {
      "text/html": [
       "<div>\n",
       "<style scoped>\n",
       "    .dataframe tbody tr th:only-of-type {\n",
       "        vertical-align: middle;\n",
       "    }\n",
       "\n",
       "    .dataframe tbody tr th {\n",
       "        vertical-align: top;\n",
       "    }\n",
       "\n",
       "    .dataframe thead th {\n",
       "        text-align: right;\n",
       "    }\n",
       "</style>\n",
       "<table border=\"1\" class=\"dataframe\">\n",
       "  <thead>\n",
       "    <tr style=\"text-align: right;\">\n",
       "      <th></th>\n",
       "      <th>age</th>\n",
       "      <th>anaemia</th>\n",
       "      <th>creatinine_phosphokinase</th>\n",
       "      <th>diabetes</th>\n",
       "      <th>ejection_fraction</th>\n",
       "      <th>high_blood_pressure</th>\n",
       "      <th>platelets</th>\n",
       "      <th>serum_creatinine</th>\n",
       "      <th>serum_sodium</th>\n",
       "      <th>sex</th>\n",
       "      <th>smoking</th>\n",
       "      <th>time</th>\n",
       "      <th>DEATH_EVENT</th>\n",
       "    </tr>\n",
       "  </thead>\n",
       "  <tbody>\n",
       "    <tr>\n",
       "      <th>0</th>\n",
       "      <td>75.0</td>\n",
       "      <td>0</td>\n",
       "      <td>582</td>\n",
       "      <td>0</td>\n",
       "      <td>20</td>\n",
       "      <td>1</td>\n",
       "      <td>265000.00</td>\n",
       "      <td>1.9</td>\n",
       "      <td>130</td>\n",
       "      <td>1</td>\n",
       "      <td>0</td>\n",
       "      <td>4</td>\n",
       "      <td>1</td>\n",
       "    </tr>\n",
       "    <tr>\n",
       "      <th>1</th>\n",
       "      <td>55.0</td>\n",
       "      <td>0</td>\n",
       "      <td>7861</td>\n",
       "      <td>0</td>\n",
       "      <td>38</td>\n",
       "      <td>0</td>\n",
       "      <td>263358.03</td>\n",
       "      <td>1.1</td>\n",
       "      <td>136</td>\n",
       "      <td>1</td>\n",
       "      <td>0</td>\n",
       "      <td>6</td>\n",
       "      <td>1</td>\n",
       "    </tr>\n",
       "    <tr>\n",
       "      <th>2</th>\n",
       "      <td>65.0</td>\n",
       "      <td>0</td>\n",
       "      <td>146</td>\n",
       "      <td>0</td>\n",
       "      <td>20</td>\n",
       "      <td>0</td>\n",
       "      <td>162000.00</td>\n",
       "      <td>1.3</td>\n",
       "      <td>129</td>\n",
       "      <td>1</td>\n",
       "      <td>1</td>\n",
       "      <td>7</td>\n",
       "      <td>1</td>\n",
       "    </tr>\n",
       "    <tr>\n",
       "      <th>3</th>\n",
       "      <td>50.0</td>\n",
       "      <td>1</td>\n",
       "      <td>111</td>\n",
       "      <td>0</td>\n",
       "      <td>20</td>\n",
       "      <td>0</td>\n",
       "      <td>210000.00</td>\n",
       "      <td>1.9</td>\n",
       "      <td>137</td>\n",
       "      <td>1</td>\n",
       "      <td>0</td>\n",
       "      <td>7</td>\n",
       "      <td>1</td>\n",
       "    </tr>\n",
       "    <tr>\n",
       "      <th>4</th>\n",
       "      <td>65.0</td>\n",
       "      <td>1</td>\n",
       "      <td>160</td>\n",
       "      <td>1</td>\n",
       "      <td>20</td>\n",
       "      <td>0</td>\n",
       "      <td>327000.00</td>\n",
       "      <td>2.7</td>\n",
       "      <td>116</td>\n",
       "      <td>0</td>\n",
       "      <td>0</td>\n",
       "      <td>8</td>\n",
       "      <td>1</td>\n",
       "    </tr>\n",
       "  </tbody>\n",
       "</table>\n",
       "</div>"
      ],
      "text/plain": [
       "    age  anaemia  creatinine_phosphokinase  diabetes  ejection_fraction  \\\n",
       "0  75.0        0                       582         0                 20   \n",
       "1  55.0        0                      7861         0                 38   \n",
       "2  65.0        0                       146         0                 20   \n",
       "3  50.0        1                       111         0                 20   \n",
       "4  65.0        1                       160         1                 20   \n",
       "\n",
       "   high_blood_pressure  platelets  serum_creatinine  serum_sodium  sex  \\\n",
       "0                    1  265000.00               1.9           130    1   \n",
       "1                    0  263358.03               1.1           136    1   \n",
       "2                    0  162000.00               1.3           129    1   \n",
       "3                    0  210000.00               1.9           137    1   \n",
       "4                    0  327000.00               2.7           116    0   \n",
       "\n",
       "   smoking  time  DEATH_EVENT  \n",
       "0        0     4            1  \n",
       "1        0     6            1  \n",
       "2        1     7            1  \n",
       "3        0     7            1  \n",
       "4        0     8            1  "
      ]
     },
     "execution_count": 5,
     "metadata": {},
     "output_type": "execute_result"
    }
   ],
   "source": [
    "df.head()"
   ]
  },
  {
   "cell_type": "code",
   "execution_count": 6,
   "id": "10ec8a28",
   "metadata": {
    "execution": {
     "iopub.execute_input": "2024-05-20T01:22:43.048676Z",
     "iopub.status.busy": "2024-05-20T01:22:43.048207Z",
     "iopub.status.idle": "2024-05-20T01:22:43.059980Z",
     "shell.execute_reply": "2024-05-20T01:22:43.058916Z"
    },
    "papermill": {
     "duration": 0.033648,
     "end_time": "2024-05-20T01:22:43.063099",
     "exception": false,
     "start_time": "2024-05-20T01:22:43.029451",
     "status": "completed"
    },
    "tags": []
   },
   "outputs": [
    {
     "data": {
      "text/plain": [
       "age                         0\n",
       "anaemia                     0\n",
       "creatinine_phosphokinase    0\n",
       "diabetes                    0\n",
       "ejection_fraction           0\n",
       "high_blood_pressure         0\n",
       "platelets                   0\n",
       "serum_creatinine            0\n",
       "serum_sodium                0\n",
       "sex                         0\n",
       "smoking                     0\n",
       "time                        0\n",
       "DEATH_EVENT                 0\n",
       "dtype: int64"
      ]
     },
     "execution_count": 6,
     "metadata": {},
     "output_type": "execute_result"
    }
   ],
   "source": [
    "df.isnull().sum()"
   ]
  },
  {
   "cell_type": "code",
   "execution_count": 7,
   "id": "bc73d1fd",
   "metadata": {
    "execution": {
     "iopub.execute_input": "2024-05-20T01:22:43.099765Z",
     "iopub.status.busy": "2024-05-20T01:22:43.099292Z",
     "iopub.status.idle": "2024-05-20T01:22:43.109223Z",
     "shell.execute_reply": "2024-05-20T01:22:43.107724Z"
    },
    "papermill": {
     "duration": 0.032031,
     "end_time": "2024-05-20T01:22:43.112401",
     "exception": false,
     "start_time": "2024-05-20T01:22:43.080370",
     "status": "completed"
    },
    "tags": []
   },
   "outputs": [
    {
     "data": {
      "text/plain": [
       "age                         float64\n",
       "anaemia                       int64\n",
       "creatinine_phosphokinase      int64\n",
       "diabetes                      int64\n",
       "ejection_fraction             int64\n",
       "high_blood_pressure           int64\n",
       "platelets                   float64\n",
       "serum_creatinine            float64\n",
       "serum_sodium                  int64\n",
       "sex                           int64\n",
       "smoking                       int64\n",
       "time                          int64\n",
       "DEATH_EVENT                   int64\n",
       "dtype: object"
      ]
     },
     "execution_count": 7,
     "metadata": {},
     "output_type": "execute_result"
    }
   ],
   "source": [
    "df.dtypes"
   ]
  },
  {
   "cell_type": "code",
   "execution_count": 8,
   "id": "0d514c00",
   "metadata": {
    "execution": {
     "iopub.execute_input": "2024-05-20T01:22:43.150070Z",
     "iopub.status.busy": "2024-05-20T01:22:43.149584Z",
     "iopub.status.idle": "2024-05-20T01:22:43.158633Z",
     "shell.execute_reply": "2024-05-20T01:22:43.157262Z"
    },
    "papermill": {
     "duration": 0.031601,
     "end_time": "2024-05-20T01:22:43.161237",
     "exception": false,
     "start_time": "2024-05-20T01:22:43.129636",
     "status": "completed"
    },
    "tags": []
   },
   "outputs": [],
   "source": [
    "# Drop the 'time' column from the feature set\n",
    "X = df.drop(['DEATH_EVENT', 'time'], axis=1)  # Features (excluding target and time variable)\n",
    "y = df['DEATH_EVENT']  # Target variable"
   ]
  },
  {
   "cell_type": "code",
   "execution_count": 9,
   "id": "e0c68a68",
   "metadata": {
    "execution": {
     "iopub.execute_input": "2024-05-20T01:22:43.198579Z",
     "iopub.status.busy": "2024-05-20T01:22:43.198178Z",
     "iopub.status.idle": "2024-05-20T01:22:43.214172Z",
     "shell.execute_reply": "2024-05-20T01:22:43.213186Z"
    },
    "papermill": {
     "duration": 0.038184,
     "end_time": "2024-05-20T01:22:43.217293",
     "exception": false,
     "start_time": "2024-05-20T01:22:43.179109",
     "status": "completed"
    },
    "tags": []
   },
   "outputs": [],
   "source": [
    "# Handling class imbalance using SMOTE\n",
    "smote = SMOTE(random_state=42)\n",
    "X_resampled, y_resampled = smote.fit_resample(X, y)"
   ]
  },
  {
   "cell_type": "code",
   "execution_count": 10,
   "id": "ef7070ba",
   "metadata": {
    "execution": {
     "iopub.execute_input": "2024-05-20T01:22:43.254815Z",
     "iopub.status.busy": "2024-05-20T01:22:43.254270Z",
     "iopub.status.idle": "2024-05-20T01:22:43.276018Z",
     "shell.execute_reply": "2024-05-20T01:22:43.274662Z"
    },
    "papermill": {
     "duration": 0.043568,
     "end_time": "2024-05-20T01:22:43.278614",
     "exception": false,
     "start_time": "2024-05-20T01:22:43.235046",
     "status": "completed"
    },
    "tags": []
   },
   "outputs": [
    {
     "data": {
      "text/html": [
       "<div>\n",
       "<style scoped>\n",
       "    .dataframe tbody tr th:only-of-type {\n",
       "        vertical-align: middle;\n",
       "    }\n",
       "\n",
       "    .dataframe tbody tr th {\n",
       "        vertical-align: top;\n",
       "    }\n",
       "\n",
       "    .dataframe thead th {\n",
       "        text-align: right;\n",
       "    }\n",
       "</style>\n",
       "<table border=\"1\" class=\"dataframe\">\n",
       "  <thead>\n",
       "    <tr style=\"text-align: right;\">\n",
       "      <th></th>\n",
       "      <th>age</th>\n",
       "      <th>anaemia</th>\n",
       "      <th>creatinine_phosphokinase</th>\n",
       "      <th>diabetes</th>\n",
       "      <th>ejection_fraction</th>\n",
       "      <th>high_blood_pressure</th>\n",
       "      <th>platelets</th>\n",
       "      <th>serum_creatinine</th>\n",
       "      <th>serum_sodium</th>\n",
       "      <th>sex</th>\n",
       "      <th>smoking</th>\n",
       "    </tr>\n",
       "  </thead>\n",
       "  <tbody>\n",
       "    <tr>\n",
       "      <th>0</th>\n",
       "      <td>75.000000</td>\n",
       "      <td>0</td>\n",
       "      <td>582</td>\n",
       "      <td>0</td>\n",
       "      <td>20</td>\n",
       "      <td>1</td>\n",
       "      <td>265000.000000</td>\n",
       "      <td>1.900000</td>\n",
       "      <td>130</td>\n",
       "      <td>1</td>\n",
       "      <td>0</td>\n",
       "    </tr>\n",
       "    <tr>\n",
       "      <th>1</th>\n",
       "      <td>55.000000</td>\n",
       "      <td>0</td>\n",
       "      <td>7861</td>\n",
       "      <td>0</td>\n",
       "      <td>38</td>\n",
       "      <td>0</td>\n",
       "      <td>263358.030000</td>\n",
       "      <td>1.100000</td>\n",
       "      <td>136</td>\n",
       "      <td>1</td>\n",
       "      <td>0</td>\n",
       "    </tr>\n",
       "    <tr>\n",
       "      <th>2</th>\n",
       "      <td>65.000000</td>\n",
       "      <td>0</td>\n",
       "      <td>146</td>\n",
       "      <td>0</td>\n",
       "      <td>20</td>\n",
       "      <td>0</td>\n",
       "      <td>162000.000000</td>\n",
       "      <td>1.300000</td>\n",
       "      <td>129</td>\n",
       "      <td>1</td>\n",
       "      <td>1</td>\n",
       "    </tr>\n",
       "    <tr>\n",
       "      <th>3</th>\n",
       "      <td>50.000000</td>\n",
       "      <td>1</td>\n",
       "      <td>111</td>\n",
       "      <td>0</td>\n",
       "      <td>20</td>\n",
       "      <td>0</td>\n",
       "      <td>210000.000000</td>\n",
       "      <td>1.900000</td>\n",
       "      <td>137</td>\n",
       "      <td>1</td>\n",
       "      <td>0</td>\n",
       "    </tr>\n",
       "    <tr>\n",
       "      <th>4</th>\n",
       "      <td>65.000000</td>\n",
       "      <td>1</td>\n",
       "      <td>160</td>\n",
       "      <td>1</td>\n",
       "      <td>20</td>\n",
       "      <td>0</td>\n",
       "      <td>327000.000000</td>\n",
       "      <td>2.700000</td>\n",
       "      <td>116</td>\n",
       "      <td>0</td>\n",
       "      <td>0</td>\n",
       "    </tr>\n",
       "    <tr>\n",
       "      <th>...</th>\n",
       "      <td>...</td>\n",
       "      <td>...</td>\n",
       "      <td>...</td>\n",
       "      <td>...</td>\n",
       "      <td>...</td>\n",
       "      <td>...</td>\n",
       "      <td>...</td>\n",
       "      <td>...</td>\n",
       "      <td>...</td>\n",
       "      <td>...</td>\n",
       "      <td>...</td>\n",
       "    </tr>\n",
       "    <tr>\n",
       "      <th>401</th>\n",
       "      <td>57.872410</td>\n",
       "      <td>0</td>\n",
       "      <td>413</td>\n",
       "      <td>0</td>\n",
       "      <td>35</td>\n",
       "      <td>0</td>\n",
       "      <td>386103.349398</td>\n",
       "      <td>4.089378</td>\n",
       "      <td>140</td>\n",
       "      <td>1</td>\n",
       "      <td>0</td>\n",
       "    </tr>\n",
       "    <tr>\n",
       "      <th>402</th>\n",
       "      <td>71.103083</td>\n",
       "      <td>0</td>\n",
       "      <td>582</td>\n",
       "      <td>0</td>\n",
       "      <td>20</td>\n",
       "      <td>0</td>\n",
       "      <td>263358.030000</td>\n",
       "      <td>1.830000</td>\n",
       "      <td>134</td>\n",
       "      <td>1</td>\n",
       "      <td>0</td>\n",
       "    </tr>\n",
       "    <tr>\n",
       "      <th>403</th>\n",
       "      <td>53.664703</td>\n",
       "      <td>0</td>\n",
       "      <td>1539</td>\n",
       "      <td>0</td>\n",
       "      <td>33</td>\n",
       "      <td>0</td>\n",
       "      <td>70235.886240</td>\n",
       "      <td>1.193176</td>\n",
       "      <td>136</td>\n",
       "      <td>0</td>\n",
       "      <td>0</td>\n",
       "    </tr>\n",
       "    <tr>\n",
       "      <th>404</th>\n",
       "      <td>77.321127</td>\n",
       "      <td>1</td>\n",
       "      <td>388</td>\n",
       "      <td>0</td>\n",
       "      <td>17</td>\n",
       "      <td>0</td>\n",
       "      <td>133034.929107</td>\n",
       "      <td>2.685521</td>\n",
       "      <td>135</td>\n",
       "      <td>1</td>\n",
       "      <td>0</td>\n",
       "    </tr>\n",
       "    <tr>\n",
       "      <th>405</th>\n",
       "      <td>51.979562</td>\n",
       "      <td>0</td>\n",
       "      <td>794</td>\n",
       "      <td>0</td>\n",
       "      <td>22</td>\n",
       "      <td>1</td>\n",
       "      <td>319180.579540</td>\n",
       "      <td>1.090971</td>\n",
       "      <td>136</td>\n",
       "      <td>0</td>\n",
       "      <td>0</td>\n",
       "    </tr>\n",
       "  </tbody>\n",
       "</table>\n",
       "<p>406 rows × 11 columns</p>\n",
       "</div>"
      ],
      "text/plain": [
       "           age  anaemia  creatinine_phosphokinase  diabetes  \\\n",
       "0    75.000000        0                       582         0   \n",
       "1    55.000000        0                      7861         0   \n",
       "2    65.000000        0                       146         0   \n",
       "3    50.000000        1                       111         0   \n",
       "4    65.000000        1                       160         1   \n",
       "..         ...      ...                       ...       ...   \n",
       "401  57.872410        0                       413         0   \n",
       "402  71.103083        0                       582         0   \n",
       "403  53.664703        0                      1539         0   \n",
       "404  77.321127        1                       388         0   \n",
       "405  51.979562        0                       794         0   \n",
       "\n",
       "     ejection_fraction  high_blood_pressure      platelets  serum_creatinine  \\\n",
       "0                   20                    1  265000.000000          1.900000   \n",
       "1                   38                    0  263358.030000          1.100000   \n",
       "2                   20                    0  162000.000000          1.300000   \n",
       "3                   20                    0  210000.000000          1.900000   \n",
       "4                   20                    0  327000.000000          2.700000   \n",
       "..                 ...                  ...            ...               ...   \n",
       "401                 35                    0  386103.349398          4.089378   \n",
       "402                 20                    0  263358.030000          1.830000   \n",
       "403                 33                    0   70235.886240          1.193176   \n",
       "404                 17                    0  133034.929107          2.685521   \n",
       "405                 22                    1  319180.579540          1.090971   \n",
       "\n",
       "     serum_sodium  sex  smoking  \n",
       "0             130    1        0  \n",
       "1             136    1        0  \n",
       "2             129    1        1  \n",
       "3             137    1        0  \n",
       "4             116    0        0  \n",
       "..            ...  ...      ...  \n",
       "401           140    1        0  \n",
       "402           134    1        0  \n",
       "403           136    0        0  \n",
       "404           135    1        0  \n",
       "405           136    0        0  \n",
       "\n",
       "[406 rows x 11 columns]"
      ]
     },
     "execution_count": 10,
     "metadata": {},
     "output_type": "execute_result"
    }
   ],
   "source": [
    "X_resampled"
   ]
  },
  {
   "cell_type": "code",
   "execution_count": 11,
   "id": "d14c8150",
   "metadata": {
    "execution": {
     "iopub.execute_input": "2024-05-20T01:22:43.318708Z",
     "iopub.status.busy": "2024-05-20T01:22:43.318300Z",
     "iopub.status.idle": "2024-05-20T01:22:43.328031Z",
     "shell.execute_reply": "2024-05-20T01:22:43.326751Z"
    },
    "papermill": {
     "duration": 0.033323,
     "end_time": "2024-05-20T01:22:43.330751",
     "exception": false,
     "start_time": "2024-05-20T01:22:43.297428",
     "status": "completed"
    },
    "tags": []
   },
   "outputs": [
    {
     "data": {
      "text/plain": [
       "0      1\n",
       "1      1\n",
       "2      1\n",
       "3      1\n",
       "4      1\n",
       "      ..\n",
       "401    1\n",
       "402    1\n",
       "403    1\n",
       "404    1\n",
       "405    1\n",
       "Name: DEATH_EVENT, Length: 406, dtype: int64"
      ]
     },
     "execution_count": 11,
     "metadata": {},
     "output_type": "execute_result"
    }
   ],
   "source": [
    "y_resampled"
   ]
  },
  {
   "cell_type": "code",
   "execution_count": 12,
   "id": "e84dfc10",
   "metadata": {
    "execution": {
     "iopub.execute_input": "2024-05-20T01:22:43.371226Z",
     "iopub.status.busy": "2024-05-20T01:22:43.370697Z",
     "iopub.status.idle": "2024-05-20T01:22:43.380697Z",
     "shell.execute_reply": "2024-05-20T01:22:43.379234Z"
    },
    "papermill": {
     "duration": 0.034097,
     "end_time": "2024-05-20T01:22:43.383501",
     "exception": false,
     "start_time": "2024-05-20T01:22:43.349404",
     "status": "completed"
    },
    "tags": []
   },
   "outputs": [],
   "source": [
    "X_train, X_test, y_train, y_test = train_test_split(X, y, test_size=0.2, random_state=42)"
   ]
  },
  {
   "cell_type": "code",
   "execution_count": 13,
   "id": "1d00e602",
   "metadata": {
    "execution": {
     "iopub.execute_input": "2024-05-20T01:22:43.424081Z",
     "iopub.status.busy": "2024-05-20T01:22:43.423610Z",
     "iopub.status.idle": "2024-05-20T01:22:43.430761Z",
     "shell.execute_reply": "2024-05-20T01:22:43.429596Z"
    },
    "papermill": {
     "duration": 0.032274,
     "end_time": "2024-05-20T01:22:43.434033",
     "exception": false,
     "start_time": "2024-05-20T01:22:43.401759",
     "status": "completed"
    },
    "tags": []
   },
   "outputs": [
    {
     "name": "stdout",
     "output_type": "stream",
     "text": [
      "\n",
      "Shapes of the split datasets:\n",
      "X_train: (239, 11)\n",
      "X_test: (60, 11)\n",
      "y_train: (239,)\n",
      "y_test: (60,)\n"
     ]
    }
   ],
   "source": [
    "# Display the shapes of the split datasets\n",
    "print(\"\\nShapes of the split datasets:\")\n",
    "print(\"X_train:\", X_train.shape)\n",
    "print(\"X_test:\", X_test.shape)\n",
    "print(\"y_train:\", y_train.shape)\n",
    "print(\"y_test:\", y_test.shape)"
   ]
  },
  {
   "cell_type": "code",
   "execution_count": 14,
   "id": "18400077",
   "metadata": {
    "execution": {
     "iopub.execute_input": "2024-05-20T01:22:43.473101Z",
     "iopub.status.busy": "2024-05-20T01:22:43.472617Z",
     "iopub.status.idle": "2024-05-20T01:22:44.452986Z",
     "shell.execute_reply": "2024-05-20T01:22:44.451775Z"
    },
    "papermill": {
     "duration": 1.004133,
     "end_time": "2024-05-20T01:22:44.456915",
     "exception": false,
     "start_time": "2024-05-20T01:22:43.452782",
     "status": "completed"
    },
    "tags": []
   },
   "outputs": [
    {
     "data": {
      "image/png": "[encoded data removed]",
      "text/plain": [
       "<Figure size 1200x800 with 2 Axes>"
      ]
     },
     "metadata": {},
     "output_type": "display_data"
    }
   ],
   "source": [
    "plt.figure(figsize=(12, 8))\n",
    "sns.heatmap(df.corr(), annot=True, cmap='coolwarm', fmt=\".2f\")\n",
    "plt.title('Correlation Heatmap')\n",
    "plt.show()"
   ]
  },
  {
   "cell_type": "markdown",
   "id": "54b985eb",
   "metadata": {
    "papermill": {
     "duration": 0.028719,
     "end_time": "2024-05-20T01:22:44.506493",
     "exception": false,
     "start_time": "2024-05-20T01:22:44.477774",
     "status": "completed"
    },
    "tags": []
   },
   "source": [
    "# Step 3: Feature Engineering"
   ]
  },
  {
   "cell_type": "markdown",
   "id": "fc2eb9dc",
   "metadata": {
    "papermill": {
     "duration": 0.023698,
     "end_time": "2024-05-20T01:22:44.559331",
     "exception": false,
     "start_time": "2024-05-20T01:22:44.535633",
     "status": "completed"
    },
    "tags": []
   },
   "source": [
    "#### Our code provided for Step 3 scales the features using StandardScaler and displays the scaled features."
   ]
  },
  {
   "cell_type": "code",
   "execution_count": 15,
   "id": "b5896ac1",
   "metadata": {
    "execution": {
     "iopub.execute_input": "2024-05-20T01:22:44.607196Z",
     "iopub.status.busy": "2024-05-20T01:22:44.606732Z",
     "iopub.status.idle": "2024-05-20T01:22:44.612705Z",
     "shell.execute_reply": "2024-05-20T01:22:44.611310Z"
    },
    "papermill": {
     "duration": 0.031307,
     "end_time": "2024-05-20T01:22:44.615605",
     "exception": false,
     "start_time": "2024-05-20T01:22:44.584298",
     "status": "completed"
    },
    "tags": []
   },
   "outputs": [],
   "source": [
    "# Initialize the StandardScaler\n",
    "scaler = StandardScaler()"
   ]
  },
  {
   "cell_type": "code",
   "execution_count": 16,
   "id": "12011c1c",
   "metadata": {
    "execution": {
     "iopub.execute_input": "2024-05-20T01:22:44.725121Z",
     "iopub.status.busy": "2024-05-20T01:22:44.724591Z",
     "iopub.status.idle": "2024-05-20T01:22:44.735942Z",
     "shell.execute_reply": "2024-05-20T01:22:44.734744Z"
    },
    "papermill": {
     "duration": 0.101127,
     "end_time": "2024-05-20T01:22:44.738702",
     "exception": false,
     "start_time": "2024-05-20T01:22:44.637575",
     "status": "completed"
    },
    "tags": []
   },
   "outputs": [],
   "source": [
    "# Fit the scaler on the training features and transform them\n",
    "X_train_scaled = scaler.fit_transform(X_train)"
   ]
  },
  {
   "cell_type": "code",
   "execution_count": 17,
   "id": "47b4436c",
   "metadata": {
    "execution": {
     "iopub.execute_input": "2024-05-20T01:22:44.782586Z",
     "iopub.status.busy": "2024-05-20T01:22:44.782123Z",
     "iopub.status.idle": "2024-05-20T01:22:44.790302Z",
     "shell.execute_reply": "2024-05-20T01:22:44.789096Z"
    },
    "papermill": {
     "duration": 0.033361,
     "end_time": "2024-05-20T01:22:44.793036",
     "exception": false,
     "start_time": "2024-05-20T01:22:44.759675",
     "status": "completed"
    },
    "tags": []
   },
   "outputs": [],
   "source": [
    "# Transform the testing features using the same scaler\n",
    "X_test_scaled = scaler.transform(X_test)"
   ]
  },
  {
   "cell_type": "code",
   "execution_count": 18,
   "id": "78a20f54",
   "metadata": {
    "execution": {
     "iopub.execute_input": "2024-05-20T01:22:44.837908Z",
     "iopub.status.busy": "2024-05-20T01:22:44.837469Z",
     "iopub.status.idle": "2024-05-20T01:22:44.846342Z",
     "shell.execute_reply": "2024-05-20T01:22:44.845020Z"
    },
    "papermill": {
     "duration": 0.034523,
     "end_time": "2024-05-20T01:22:44.849172",
     "exception": false,
     "start_time": "2024-05-20T01:22:44.814649",
     "status": "completed"
    },
    "tags": []
   },
   "outputs": [
    {
     "data": {
      "text/plain": [
       "array([[ 1.16420244,  1.13933179, -0.35037003, ...,  0.13125912,\n",
       "         0.74293206, -0.67625223],\n",
       "       [ 1.16420244, -0.87770745, -0.50593309, ..., -0.54581131,\n",
       "         0.74293206, -0.67625223],\n",
       "       [-0.03281933,  1.13933179, -0.50064183, ..., -0.09443102,\n",
       "         0.74293206, -0.67625223],\n",
       "       ...,\n",
       "       [-0.50609935, -0.87770745,  0.18087256, ...,  0.13125912,\n",
       "         0.74293206, -0.67625223],\n",
       "       [-1.42476533, -0.87770745,  0.0052027 , ..., -1.44857188,\n",
       "         0.74293206,  1.4787382 ],\n",
       "       [ 1.58177789, -0.87770745,  0.33961039, ...,  1.71109012,\n",
       "         0.74293206,  1.4787382 ]])"
      ]
     },
     "execution_count": 18,
     "metadata": {},
     "output_type": "execute_result"
    }
   ],
   "source": [
    "X_train_scaled"
   ]
  },
  {
   "cell_type": "code",
   "execution_count": 19,
   "id": "8f9963dc",
   "metadata": {
    "execution": {
     "iopub.execute_input": "2024-05-20T01:22:44.902489Z",
     "iopub.status.busy": "2024-05-20T01:22:44.901355Z",
     "iopub.status.idle": "2024-05-20T01:22:44.923546Z",
     "shell.execute_reply": "2024-05-20T01:22:44.922264Z"
    },
    "papermill": {
     "duration": 0.052453,
     "end_time": "2024-05-20T01:22:44.926648",
     "exception": false,
     "start_time": "2024-05-20T01:22:44.874195",
     "status": "completed"
    },
    "tags": []
   },
   "outputs": [
    {
     "data": {
      "text/plain": [
       "array([[ 7.46626996e-01, -8.77707451e-01,  5.20270419e-03,\n",
       "        -8.26497787e-01,  1.49345268e-01, -7.36162675e-01,\n",
       "        -2.24743345e+00,  1.32203359e+00, -9.44310219e-02,\n",
       "         7.42932064e-01,  1.47873820e+00],\n",
       "       [-9.23674793e-01,  1.13933179e+00, -2.95340912e-01,\n",
       "        -8.26497787e-01, -2.80697130e-01, -7.36162675e-01,\n",
       "         1.05843720e+00, -4.90853221e-01,  8.08329548e-01,\n",
       "         7.42932064e-01,  1.47873820e+00],\n",
       "       [-1.34125024e+00, -8.77707451e-01,  1.97355174e+00,\n",
       "         1.20992460e+00, -7.10739527e-01, -7.36162675e-01,\n",
       "         7.60802546e-01, -2.89421353e-01,  5.82639405e-01,\n",
       "         7.42932064e-01, -6.76252226e-01],\n",
       "       [ 1.58177789e+00,  1.13933179e+00, -4.80535042e-01,\n",
       "        -8.26497787e-01, -2.80697130e-01,  1.35839541e+00,\n",
       "         1.33481224e+00,  8.07000115e+00, -7.71501449e-01,\n",
       "         7.42932064e-01,  1.47873820e+00],\n",
       "       [-1.59179551e+00, -8.77707451e-01, -5.02758338e-01,\n",
       "         1.20992460e+00,  1.49345268e-01, -7.36162675e-01,\n",
       "        -2.70288943e-01, -1.88705419e-01,  8.08329548e-01,\n",
       "         7.42932064e-01, -6.76252226e-01],\n",
       "       [-9.23674793e-01,  1.13933179e+00,  5.01522972e-01,\n",
       "         1.20992460e+00, -7.10739527e-01, -7.36162675e-01,\n",
       "        -3.23437989e-01, -6.92285088e-01, -9.44310219e-02,\n",
       "        -1.34601809e+00, -6.76252226e-01],\n",
       "       [-8.85238982e-02,  1.13933179e+00, -4.47729225e-01,\n",
       "        -8.26497787e-01, -1.14078192e+00, -7.36162675e-01,\n",
       "        -5.57293791e-01,  3.14874250e-01, -3.20121164e-01,\n",
       "         7.42932064e-01, -6.76252226e-01],\n",
       "       [-1.34125024e+00, -8.77707451e-01, -3.01690425e-01,\n",
       "         1.20992460e+00, -2.80697130e-01, -7.36162675e-01,\n",
       "         6.24578408e+00, -8.79894853e-02,  1.25970983e+00,\n",
       "         7.42932064e-01,  1.47873820e+00],\n",
       "       [ 2.41692879e+00,  1.13933179e+00, -5.60962207e-01,\n",
       "        -8.26497787e-01,  1.49345268e-01,  1.35839541e+00,\n",
       "        -6.21072646e-01,  7.17737985e-01, -9.97191591e-01,\n",
       "         7.42932064e-01,  1.47873820e+00],\n",
       "       [-9.23674793e-01,  1.13933179e+00, -4.89001060e-01,\n",
       "        -8.26497787e-01, -1.57082432e+00, -7.36162675e-01,\n",
       "        -7.80519783e-01, -5.91569154e-01,  5.82639405e-01,\n",
       "         7.42932064e-01, -6.76252226e-01],\n",
       "       [ 7.46626996e-01,  1.13933179e+00, -5.48263181e-01,\n",
       "        -8.26497787e-01,  1.86951486e+00, -7.36162675e-01,\n",
       "        -7.89523783e-02, -2.89421353e-01, -9.44310219e-02,\n",
       "        -1.34601809e+00, -6.76252226e-01],\n",
       "       [ 1.33123262e+00,  1.13933179e+00, -1.68350652e-01,\n",
       "        -8.26497787e-01,  5.79387665e-01, -7.36162675e-01,\n",
       "        -4.19106272e-01,  4.15590184e-01,  1.93678026e+00,\n",
       "         7.42932064e-01, -6.76252226e-01],\n",
       "       [-2.55554077e-01,  1.13933179e+00, -4.57253494e-01,\n",
       "        -8.26497787e-01, -1.14078192e+00, -7.36162675e-01,\n",
       "        -4.61625508e-01, -1.88705419e-01,  1.31259120e-01,\n",
       "         7.42932064e-01,  1.47873820e+00],\n",
       "       [ 3.29051549e-01,  1.13933179e+00, -2.56185582e-01,\n",
       "        -8.26497787e-01, -2.80697130e-01,  1.35839541e+00,\n",
       "        -2.91548562e-01, -5.91569154e-01, -9.44310219e-02,\n",
       "        -1.34601809e+00, -6.76252226e-01],\n",
       "       [-8.85238982e-02,  1.13933179e+00,  3.16590085e-02,\n",
       "        -8.26497787e-01,  1.49345268e-01, -7.36162675e-01,\n",
       "        -4.93514936e-01, -7.93001022e-01,  3.56949263e-01,\n",
       "         7.42932064e-01,  1.47873820e+00],\n",
       "       [-1.34125024e+00, -8.77707451e-01,  7.53995816e+00,\n",
       "         1.20992460e+00, -1.14078192e+00,  1.35839541e+00,\n",
       "         1.35607186e+00, -3.90137287e-01,  5.82639405e-01,\n",
       "         7.42932064e-01, -6.76252226e-01],\n",
       "       [ 2.45536460e-01, -8.77707451e-01,  1.09308594e+00,\n",
       "        -8.26497787e-01,  1.86951486e+00, -7.36162675e-01,\n",
       "        -2.17139898e-01, -3.90137287e-01,  1.31259120e-01,\n",
       "         7.42932064e-01, -6.76252226e-01],\n",
       "       [ 1.62021370e-01, -8.77707451e-01,  3.79823973e-01,\n",
       "        -8.26497787e-01, -2.26716912e-02, -7.36162675e-01,\n",
       "         4.41908271e-01, -2.89421353e-01, -7.71501449e-01,\n",
       "         7.42932064e-01,  1.47873820e+00],\n",
       "       [-1.34125024e+00, -8.77707451e-01,  5.20270419e-03,\n",
       "        -8.26497787e-01, -2.80697130e-01, -7.36162675e-01,\n",
       "         1.30292281e+00, -3.90137287e-01,  1.93678026e+00,\n",
       "         7.42932064e-01, -6.76252226e-01],\n",
       "       [ 1.58177789e+00, -8.77707451e-01,  2.41192938e-01,\n",
       "        -8.26497787e-01, -2.26716912e-02, -7.36162675e-01,\n",
       "         9.89188559e-03, -2.89421353e-01, -5.45811307e-01,\n",
       "         7.42932064e-01, -6.76252226e-01],\n",
       "       [-8.85238982e-02,  1.13933179e+00, -3.66243808e-01,\n",
       "         1.20992460e+00, -1.14078192e+00, -7.36162675e-01,\n",
       "        -7.27370738e-01,  3.14874250e-01,  8.08329548e-01,\n",
       "         7.42932064e-01, -6.76252226e-01],\n",
       "       [-8.85238982e-02, -8.77707451e-01, -5.54612694e-01,\n",
       "        -8.26497787e-01,  1.00943006e+00,  1.35839541e+00,\n",
       "         2.50571706e-01,  9.19169853e-01,  1.48539997e+00,\n",
       "        -1.34601809e+00, -6.76252226e-01],\n",
       "       [ 2.45536460e-01, -8.77707451e-01, -4.59369999e-01,\n",
       "        -8.26497787e-01, -1.14078192e+00, -7.36162675e-01,\n",
       "        -1.74620661e-01,  1.01988579e+00, -3.20121164e-01,\n",
       "         7.42932064e-01, -6.76252226e-01],\n",
       "       [-8.40159703e-01, -8.77707451e-01,  8.49687936e-01,\n",
       "        -8.26497787e-01, -1.14078192e+00,  1.35839541e+00,\n",
       "         9.11245684e-02, -4.90853221e-01, -1.44857188e+00,\n",
       "         7.42932064e-01, -6.76252226e-01],\n",
       "       [ 7.46626996e-01, -8.77707451e-01, -6.43806969e-03,\n",
       "         1.20992460e+00,  5.79387665e-01,  1.35839541e+00,\n",
       "        -8.23039020e-01, -1.88705419e-01,  5.82639405e-01,\n",
       "         7.42932064e-01,  1.47873820e+00],\n",
       "       [-1.34125024e+00, -8.77707451e-01,  5.20270419e-03,\n",
       "        -8.26497787e-01, -2.26716912e-02,  1.35839541e+00,\n",
       "         1.69622575e+00, -5.91569154e-01,  1.31259120e-01,\n",
       "        -1.34601809e+00, -6.76252226e-01],\n",
       "       [ 7.46626996e-01, -8.77707451e-01,  2.24128954e+00,\n",
       "         1.20992460e+00,  1.49345268e-01, -7.36162675e-01,\n",
       "        -2.27769707e-01, -3.90137287e-01,  1.31259120e-01,\n",
       "         7.42932064e-01, -6.76252226e-01],\n",
       "       [-8.85238982e-02,  1.13933179e+00, -5.09107851e-01,\n",
       "         1.20992460e+00,  1.86951486e+00,  1.35839541e+00,\n",
       "         9.11245684e-02, -6.92285088e-01, -9.44310219e-02,\n",
       "        -1.34601809e+00, -6.76252226e-01],\n",
       "       [-1.09070497e+00,  1.13933179e+00, -4.72069025e-01,\n",
       "         1.20992460e+00, -7.10739527e-01,  1.35839541e+00,\n",
       "        -1.95880279e-01,  2.14158316e-01, -1.44857188e+00,\n",
       "        -1.34601809e+00, -6.76252226e-01],\n",
       "       [ 1.16420244e+00, -8.77707451e-01, -4.84768051e-01,\n",
       "        -8.26497787e-01,  1.00943006e+00,  1.35839541e+00,\n",
       "        -1.53361043e-01, -2.89421353e-01,  2.61385069e+00,\n",
       "         7.42932064e-01, -6.76252226e-01],\n",
       "       [-1.34125024e+00, -8.77707451e-01,  5.20270419e-03,\n",
       "        -8.26497787e-01, -2.08687520e+00, -7.36162675e-01,\n",
       "        -1.02500539e+00, -5.91569154e-01, -2.12564230e+00,\n",
       "         7.42932064e-01, -6.76252226e-01],\n",
       "       [-5.06099345e-01,  1.13933179e+00, -4.20214668e-01,\n",
       "        -8.26497787e-01,  5.79387665e-01, -7.36162675e-01,\n",
       "         9.89188559e-03, -2.08848606e-01,  1.31259120e-01,\n",
       "         7.42932064e-01,  1.47873820e+00],\n",
       "       [-9.23674793e-01,  1.13933179e+00, -4.42437964e-01,\n",
       "         1.20992460e+00, -7.10739527e-01, -7.36162675e-01,\n",
       "         4.20648653e-01, -1.88705419e-01,  3.56949263e-01,\n",
       "        -1.34601809e+00, -6.76252226e-01],\n",
       "       [ 1.16420244e+00, -8.77707451e-01,  5.20270419e-03,\n",
       "         1.20992460e+00, -7.10739527e-01,  1.35839541e+00,\n",
       "         9.89188559e-03,  4.45804964e-01, -5.45811307e-01,\n",
       "        -1.34601809e+00, -6.76252226e-01],\n",
       "       [-9.23674793e-01, -8.77707451e-01,  5.20270419e-03,\n",
       "         1.20992460e+00, -2.26716912e-02, -7.36162675e-01,\n",
       "         5.05687126e-01,  5.16306118e-01, -3.20121164e-01,\n",
       "         7.42932064e-01,  1.47873820e+00],\n",
       "       [-8.85238982e-02,  1.13933179e+00, -2.77350625e-01,\n",
       "         1.20992460e+00,  1.86951486e+00, -7.36162675e-01,\n",
       "         2.03637965e+00, -2.89421353e-01, -1.22288173e+00,\n",
       "         7.42932064e-01,  1.47873820e+00],\n",
       "       [ 7.46626996e-01,  1.13933179e+00, -4.59369999e-01,\n",
       "        -8.26497787e-01,  1.86951486e+00, -7.36162675e-01,\n",
       "         9.41509302e-01, -8.79894853e-02,  1.31259120e-01,\n",
       "        -1.34601809e+00, -6.76252226e-01],\n",
       "       [-1.34125024e+00, -8.77707451e-01,  5.20270419e-03,\n",
       "        -8.26497787e-01, -1.57082432e+00,  1.35839541e+00,\n",
       "        -1.45019776e+00,  2.14158316e-01, -3.20121164e-01,\n",
       "         7.42932064e-01, -6.76252226e-01],\n",
       "       [-5.06099345e-01, -8.77707451e-01, -5.47204929e-01,\n",
       "        -8.26497787e-01, -2.80697130e-01, -7.36162675e-01,\n",
       "        -3.65957226e-01, -1.88705419e-01, -3.20121164e-01,\n",
       "         7.42932064e-01,  1.47873820e+00],\n",
       "       [-1.59179551e+00, -8.77707451e-01,  5.20270419e-03,\n",
       "        -8.26497787e-01,  1.86951486e+00, -7.36162675e-01,\n",
       "         9.89188559e-03, -2.08848606e-01,  1.31259120e-01,\n",
       "        -1.34601809e+00, -6.76252226e-01],\n",
       "       [-8.85238982e-02,  1.13933179e+00, -5.60962207e-01,\n",
       "        -8.26497787e-01, -1.57082432e+00, -7.36162675e-01,\n",
       "        -6.21072646e-01, -6.92285088e-01,  5.82639405e-01,\n",
       "         7.42932064e-01,  1.47873820e+00],\n",
       "       [-8.85238982e-02,  1.13933179e+00, -5.30272894e-01,\n",
       "         1.20992460e+00, -1.14078192e+00, -7.36162675e-01,\n",
       "        -7.06111119e-01,  1.12060172e+00, -9.97191591e-01,\n",
       "        -1.34601809e+00, -6.76252226e-01],\n",
       "       [ 3.29051549e-01,  1.13933179e+00, -4.91117564e-01,\n",
       "         1.20992460e+00,  1.86951486e+00,  1.35839541e+00,\n",
       "        -6.31702455e-01, -4.90853221e-01,  8.08329548e-01,\n",
       "        -1.34601809e+00, -6.76252226e-01],\n",
       "       [ 7.46626996e-01, -8.77707451e-01, -5.13340859e-01,\n",
       "        -8.26497787e-01,  1.86951486e+00,  1.35839541e+00,\n",
       "         5.80095790e-01, -5.91569154e-01,  8.08329548e-01,\n",
       "        -1.34601809e+00,  1.47873820e+00],\n",
       "       [-6.73129524e-01,  1.13933179e+00, -3.24971973e-01,\n",
       "         1.20992460e+00, -2.80697130e-01, -7.36162675e-01,\n",
       "        -3.76587035e-01,  2.02704512e+00,  1.93678026e+00,\n",
       "         7.42932064e-01, -6.76252226e-01],\n",
       "       [ 3.29051549e-01, -8.77707451e-01, -4.33971947e-01,\n",
       "        -8.26497787e-01, -7.10739527e-01, -7.36162675e-01,\n",
       "        -3.64331417e-02, -5.91569154e-01,  3.56949263e-01,\n",
       "        -1.34601809e+00, -6.76252226e-01],\n",
       "       [ 7.46626996e-01, -8.77707451e-01, -3.86350599e-01,\n",
       "         1.20992460e+00, -1.82884976e+00,  1.35839541e+00,\n",
       "         1.34544205e+00, -3.90137287e-01, -9.44310219e-02,\n",
       "         7.42932064e-01,  1.47873820e+00],\n",
       "       [ 3.29051549e-01, -8.77707451e-01,  3.33260877e-01,\n",
       "         1.20992460e+00, -2.80697130e-01, -7.36162675e-01,\n",
       "         9.89188559e-03, -2.89421353e-01,  1.25970983e+00,\n",
       "        -1.34601809e+00, -6.76252226e-01],\n",
       "       [-5.06099345e-01, -8.77707451e-01,  5.20270419e-03,\n",
       "         1.20992460e+00, -2.80697130e-01,  1.35839541e+00,\n",
       "         1.15410549e+00, -6.92285088e-01,  8.08329548e-01,\n",
       "        -1.34601809e+00, -6.76252226e-01],\n",
       "       [ 1.62021370e-01,  1.13933179e+00, -4.81593294e-01,\n",
       "         1.20992460e+00,  1.86951486e+00, -7.36162675e-01,\n",
       "         4.86053317e-02, -1.88705419e-01,  1.93678026e+00,\n",
       "         7.42932064e-01, -6.76252226e-01],\n",
       "       [ 9.13657175e-01,  1.13933179e+00,  3.87231738e-01,\n",
       "        -8.26497787e-01, -1.14078192e+00,  1.35839541e+00,\n",
       "         8.03321783e-01,  3.14874250e-01,  5.82639405e-01,\n",
       "         7.42932064e-01,  1.47873820e+00],\n",
       "       [-9.23674793e-01, -8.77707451e-01,  5.20270419e-03,\n",
       "        -8.26497787e-01,  1.00943006e+00, -7.36162675e-01,\n",
       "        -1.16319291e+00, -7.93001022e-01, -5.45811307e-01,\n",
       "        -1.34601809e+00, -6.76252226e-01],\n",
       "       [-1.72038988e-01,  1.13933179e+00, -3.14389451e-01,\n",
       "         1.20992460e+00, -1.14078192e+00,  1.35839541e+00,\n",
       "         4.20648653e-01, -3.90137287e-01,  1.03401969e+00,\n",
       "        -1.34601809e+00, -6.76252226e-01],\n",
       "       [-1.75882569e+00, -8.77707451e-01,  4.96492954e-02,\n",
       "        -8.26497787e-01, -2.80697130e-01, -7.36162675e-01,\n",
       "         4.10018843e-01, -3.90137287e-01,  1.25970983e+00,\n",
       "         7.42932064e-01,  1.47873820e+00],\n",
       "       [ 7.46626996e-01, -8.77707451e-01,  5.20270419e-03,\n",
       "         1.20992460e+00, -2.26716912e-02, -7.36162675e-01,\n",
       "        -2.52274551e+00, -2.89421353e-01,  8.08329548e-01,\n",
       "         7.42932064e-01, -6.76252226e-01],\n",
       "       [ 3.29051549e-01, -8.77707451e-01, -3.73651573e-01,\n",
       "         1.20992460e+00,  1.00943006e+00, -7.36162675e-01,\n",
       "        -1.20571215e+00, -8.79894853e-02,  1.31259120e-01,\n",
       "         7.42932064e-01,  1.47873820e+00],\n",
       "       [-5.89614435e-01, -8.77707451e-01,  5.20270419e-03,\n",
       "         1.20992460e+00, -2.26716912e-02, -7.36162675e-01,\n",
       "         1.67159042e-02,  4.15590184e-01, -5.45811307e-01,\n",
       "         7.42932064e-01, -6.76252226e-01],\n",
       "       [ 1.58177789e+00, -8.77707451e-01, -4.54078738e-01,\n",
       "         1.20992460e+00, -2.26716912e-02, -7.36162675e-01,\n",
       "        -1.20571215e+00,  5.16306118e-01,  1.71109012e+00,\n",
       "         7.42932064e-01,  1.47873820e+00],\n",
       "       [-1.00718988e+00, -8.77707451e-01,  4.17921051e-01,\n",
       "         1.20992460e+00, -2.80697130e-01,  1.35839541e+00,\n",
       "         5.92351409e-02, -5.91569154e-01, -1.44857188e+00,\n",
       "        -1.34601809e+00, -6.76252226e-01],\n",
       "       [ 9.13657175e-01, -8.77707451e-01, -2.25496269e-01,\n",
       "         1.20992460e+00, -1.57082432e+00,  1.35839541e+00,\n",
       "        -8.95821875e-02, -8.79894853e-02, -9.44310219e-02,\n",
       "         7.42932064e-01,  1.47873820e+00]])"
      ]
     },
     "execution_count": 19,
     "metadata": {},
     "output_type": "execute_result"
    }
   ],
   "source": [
    "X_test_scaled"
   ]
  },
  {
   "cell_type": "code",
   "execution_count": 20,
   "id": "0b5e946a",
   "metadata": {
    "execution": {
     "iopub.execute_input": "2024-05-20T01:22:44.978094Z",
     "iopub.status.busy": "2024-05-20T01:22:44.977659Z",
     "iopub.status.idle": "2024-05-20T01:22:45.012855Z",
     "shell.execute_reply": "2024-05-20T01:22:45.011663Z"
    },
    "papermill": {
     "duration": 0.064349,
     "end_time": "2024-05-20T01:22:45.015717",
     "exception": false,
     "start_time": "2024-05-20T01:22:44.951368",
     "status": "completed"
    },
    "tags": []
   },
   "outputs": [
    {
     "data": {
      "text/html": [
       "<style>#sk-container-id-1 {color: black;background-color: white;}#sk-container-id-1 pre{padding: 0;}#sk-container-id-1 div.sk-toggleable {background-color: white;}#sk-container-id-1 label.sk-toggleable__label {cursor: pointer;display: block;width: 100%;margin-bottom: 0;padding: 0.3em;box-sizing: border-box;text-align: center;}#sk-container-id-1 label.sk-toggleable__label-arrow:before {content: \"▸\";float: left;margin-right: 0.25em;color: #696969;}#sk-container-id-1 label.sk-toggleable__label-arrow:hover:before {color: black;}#sk-container-id-1 div.sk-estimator:hover label.sk-toggleable__label-arrow:before {color: black;}#sk-container-id-1 div.sk-toggleable__content {max-height: 0;max-width: 0;overflow: hidden;text-align: left;background-color: #f0f8ff;}#sk-container-id-1 div.sk-toggleable__content pre {margin: 0.2em;color: black;border-radius: 0.25em;background-color: #f0f8ff;}#sk-container-id-1 input.sk-toggleable__control:checked~div.sk-toggleable__content {max-height: 200px;max-width: 100%;overflow: auto;}#sk-container-id-1 input.sk-toggleable__control:checked~label.sk-toggleable__label-arrow:before {content: \"▾\";}#sk-container-id-1 div.sk-estimator input.sk-toggleable__control:checked~label.sk-toggleable__label {background-color: #d4ebff;}#sk-container-id-1 div.sk-label input.sk-toggleable__control:checked~label.sk-toggleable__label {background-color: #d4ebff;}#sk-container-id-1 input.sk-hidden--visually {border: 0;clip: rect(1px 1px 1px 1px);clip: rect(1px, 1px, 1px, 1px);height: 1px;margin: -1px;overflow: hidden;padding: 0;position: absolute;width: 1px;}#sk-container-id-1 div.sk-estimator {font-family: monospace;background-color: #f0f8ff;border: 1px dotted black;border-radius: 0.25em;box-sizing: border-box;margin-bottom: 0.5em;}#sk-container-id-1 div.sk-estimator:hover {background-color: #d4ebff;}#sk-container-id-1 div.sk-parallel-item::after {content: \"\";width: 100%;border-bottom: 1px solid gray;flex-grow: 1;}#sk-container-id-1 div.sk-label:hover label.sk-toggleable__label {background-color: #d4ebff;}#sk-container-id-1 div.sk-serial::before {content: \"\";position: absolute;border-left: 1px solid gray;box-sizing: border-box;top: 0;bottom: 0;left: 50%;z-index: 0;}#sk-container-id-1 div.sk-serial {display: flex;flex-direction: column;align-items: center;background-color: white;padding-right: 0.2em;padding-left: 0.2em;position: relative;}#sk-container-id-1 div.sk-item {position: relative;z-index: 1;}#sk-container-id-1 div.sk-parallel {display: flex;align-items: stretch;justify-content: center;background-color: white;position: relative;}#sk-container-id-1 div.sk-item::before, #sk-container-id-1 div.sk-parallel-item::before {content: \"\";position: absolute;border-left: 1px solid gray;box-sizing: border-box;top: 0;bottom: 0;left: 50%;z-index: -1;}#sk-container-id-1 div.sk-parallel-item {display: flex;flex-direction: column;z-index: 1;position: relative;background-color: white;}#sk-container-id-1 div.sk-parallel-item:first-child::after {align-self: flex-end;width: 50%;}#sk-container-id-1 div.sk-parallel-item:last-child::after {align-self: flex-start;width: 50%;}#sk-container-id-1 div.sk-parallel-item:only-child::after {width: 0;}#sk-container-id-1 div.sk-dashed-wrapped {border: 1px dashed gray;margin: 0 0.4em 0.5em 0.4em;box-sizing: border-box;padding-bottom: 0.4em;background-color: white;}#sk-container-id-1 div.sk-label label {font-family: monospace;font-weight: bold;display: inline-block;line-height: 1.2em;}#sk-container-id-1 div.sk-label-container {text-align: center;}#sk-container-id-1 div.sk-container {/* jupyter's `normalize.less` sets `[hidden] { display: none; }` but bootstrap.min.css set `[hidden] { display: none !important; }` so we also need the `!important` here to be able to override the default hidden behavior on the sphinx rendered scikit-learn.org. See: https://github.com/scikit-learn/scikit-learn/issues/21755 */display: inline-block !important;position: relative;}#sk-container-id-1 div.sk-text-repr-fallback {display: none;}</style><div id=\"sk-container-id-1\" class=\"sk-top-container\"><div class=\"sk-text-repr-fallback\"><pre>RFE(estimator=LogisticRegression(max_iter=1000), n_features_to_select=8)</pre><b>In a Jupyter environment, please rerun this cell to show the HTML representation or trust the notebook. <br />On GitHub, the HTML representation is unable to render, please try loading this page with nbviewer.org.</b></div><div class=\"sk-container\" hidden><div class=\"sk-item sk-dashed-wrapped\"><div class=\"sk-label-container\"><div class=\"sk-label sk-toggleable\"><input class=\"sk-toggleable__control sk-hidden--visually\" id=\"sk-estimator-id-1\" type=\"checkbox\" ><label for=\"sk-estimator-id-1\" class=\"sk-toggleable__label sk-toggleable__label-arrow\">RFE</label><div class=\"sk-toggleable__content\"><pre>RFE(estimator=LogisticRegression(max_iter=1000), n_features_to_select=8)</pre></div></div></div><div class=\"sk-parallel\"><div class=\"sk-parallel-item\"><div class=\"sk-item\"><div class=\"sk-label-container\"><div class=\"sk-label sk-toggleable\"><input class=\"sk-toggleable__control sk-hidden--visually\" id=\"sk-estimator-id-2\" type=\"checkbox\" ><label for=\"sk-estimator-id-2\" class=\"sk-toggleable__label sk-toggleable__label-arrow\">estimator: LogisticRegression</label><div class=\"sk-toggleable__content\"><pre>LogisticRegression(max_iter=1000)</pre></div></div></div><div class=\"sk-serial\"><div class=\"sk-item\"><div class=\"sk-estimator sk-toggleable\"><input class=\"sk-toggleable__control sk-hidden--visually\" id=\"sk-estimator-id-3\" type=\"checkbox\" ><label for=\"sk-estimator-id-3\" class=\"sk-toggleable__label sk-toggleable__label-arrow\">LogisticRegression</label><div class=\"sk-toggleable__content\"><pre>LogisticRegression(max_iter=1000)</pre></div></div></div></div></div></div></div></div></div></div>"
      ],
      "text/plain": [
       "RFE(estimator=LogisticRegression(max_iter=1000), n_features_to_select=8)"
      ]
     },
     "execution_count": 20,
     "metadata": {},
     "output_type": "execute_result"
    }
   ],
   "source": [
    "# Feature selection using RFE\n",
    "log_reg = LogisticRegression(max_iter=1000)\n",
    "rfe = RFE(log_reg, n_features_to_select=8)\n",
    "rfe.fit(X_train_scaled, y_train)"
   ]
  },
  {
   "cell_type": "code",
   "execution_count": 21,
   "id": "29799dff",
   "metadata": {
    "execution": {
     "iopub.execute_input": "2024-05-20T01:22:45.062086Z",
     "iopub.status.busy": "2024-05-20T01:22:45.061649Z",
     "iopub.status.idle": "2024-05-20T01:22:45.068176Z",
     "shell.execute_reply": "2024-05-20T01:22:45.066907Z"
    },
    "papermill": {
     "duration": 0.032931,
     "end_time": "2024-05-20T01:22:45.070898",
     "exception": false,
     "start_time": "2024-05-20T01:22:45.037967",
     "status": "completed"
    },
    "tags": []
   },
   "outputs": [],
   "source": [
    "# Transforming the data with selected features\n",
    "X_train_rfe = rfe.transform(X_train_scaled)\n",
    "X_test_rfe = rfe.transform(X_test_scaled)"
   ]
  },
  {
   "cell_type": "code",
   "execution_count": 22,
   "id": "56482371",
   "metadata": {
    "execution": {
     "iopub.execute_input": "2024-05-20T01:22:45.117016Z",
     "iopub.status.busy": "2024-05-20T01:22:45.116548Z",
     "iopub.status.idle": "2024-05-20T01:22:45.125220Z",
     "shell.execute_reply": "2024-05-20T01:22:45.123946Z"
    },
    "papermill": {
     "duration": 0.034893,
     "end_time": "2024-05-20T01:22:45.127951",
     "exception": false,
     "start_time": "2024-05-20T01:22:45.093058",
     "status": "completed"
    },
    "tags": []
   },
   "outputs": [
    {
     "data": {
      "text/plain": [
       "array([[ 1.16420244,  1.13933179, -0.35037003, ..., -0.18870542,\n",
       "         0.13125912,  0.74293206],\n",
       "       [ 1.16420244, -0.87770745, -0.50593309, ...,  1.12060172,\n",
       "        -0.54581131,  0.74293206],\n",
       "       [-0.03281933,  1.13933179, -0.50064183, ...,  0.11344238,\n",
       "        -0.09443102,  0.74293206],\n",
       "       ...,\n",
       "       [-0.50609935, -0.87770745,  0.18087256, ..., -0.08798949,\n",
       "         0.13125912,  0.74293206],\n",
       "       [-1.42476533, -0.87770745,  0.0052027 , ...,  0.21415832,\n",
       "        -1.44857188,  0.74293206],\n",
       "       [ 1.58177789, -0.87770745,  0.33961039, ..., -0.28942135,\n",
       "         1.71109012,  0.74293206]])"
      ]
     },
     "execution_count": 22,
     "metadata": {},
     "output_type": "execute_result"
    }
   ],
   "source": [
    "X_train_rfe"
   ]
  },
  {
   "cell_type": "code",
   "execution_count": 23,
   "id": "41ce962e",
   "metadata": {
    "execution": {
     "iopub.execute_input": "2024-05-20T01:22:45.174183Z",
     "iopub.status.busy": "2024-05-20T01:22:45.173752Z",
     "iopub.status.idle": "2024-05-20T01:22:45.189030Z",
     "shell.execute_reply": "2024-05-20T01:22:45.187836Z"
    },
    "papermill": {
     "duration": 0.042097,
     "end_time": "2024-05-20T01:22:45.192276",
     "exception": false,
     "start_time": "2024-05-20T01:22:45.150179",
     "status": "completed"
    },
    "tags": []
   },
   "outputs": [
    {
     "data": {
      "text/plain": [
       "array([[ 7.46626996e-01, -8.77707451e-01,  5.20270419e-03,\n",
       "         1.49345268e-01, -7.36162675e-01,  1.32203359e+00,\n",
       "        -9.44310219e-02,  7.42932064e-01],\n",
       "       [-9.23674793e-01,  1.13933179e+00, -2.95340912e-01,\n",
       "        -2.80697130e-01, -7.36162675e-01, -4.90853221e-01,\n",
       "         8.08329548e-01,  7.42932064e-01],\n",
       "       [-1.34125024e+00, -8.77707451e-01,  1.97355174e+00,\n",
       "        -7.10739527e-01, -7.36162675e-01, -2.89421353e-01,\n",
       "         5.82639405e-01,  7.42932064e-01],\n",
       "       [ 1.58177789e+00,  1.13933179e+00, -4.80535042e-01,\n",
       "        -2.80697130e-01,  1.35839541e+00,  8.07000115e+00,\n",
       "        -7.71501449e-01,  7.42932064e-01],\n",
       "       [-1.59179551e+00, -8.77707451e-01, -5.02758338e-01,\n",
       "         1.49345268e-01, -7.36162675e-01, -1.88705419e-01,\n",
       "         8.08329548e-01,  7.42932064e-01],\n",
       "       [-9.23674793e-01,  1.13933179e+00,  5.01522972e-01,\n",
       "        -7.10739527e-01, -7.36162675e-01, -6.92285088e-01,\n",
       "        -9.44310219e-02, -1.34601809e+00],\n",
       "       [-8.85238982e-02,  1.13933179e+00, -4.47729225e-01,\n",
       "        -1.14078192e+00, -7.36162675e-01,  3.14874250e-01,\n",
       "        -3.20121164e-01,  7.42932064e-01],\n",
       "       [-1.34125024e+00, -8.77707451e-01, -3.01690425e-01,\n",
       "        -2.80697130e-01, -7.36162675e-01, -8.79894853e-02,\n",
       "         1.25970983e+00,  7.42932064e-01],\n",
       "       [ 2.41692879e+00,  1.13933179e+00, -5.60962207e-01,\n",
       "         1.49345268e-01,  1.35839541e+00,  7.17737985e-01,\n",
       "        -9.97191591e-01,  7.42932064e-01],\n",
       "       [-9.23674793e-01,  1.13933179e+00, -4.89001060e-01,\n",
       "        -1.57082432e+00, -7.36162675e-01, -5.91569154e-01,\n",
       "         5.82639405e-01,  7.42932064e-01],\n",
       "       [ 7.46626996e-01,  1.13933179e+00, -5.48263181e-01,\n",
       "         1.86951486e+00, -7.36162675e-01, -2.89421353e-01,\n",
       "        -9.44310219e-02, -1.34601809e+00],\n",
       "       [ 1.33123262e+00,  1.13933179e+00, -1.68350652e-01,\n",
       "         5.79387665e-01, -7.36162675e-01,  4.15590184e-01,\n",
       "         1.93678026e+00,  7.42932064e-01],\n",
       "       [-2.55554077e-01,  1.13933179e+00, -4.57253494e-01,\n",
       "        -1.14078192e+00, -7.36162675e-01, -1.88705419e-01,\n",
       "         1.31259120e-01,  7.42932064e-01],\n",
       "       [ 3.29051549e-01,  1.13933179e+00, -2.56185582e-01,\n",
       "        -2.80697130e-01,  1.35839541e+00, -5.91569154e-01,\n",
       "        -9.44310219e-02, -1.34601809e+00],\n",
       "       [-8.85238982e-02,  1.13933179e+00,  3.16590085e-02,\n",
       "         1.49345268e-01, -7.36162675e-01, -7.93001022e-01,\n",
       "         3.56949263e-01,  7.42932064e-01],\n",
       "       [-1.34125024e+00, -8.77707451e-01,  7.53995816e+00,\n",
       "        -1.14078192e+00,  1.35839541e+00, -3.90137287e-01,\n",
       "         5.82639405e-01,  7.42932064e-01],\n",
       "       [ 2.45536460e-01, -8.77707451e-01,  1.09308594e+00,\n",
       "         1.86951486e+00, -7.36162675e-01, -3.90137287e-01,\n",
       "         1.31259120e-01,  7.42932064e-01],\n",
       "       [ 1.62021370e-01, -8.77707451e-01,  3.79823973e-01,\n",
       "        -2.26716912e-02, -7.36162675e-01, -2.89421353e-01,\n",
       "        -7.71501449e-01,  7.42932064e-01],\n",
       "       [-1.34125024e+00, -8.77707451e-01,  5.20270419e-03,\n",
       "        -2.80697130e-01, -7.36162675e-01, -3.90137287e-01,\n",
       "         1.93678026e+00,  7.42932064e-01],\n",
       "       [ 1.58177789e+00, -8.77707451e-01,  2.41192938e-01,\n",
       "        -2.26716912e-02, -7.36162675e-01, -2.89421353e-01,\n",
       "        -5.45811307e-01,  7.42932064e-01],\n",
       "       [-8.85238982e-02,  1.13933179e+00, -3.66243808e-01,\n",
       "        -1.14078192e+00, -7.36162675e-01,  3.14874250e-01,\n",
       "         8.08329548e-01,  7.42932064e-01],\n",
       "       [-8.85238982e-02, -8.77707451e-01, -5.54612694e-01,\n",
       "         1.00943006e+00,  1.35839541e+00,  9.19169853e-01,\n",
       "         1.48539997e+00, -1.34601809e+00],\n",
       "       [ 2.45536460e-01, -8.77707451e-01, -4.59369999e-01,\n",
       "        -1.14078192e+00, -7.36162675e-01,  1.01988579e+00,\n",
       "        -3.20121164e-01,  7.42932064e-01],\n",
       "       [-8.40159703e-01, -8.77707451e-01,  8.49687936e-01,\n",
       "        -1.14078192e+00,  1.35839541e+00, -4.90853221e-01,\n",
       "        -1.44857188e+00,  7.42932064e-01],\n",
       "       [ 7.46626996e-01, -8.77707451e-01, -6.43806969e-03,\n",
       "         5.79387665e-01,  1.35839541e+00, -1.88705419e-01,\n",
       "         5.82639405e-01,  7.42932064e-01],\n",
       "       [-1.34125024e+00, -8.77707451e-01,  5.20270419e-03,\n",
       "        -2.26716912e-02,  1.35839541e+00, -5.91569154e-01,\n",
       "         1.31259120e-01, -1.34601809e+00],\n",
       "       [ 7.46626996e-01, -8.77707451e-01,  2.24128954e+00,\n",
       "         1.49345268e-01, -7.36162675e-01, -3.90137287e-01,\n",
       "         1.31259120e-01,  7.42932064e-01],\n",
       "       [-8.85238982e-02,  1.13933179e+00, -5.09107851e-01,\n",
       "         1.86951486e+00,  1.35839541e+00, -6.92285088e-01,\n",
       "        -9.44310219e-02, -1.34601809e+00],\n",
       "       [-1.09070497e+00,  1.13933179e+00, -4.72069025e-01,\n",
       "        -7.10739527e-01,  1.35839541e+00,  2.14158316e-01,\n",
       "        -1.44857188e+00, -1.34601809e+00],\n",
       "       [ 1.16420244e+00, -8.77707451e-01, -4.84768051e-01,\n",
       "         1.00943006e+00,  1.35839541e+00, -2.89421353e-01,\n",
       "         2.61385069e+00,  7.42932064e-01],\n",
       "       [-1.34125024e+00, -8.77707451e-01,  5.20270419e-03,\n",
       "        -2.08687520e+00, -7.36162675e-01, -5.91569154e-01,\n",
       "        -2.12564230e+00,  7.42932064e-01],\n",
       "       [-5.06099345e-01,  1.13933179e+00, -4.20214668e-01,\n",
       "         5.79387665e-01, -7.36162675e-01, -2.08848606e-01,\n",
       "         1.31259120e-01,  7.42932064e-01],\n",
       "       [-9.23674793e-01,  1.13933179e+00, -4.42437964e-01,\n",
       "        -7.10739527e-01, -7.36162675e-01, -1.88705419e-01,\n",
       "         3.56949263e-01, -1.34601809e+00],\n",
       "       [ 1.16420244e+00, -8.77707451e-01,  5.20270419e-03,\n",
       "        -7.10739527e-01,  1.35839541e+00,  4.45804964e-01,\n",
       "        -5.45811307e-01, -1.34601809e+00],\n",
       "       [-9.23674793e-01, -8.77707451e-01,  5.20270419e-03,\n",
       "        -2.26716912e-02, -7.36162675e-01,  5.16306118e-01,\n",
       "        -3.20121164e-01,  7.42932064e-01],\n",
       "       [-8.85238982e-02,  1.13933179e+00, -2.77350625e-01,\n",
       "         1.86951486e+00, -7.36162675e-01, -2.89421353e-01,\n",
       "        -1.22288173e+00,  7.42932064e-01],\n",
       "       [ 7.46626996e-01,  1.13933179e+00, -4.59369999e-01,\n",
       "         1.86951486e+00, -7.36162675e-01, -8.79894853e-02,\n",
       "         1.31259120e-01, -1.34601809e+00],\n",
       "       [-1.34125024e+00, -8.77707451e-01,  5.20270419e-03,\n",
       "        -1.57082432e+00,  1.35839541e+00,  2.14158316e-01,\n",
       "        -3.20121164e-01,  7.42932064e-01],\n",
       "       [-5.06099345e-01, -8.77707451e-01, -5.47204929e-01,\n",
       "        -2.80697130e-01, -7.36162675e-01, -1.88705419e-01,\n",
       "        -3.20121164e-01,  7.42932064e-01],\n",
       "       [-1.59179551e+00, -8.77707451e-01,  5.20270419e-03,\n",
       "         1.86951486e+00, -7.36162675e-01, -2.08848606e-01,\n",
       "         1.31259120e-01, -1.34601809e+00],\n",
       "       [-8.85238982e-02,  1.13933179e+00, -5.60962207e-01,\n",
       "        -1.57082432e+00, -7.36162675e-01, -6.92285088e-01,\n",
       "         5.82639405e-01,  7.42932064e-01],\n",
       "       [-8.85238982e-02,  1.13933179e+00, -5.30272894e-01,\n",
       "        -1.14078192e+00, -7.36162675e-01,  1.12060172e+00,\n",
       "        -9.97191591e-01, -1.34601809e+00],\n",
       "       [ 3.29051549e-01,  1.13933179e+00, -4.91117564e-01,\n",
       "         1.86951486e+00,  1.35839541e+00, -4.90853221e-01,\n",
       "         8.08329548e-01, -1.34601809e+00],\n",
       "       [ 7.46626996e-01, -8.77707451e-01, -5.13340859e-01,\n",
       "         1.86951486e+00,  1.35839541e+00, -5.91569154e-01,\n",
       "         8.08329548e-01, -1.34601809e+00],\n",
       "       [-6.73129524e-01,  1.13933179e+00, -3.24971973e-01,\n",
       "        -2.80697130e-01, -7.36162675e-01,  2.02704512e+00,\n",
       "         1.93678026e+00,  7.42932064e-01],\n",
       "       [ 3.29051549e-01, -8.77707451e-01, -4.33971947e-01,\n",
       "        -7.10739527e-01, -7.36162675e-01, -5.91569154e-01,\n",
       "         3.56949263e-01, -1.34601809e+00],\n",
       "       [ 7.46626996e-01, -8.77707451e-01, -3.86350599e-01,\n",
       "        -1.82884976e+00,  1.35839541e+00, -3.90137287e-01,\n",
       "        -9.44310219e-02,  7.42932064e-01],\n",
       "       [ 3.29051549e-01, -8.77707451e-01,  3.33260877e-01,\n",
       "        -2.80697130e-01, -7.36162675e-01, -2.89421353e-01,\n",
       "         1.25970983e+00, -1.34601809e+00],\n",
       "       [-5.06099345e-01, -8.77707451e-01,  5.20270419e-03,\n",
       "        -2.80697130e-01,  1.35839541e+00, -6.92285088e-01,\n",
       "         8.08329548e-01, -1.34601809e+00],\n",
       "       [ 1.62021370e-01,  1.13933179e+00, -4.81593294e-01,\n",
       "         1.86951486e+00, -7.36162675e-01, -1.88705419e-01,\n",
       "         1.93678026e+00,  7.42932064e-01],\n",
       "       [ 9.13657175e-01,  1.13933179e+00,  3.87231738e-01,\n",
       "        -1.14078192e+00,  1.35839541e+00,  3.14874250e-01,\n",
       "         5.82639405e-01,  7.42932064e-01],\n",
       "       [-9.23674793e-01, -8.77707451e-01,  5.20270419e-03,\n",
       "         1.00943006e+00, -7.36162675e-01, -7.93001022e-01,\n",
       "        -5.45811307e-01, -1.34601809e+00],\n",
       "       [-1.72038988e-01,  1.13933179e+00, -3.14389451e-01,\n",
       "        -1.14078192e+00,  1.35839541e+00, -3.90137287e-01,\n",
       "         1.03401969e+00, -1.34601809e+00],\n",
       "       [-1.75882569e+00, -8.77707451e-01,  4.96492954e-02,\n",
       "        -2.80697130e-01, -7.36162675e-01, -3.90137287e-01,\n",
       "         1.25970983e+00,  7.42932064e-01],\n",
       "       [ 7.46626996e-01, -8.77707451e-01,  5.20270419e-03,\n",
       "        -2.26716912e-02, -7.36162675e-01, -2.89421353e-01,\n",
       "         8.08329548e-01,  7.42932064e-01],\n",
       "       [ 3.29051549e-01, -8.77707451e-01, -3.73651573e-01,\n",
       "         1.00943006e+00, -7.36162675e-01, -8.79894853e-02,\n",
       "         1.31259120e-01,  7.42932064e-01],\n",
       "       [-5.89614435e-01, -8.77707451e-01,  5.20270419e-03,\n",
       "        -2.26716912e-02, -7.36162675e-01,  4.15590184e-01,\n",
       "        -5.45811307e-01,  7.42932064e-01],\n",
       "       [ 1.58177789e+00, -8.77707451e-01, -4.54078738e-01,\n",
       "        -2.26716912e-02, -7.36162675e-01,  5.16306118e-01,\n",
       "         1.71109012e+00,  7.42932064e-01],\n",
       "       [-1.00718988e+00, -8.77707451e-01,  4.17921051e-01,\n",
       "        -2.80697130e-01,  1.35839541e+00, -5.91569154e-01,\n",
       "        -1.44857188e+00, -1.34601809e+00],\n",
       "       [ 9.13657175e-01, -8.77707451e-01, -2.25496269e-01,\n",
       "        -1.57082432e+00,  1.35839541e+00, -8.79894853e-02,\n",
       "        -9.44310219e-02,  7.42932064e-01]])"
      ]
     },
     "execution_count": 23,
     "metadata": {},
     "output_type": "execute_result"
    }
   ],
   "source": [
    "X_test_rfe"
   ]
  },
  {
   "cell_type": "markdown",
   "id": "47e024f2",
   "metadata": {
    "papermill": {
     "duration": 0.022705,
     "end_time": "2024-05-20T01:22:45.238040",
     "exception": false,
     "start_time": "2024-05-20T01:22:45.215335",
     "status": "completed"
    },
    "tags": []
   },
   "source": [
    "# Step 4: Model Selection"
   ]
  },
  {
   "cell_type": "markdown",
   "id": "1792de44",
   "metadata": {
    "papermill": {
     "duration": 0.022639,
     "end_time": "2024-05-20T01:22:45.283698",
     "exception": false,
     "start_time": "2024-05-20T01:22:45.261059",
     "status": "completed"
    },
    "tags": []
   },
   "source": [
    "#### In Step 4, our code performs model selection by iterating over different classifiers, setting up a pipeline for each classifier, defining hyperparameters grids, performing grid search, evaluating the best model, and updating the best model and its metrics. The evaluation metrics for each classifier are printed"
   ]
  },
  {
   "cell_type": "code",
   "execution_count": 24,
   "id": "d9e13dd5",
   "metadata": {
    "execution": {
     "iopub.execute_input": "2024-05-20T01:22:45.337214Z",
     "iopub.status.busy": "2024-05-20T01:22:45.336615Z",
     "iopub.status.idle": "2024-05-20T01:22:45.344455Z",
     "shell.execute_reply": "2024-05-20T01:22:45.342895Z"
    },
    "papermill": {
     "duration": 0.041332,
     "end_time": "2024-05-20T01:22:45.347794",
     "exception": false,
     "start_time": "2024-05-20T01:22:45.306462",
     "status": "completed"
    },
    "tags": []
   },
   "outputs": [],
   "source": [
    "# Define classifiers\n",
    "classifiers = {\n",
    "    \"Logistic Regression\": LogisticRegression(),\n",
    "    \"Decision Tree\": DecisionTreeClassifier(),\n",
    "    \"Random Forest\": RandomForestClassifier(),\n",
    "    \"Gradient Boosting\": GradientBoostingClassifier(),\n",
    "    \"Support Vector Machine\": SVC(),\n",
    "    \"K-Nearest Neighbors\": KNeighborsClassifier(),\n",
    "    \"Naive Bayes\": GaussianNB(),\n",
    "    \"Multi-layer Perceptron\": MLPClassifier(),\n",
    "}"
   ]
  },
  {
   "cell_type": "code",
   "execution_count": 25,
   "id": "04660e19",
   "metadata": {
    "execution": {
     "iopub.execute_input": "2024-05-20T01:22:45.401368Z",
     "iopub.status.busy": "2024-05-20T01:22:45.400792Z",
     "iopub.status.idle": "2024-05-20T01:22:45.407149Z",
     "shell.execute_reply": "2024-05-20T01:22:45.405744Z"
    },
    "papermill": {
     "duration": 0.034737,
     "end_time": "2024-05-20T01:22:45.409800",
     "exception": false,
     "start_time": "2024-05-20T01:22:45.375063",
     "status": "completed"
    },
    "tags": []
   },
   "outputs": [],
   "source": [
    "# Define evaluation metrics\n",
    "metrics = {'accuracy': accuracy_score, 'precision': precision_score, 'recall': recall_score, 'f1': f1_score}"
   ]
  },
  {
   "cell_type": "code",
   "execution_count": 26,
   "id": "c766a862",
   "metadata": {
    "execution": {
     "iopub.execute_input": "2024-05-20T01:22:45.459350Z",
     "iopub.status.busy": "2024-05-20T01:22:45.458931Z",
     "iopub.status.idle": "2024-05-20T01:22:45.464585Z",
     "shell.execute_reply": "2024-05-20T01:22:45.463460Z"
    },
    "papermill": {
     "duration": 0.032635,
     "end_time": "2024-05-20T01:22:45.467198",
     "exception": false,
     "start_time": "2024-05-20T01:22:45.434563",
     "status": "completed"
    },
    "tags": []
   },
   "outputs": [],
   "source": [
    "# Initialize variables to store best model and its evaluation metrics\n",
    "best_model = None\n",
    "best_metrics = {metric: 0 for metric in metrics}"
   ]
  },
  {
   "cell_type": "code",
   "execution_count": 27,
   "id": "b6db2094",
   "metadata": {
    "execution": {
     "iopub.execute_input": "2024-05-20T01:22:45.516595Z",
     "iopub.status.busy": "2024-05-20T01:22:45.516174Z",
     "iopub.status.idle": "2024-05-20T01:24:03.941208Z",
     "shell.execute_reply": "2024-05-20T01:24:03.939838Z"
    },
    "papermill": {
     "duration": 78.454648,
     "end_time": "2024-05-20T01:24:03.945210",
     "exception": false,
     "start_time": "2024-05-20T01:22:45.490562",
     "status": "completed"
    },
    "tags": []
   },
   "outputs": [
    {
     "name": "stdout",
     "output_type": "stream",
     "text": [
      "\n",
      "Classifier: Logistic Regression\n",
      "Accuracy: 0.6667\n",
      "Precision: 0.8571\n",
      "Recall: 0.2400\n",
      "F1: 0.3750\n",
      "\n",
      "Classifier: Decision Tree\n",
      "Accuracy: 0.7167\n",
      "Precision: 0.7500\n",
      "Recall: 0.4800\n",
      "F1: 0.5854\n",
      "\n",
      "Classifier: Random Forest\n",
      "Accuracy: 0.6667\n",
      "Precision: 0.6667\n",
      "Recall: 0.4000\n",
      "F1: 0.5000\n",
      "\n",
      "Classifier: Gradient Boosting\n",
      "Accuracy: 0.7167\n",
      "Precision: 0.8333\n",
      "Recall: 0.4000\n",
      "F1: 0.5405\n",
      "\n",
      "Classifier: Support Vector Machine\n",
      "Accuracy: 0.7000\n",
      "Precision: 0.7692\n",
      "Recall: 0.4000\n",
      "F1: 0.5263\n",
      "\n",
      "Classifier: K-Nearest Neighbors\n",
      "Accuracy: 0.6667\n",
      "Precision: 0.8571\n",
      "Recall: 0.2400\n",
      "F1: 0.3750\n",
      "\n",
      "Classifier: Naive Bayes\n",
      "Accuracy: 0.6333\n",
      "Precision: 0.7143\n",
      "Recall: 0.2000\n",
      "F1: 0.3125\n"
     ]
    },
    {
     "name": "stderr",
     "output_type": "stream",
     "text": [
      "/opt/conda/lib/python3.10/site-packages/sklearn/neural_network/_multilayer_perceptron.py:686: ConvergenceWarning: Stochastic Optimizer: Maximum iterations (200) reached and the optimization hasn't converged yet.\n",
      "  warnings.warn(\n",
      "/opt/conda/lib/python3.10/site-packages/sklearn/neural_network/_multilayer_perceptron.py:686: ConvergenceWarning: Stochastic Optimizer: Maximum iterations (200) reached and the optimization hasn't converged yet.\n",
      "  warnings.warn(\n",
      "/opt/conda/lib/python3.10/site-packages/sklearn/neural_network/_multilayer_perceptron.py:686: ConvergenceWarning: Stochastic Optimizer: Maximum iterations (200) reached and the optimization hasn't converged yet.\n",
      "  warnings.warn(\n",
      "/opt/conda/lib/python3.10/site-packages/sklearn/neural_network/_multilayer_perceptron.py:686: ConvergenceWarning: Stochastic Optimizer: Maximum iterations (200) reached and the optimization hasn't converged yet.\n",
      "  warnings.warn(\n",
      "/opt/conda/lib/python3.10/site-packages/sklearn/neural_network/_multilayer_perceptron.py:686: ConvergenceWarning: Stochastic Optimizer: Maximum iterations (200) reached and the optimization hasn't converged yet.\n",
      "  warnings.warn(\n"
     ]
    },
    {
     "name": "stdout",
     "output_type": "stream",
     "text": [
      "\n",
      "Classifier: Multi-layer Perceptron\n",
      "Accuracy: 0.7167\n",
      "Precision: 0.7857\n",
      "Recall: 0.4400\n",
      "F1: 0.5641\n"
     ]
    }
   ],
   "source": [
    "# Ignore specific warnings using the filterwarnings function\n",
    "warnings.filterwarnings(\"ignore\", category=FutureWarning)\n",
    "# Iterate over each classifier\n",
    "for name, classifier in classifiers.items():\n",
    "    if name != 'LightGBM':  # Skip LightGBM classifier\n",
    "        # Filter specific warnings for each classifier\n",
    "        with warnings.catch_warnings():\n",
    "            warnings.filterwarnings(\"ignore\", category=Warning)\n",
    "            \n",
    "            # Define preprocessing and classifier pipeline\n",
    "            pipeline = Pipeline([\n",
    "                ('scaler', StandardScaler()),\n",
    "                ('classifier', classifier)\n",
    "            ])\n",
    "\n",
    "            # Define hyperparameters grid for GridSearchCV\n",
    "            if name in ['Random Forest']:\n",
    "                param_grid = {\n",
    "                    'classifier__n_estimators': [50, 100, 200],\n",
    "                    'classifier__max_depth': [None, 10, 20, 30],\n",
    "                    'classifier__min_samples_split': [2, 5, 10],\n",
    "                    'classifier__min_samples_leaf': [1, 2, 4],\n",
    "                    'classifier__max_features': ['sqrt']  # Set max_features explicitly to 'sqrt'\n",
    "                }\n",
    "            elif name in ['Gradient Boosting', 'XGBoost']:\n",
    "                param_grid = {\n",
    "                    'classifier__n_estimators': [50, 100, 200],\n",
    "                    'classifier__learning_rate': [0.01, 0.1, 0.5],\n",
    "                    'classifier__max_depth': [3, 5, 7]\n",
    "                }\n",
    "            elif name == 'Logistic Regression':\n",
    "                param_grid = {\n",
    "                    'classifier__C': [0.1, 1, 10],\n",
    "                    'classifier__penalty': ['l1', 'l2']\n",
    "                }\n",
    "            elif name == 'Decision Tree':\n",
    "                param_grid = {\n",
    "                    'classifier__max_depth': [None, 10, 20, 30],\n",
    "                    'classifier__min_samples_split': [2, 5, 10],\n",
    "                    'classifier__min_samples_leaf': [1, 2, 4]\n",
    "                }\n",
    "            else:\n",
    "                param_grid = {}\n",
    "\n",
    "            # Perform grid search with cross-validation\n",
    "            grid_search = GridSearchCV(pipeline, param_grid, cv=5, n_jobs=-1, verbose=0)  # Set verbose to 0\n",
    "            grid_search.fit(X_train, y_train)\n",
    "\n",
    "            # Evaluate the best model\n",
    "            best_estimator = grid_search.best_estimator_\n",
    "            y_pred = best_estimator.predict(X_test)\n",
    "\n",
    "            # Calculate evaluation metrics\n",
    "            metrics_values = {}\n",
    "            for metric, func in metrics.items():\n",
    "                metrics_values[metric] = func(y_test, y_pred)\n",
    "\n",
    "            # Print evaluation metrics\n",
    "            print(f\"\\nClassifier: {name}\")\n",
    "            for metric, value in metrics_values.items():\n",
    "                print(f\"{metric.capitalize()}: {value:.4f}\")\n",
    "\n",
    "            # Update best model if current model has higher accuracy\n",
    "            if metrics_values['accuracy'] > best_metrics['accuracy']:\n",
    "                best_model = best_estimator\n",
    "                best_metrics = metrics_values\n",
    "# Reset the warnings filter to its default state\n",
    "warnings.filterwarnings(\"default\")"
   ]
  },
  {
   "cell_type": "markdown",
   "id": "312db2a2",
   "metadata": {
    "papermill": {
     "duration": 0.023383,
     "end_time": "2024-05-20T01:24:04.088049",
     "exception": false,
     "start_time": "2024-05-20T01:24:04.064666",
     "status": "completed"
    },
    "tags": []
   },
   "source": [
    "# Step 5: Visualisation"
   ]
  },
  {
   "cell_type": "code",
   "execution_count": 28,
   "id": "b317ec4d",
   "metadata": {
    "execution": {
     "iopub.execute_input": "2024-05-20T01:24:04.139369Z",
     "iopub.status.busy": "2024-05-20T01:24:04.138060Z",
     "iopub.status.idle": "2024-05-20T01:24:04.144672Z",
     "shell.execute_reply": "2024-05-20T01:24:04.143220Z"
    },
    "papermill": {
     "duration": 0.036122,
     "end_time": "2024-05-20T01:24:04.148106",
     "exception": false,
     "start_time": "2024-05-20T01:24:04.111984",
     "status": "completed"
    },
    "tags": []
   },
   "outputs": [],
   "source": [
    "# Suppress specific warnings\n",
    "warnings.filterwarnings(\"ignore\", category=DeprecationWarning)"
   ]
  },
  {
   "cell_type": "code",
   "execution_count": 29,
   "id": "aa959dfa",
   "metadata": {
    "execution": {
     "iopub.execute_input": "2024-05-20T01:24:04.197989Z",
     "iopub.status.busy": "2024-05-20T01:24:04.197566Z",
     "iopub.status.idle": "2024-05-20T01:24:04.570131Z",
     "shell.execute_reply": "2024-05-20T01:24:04.568132Z"
    },
    "papermill": {
     "duration": 0.401546,
     "end_time": "2024-05-20T01:24:04.573451",
     "exception": false,
     "start_time": "2024-05-20T01:24:04.171905",
     "status": "completed"
    },
    "tags": []
   },
   "outputs": [
    {
     "data": {
      "image/png": "[encoded data removed]",
      "text/plain": [
       "<Figure size 800x600 with 1 Axes>"
      ]
     },
     "metadata": {},
     "output_type": "display_data"
    }
   ],
   "source": [
    "# ROC Curve\n",
    "y_prob = best_model.predict_proba(X_test)[:, 1]\n",
    "fpr, tpr, _ = roc_curve(y_test, y_prob)\n",
    "plt.figure(figsize=(8, 6))\n",
    "plt.plot(fpr, tpr, label='ROC curve (area = %0.2f)' % roc_auc_score(y_test, y_prob))\n",
    "plt.plot([0, 1], [0, 1], 'k--')\n",
    "plt.xlim([0.0, 1.0])\n",
    "plt.ylim([0.0, 1.05])\n",
    "plt.xlabel('False Positive Rate')\n",
    "plt.ylabel('True Positive Rate')\n",
    "plt.title('Receiver Operating Characteristic (ROC) Curve')\n",
    "plt.legend(loc=\"lower right\")\n",
    "plt.show()"
   ]
  },
  {
   "cell_type": "code",
   "execution_count": 30,
   "id": "e9b039a9",
   "metadata": {
    "execution": {
     "iopub.execute_input": "2024-05-20T01:24:04.626128Z",
     "iopub.status.busy": "2024-05-20T01:24:04.625681Z",
     "iopub.status.idle": "2024-05-20T01:24:05.043897Z",
     "shell.execute_reply": "2024-05-20T01:24:05.042641Z"
    },
    "papermill": {
     "duration": 0.447534,
     "end_time": "2024-05-20T01:24:05.046801",
     "exception": false,
     "start_time": "2024-05-20T01:24:04.599267",
     "status": "completed"
    },
    "tags": []
   },
   "outputs": [
    {
     "data": {
      "image/png": "[encoded data removed]",
      "text/plain": [
       "<Figure size 800x600 with 1 Axes>"
      ]
     },
     "metadata": {},
     "output_type": "display_data"
    }
   ],
   "source": [
    "# Precision-Recall Curve\n",
    "precision, recall, _ = precision_recall_curve(y_test, y_prob)\n",
    "plt.figure(figsize=(8, 6))\n",
    "plt.plot(recall, precision, label='Precision-Recall curve (area = %0.2f)' % average_precision_score(y_test, y_prob))\n",
    "plt.xlabel('Recall')\n",
    "plt.ylabel('Precision')\n",
    "plt.title('Precision-Recall Curve')\n",
    "plt.legend(loc=\"lower right\")\n",
    "plt.show()"
   ]
  },
  {
   "cell_type": "markdown",
   "id": "29f6bc78",
   "metadata": {
    "papermill": {
     "duration": 0.025476,
     "end_time": "2024-05-20T01:24:05.098123",
     "exception": false,
     "start_time": "2024-05-20T01:24:05.072647",
     "status": "completed"
    },
    "tags": []
   },
   "source": [
    "# Step 6: Optimize Grid Search Parameters"
   ]
  },
  {
   "cell_type": "code",
   "execution_count": 31,
   "id": "e456f255",
   "metadata": {
    "execution": {
     "iopub.execute_input": "2024-05-20T01:24:05.152616Z",
     "iopub.status.busy": "2024-05-20T01:24:05.152185Z",
     "iopub.status.idle": "2024-05-20T01:24:05.158992Z",
     "shell.execute_reply": "2024-05-20T01:24:05.157471Z"
    },
    "papermill": {
     "duration": 0.038003,
     "end_time": "2024-05-20T01:24:05.161857",
     "exception": false,
     "start_time": "2024-05-20T01:24:05.123854",
     "status": "completed"
    },
    "tags": []
   },
   "outputs": [],
   "source": [
    "# Define hyperparameters grid for GridSearchCV with more parameters\n",
    "param_grid = {\n",
    "    'classifier__n_estimators': [100, 200, 300],\n",
    "    'classifier__learning_rate': [0.1, 0.5, 1],\n",
    "    'classifier__max_depth': [3, 5, 7],\n",
    "    'classifier__min_samples_split': [2, 5, 10]\n",
    "}"
   ]
  },
  {
   "cell_type": "code",
   "execution_count": 32,
   "id": "e173532d",
   "metadata": {
    "execution": {
     "iopub.execute_input": "2024-05-20T01:24:05.213493Z",
     "iopub.status.busy": "2024-05-20T01:24:05.213091Z",
     "iopub.status.idle": "2024-05-20T01:24:05.219352Z",
     "shell.execute_reply": "2024-05-20T01:24:05.218007Z"
    },
    "papermill": {
     "duration": 0.035476,
     "end_time": "2024-05-20T01:24:05.222267",
     "exception": false,
     "start_time": "2024-05-20T01:24:05.186791",
     "status": "completed"
    },
    "tags": []
   },
   "outputs": [],
   "source": [
    "# Define hyperparameters grid for GridSearchCV\n",
    "if name == 'Logistic Regression':\n",
    "    param_grid = {\n",
    "        'classifier__C': [0.1, 1, 10],\n",
    "        'classifier__penalty': ['l1', 'l2']\n",
    "    }\n",
    "else:\n",
    "    param_grid = {}"
   ]
  },
  {
   "cell_type": "code",
   "execution_count": 33,
   "id": "f0d61d9c",
   "metadata": {
    "execution": {
     "iopub.execute_input": "2024-05-20T01:24:05.276755Z",
     "iopub.status.busy": "2024-05-20T01:24:05.276344Z",
     "iopub.status.idle": "2024-05-20T01:24:05.282238Z",
     "shell.execute_reply": "2024-05-20T01:24:05.280906Z"
    },
    "papermill": {
     "duration": 0.036051,
     "end_time": "2024-05-20T01:24:05.284746",
     "exception": false,
     "start_time": "2024-05-20T01:24:05.248695",
     "status": "completed"
    },
    "tags": []
   },
   "outputs": [],
   "source": [
    "# Suppress specific warnings\n",
    "warnings.filterwarnings(\"ignore\", category=DeprecationWarning)"
   ]
  },
  {
   "cell_type": "code",
   "execution_count": 34,
   "id": "12fcb501",
   "metadata": {
    "execution": {
     "iopub.execute_input": "2024-05-20T01:24:05.337833Z",
     "iopub.status.busy": "2024-05-20T01:24:05.336795Z",
     "iopub.status.idle": "2024-05-20T01:24:05.343531Z",
     "shell.execute_reply": "2024-05-20T01:24:05.342285Z"
    },
    "papermill": {
     "duration": 0.036345,
     "end_time": "2024-05-20T01:24:05.346425",
     "exception": false,
     "start_time": "2024-05-20T01:24:05.310080",
     "status": "completed"
    },
    "tags": []
   },
   "outputs": [
    {
     "name": "stdout",
     "output_type": "stream",
     "text": [
      "Best Parameters: {}\n",
      "Best Accuracy: 0.7278368794326242\n"
     ]
    }
   ],
   "source": [
    "# Print the best parameters and its accuracy\n",
    "print(\"Best Parameters:\", grid_search.best_params_)\n",
    "print(\"Best Accuracy:\", grid_search.best_score_)"
   ]
  },
  {
   "cell_type": "code",
   "execution_count": 35,
   "id": "b2f75743",
   "metadata": {
    "execution": {
     "iopub.execute_input": "2024-05-20T01:24:05.400326Z",
     "iopub.status.busy": "2024-05-20T01:24:05.399911Z",
     "iopub.status.idle": "2024-05-20T01:24:05.407266Z",
     "shell.execute_reply": "2024-05-20T01:24:05.405934Z"
    },
    "papermill": {
     "duration": 0.037114,
     "end_time": "2024-05-20T01:24:05.410048",
     "exception": false,
     "start_time": "2024-05-20T01:24:05.372934",
     "status": "completed"
    },
    "tags": []
   },
   "outputs": [],
   "source": [
    "# Define separate parameter grids for different solvers\n",
    "param_grid = [\n",
    "    {'solver': ['liblinear'], 'penalty': ['l1', 'l2'], 'C': [0.1, 1, 10, 100], 'max_iter': [100, 200, 300]},\n",
    "    {'solver': ['lbfgs'], 'penalty': ['l2'], 'C': [0.1, 1, 10, 100], 'max_iter': [100, 200, 300]}\n",
    "]"
   ]
  },
  {
   "cell_type": "code",
   "execution_count": 36,
   "id": "56832d3d",
   "metadata": {
    "execution": {
     "iopub.execute_input": "2024-05-20T01:24:05.463118Z",
     "iopub.status.busy": "2024-05-20T01:24:05.462649Z",
     "iopub.status.idle": "2024-05-20T01:24:06.199337Z",
     "shell.execute_reply": "2024-05-20T01:24:06.197905Z"
    },
    "papermill": {
     "duration": 0.766595,
     "end_time": "2024-05-20T01:24:06.202430",
     "exception": false,
     "start_time": "2024-05-20T01:24:05.435835",
     "status": "completed"
    },
    "tags": []
   },
   "outputs": [
    {
     "data": {
      "text/html": [
       "<style>#sk-container-id-2 {color: black;background-color: white;}#sk-container-id-2 pre{padding: 0;}#sk-container-id-2 div.sk-toggleable {background-color: white;}#sk-container-id-2 label.sk-toggleable__label {cursor: pointer;display: block;width: 100%;margin-bottom: 0;padding: 0.3em;box-sizing: border-box;text-align: center;}#sk-container-id-2 label.sk-toggleable__label-arrow:before {content: \"▸\";float: left;margin-right: 0.25em;color: #696969;}#sk-container-id-2 label.sk-toggleable__label-arrow:hover:before {color: black;}#sk-container-id-2 div.sk-estimator:hover label.sk-toggleable__label-arrow:before {color: black;}#sk-container-id-2 div.sk-toggleable__content {max-height: 0;max-width: 0;overflow: hidden;text-align: left;background-color: #f0f8ff;}#sk-container-id-2 div.sk-toggleable__content pre {margin: 0.2em;color: black;border-radius: 0.25em;background-color: #f0f8ff;}#sk-container-id-2 input.sk-toggleable__control:checked~div.sk-toggleable__content {max-height: 200px;max-width: 100%;overflow: auto;}#sk-container-id-2 input.sk-toggleable__control:checked~label.sk-toggleable__label-arrow:before {content: \"▾\";}#sk-container-id-2 div.sk-estimator input.sk-toggleable__control:checked~label.sk-toggleable__label {background-color: #d4ebff;}#sk-container-id-2 div.sk-label input.sk-toggleable__control:checked~label.sk-toggleable__label {background-color: #d4ebff;}#sk-container-id-2 input.sk-hidden--visually {border: 0;clip: rect(1px 1px 1px 1px);clip: rect(1px, 1px, 1px, 1px);height: 1px;margin: -1px;overflow: hidden;padding: 0;position: absolute;width: 1px;}#sk-container-id-2 div.sk-estimator {font-family: monospace;background-color: #f0f8ff;border: 1px dotted black;border-radius: 0.25em;box-sizing: border-box;margin-bottom: 0.5em;}#sk-container-id-2 div.sk-estimator:hover {background-color: #d4ebff;}#sk-container-id-2 div.sk-parallel-item::after {content: \"\";width: 100%;border-bottom: 1px solid gray;flex-grow: 1;}#sk-container-id-2 div.sk-label:hover label.sk-toggleable__label {background-color: #d4ebff;}#sk-container-id-2 div.sk-serial::before {content: \"\";position: absolute;border-left: 1px solid gray;box-sizing: border-box;top: 0;bottom: 0;left: 50%;z-index: 0;}#sk-container-id-2 div.sk-serial {display: flex;flex-direction: column;align-items: center;background-color: white;padding-right: 0.2em;padding-left: 0.2em;position: relative;}#sk-container-id-2 div.sk-item {position: relative;z-index: 1;}#sk-container-id-2 div.sk-parallel {display: flex;align-items: stretch;justify-content: center;background-color: white;position: relative;}#sk-container-id-2 div.sk-item::before, #sk-container-id-2 div.sk-parallel-item::before {content: \"\";position: absolute;border-left: 1px solid gray;box-sizing: border-box;top: 0;bottom: 0;left: 50%;z-index: -1;}#sk-container-id-2 div.sk-parallel-item {display: flex;flex-direction: column;z-index: 1;position: relative;background-color: white;}#sk-container-id-2 div.sk-parallel-item:first-child::after {align-self: flex-end;width: 50%;}#sk-container-id-2 div.sk-parallel-item:last-child::after {align-self: flex-start;width: 50%;}#sk-container-id-2 div.sk-parallel-item:only-child::after {width: 0;}#sk-container-id-2 div.sk-dashed-wrapped {border: 1px dashed gray;margin: 0 0.4em 0.5em 0.4em;box-sizing: border-box;padding-bottom: 0.4em;background-color: white;}#sk-container-id-2 div.sk-label label {font-family: monospace;font-weight: bold;display: inline-block;line-height: 1.2em;}#sk-container-id-2 div.sk-label-container {text-align: center;}#sk-container-id-2 div.sk-container {/* jupyter's `normalize.less` sets `[hidden] { display: none; }` but bootstrap.min.css set `[hidden] { display: none !important; }` so we also need the `!important` here to be able to override the default hidden behavior on the sphinx rendered scikit-learn.org. See: https://github.com/scikit-learn/scikit-learn/issues/21755 */display: inline-block !important;position: relative;}#sk-container-id-2 div.sk-text-repr-fallback {display: none;}</style><div id=\"sk-container-id-2\" class=\"sk-top-container\"><div class=\"sk-text-repr-fallback\"><pre>GridSearchCV(cv=5, estimator=LogisticRegression(),\n",
       "             param_grid=[{&#x27;C&#x27;: [0.1, 1, 10, 100], &#x27;max_iter&#x27;: [100, 200, 300],\n",
       "                          &#x27;penalty&#x27;: [&#x27;l1&#x27;, &#x27;l2&#x27;], &#x27;solver&#x27;: [&#x27;liblinear&#x27;]},\n",
       "                         {&#x27;C&#x27;: [0.1, 1, 10, 100], &#x27;max_iter&#x27;: [100, 200, 300],\n",
       "                          &#x27;penalty&#x27;: [&#x27;l2&#x27;], &#x27;solver&#x27;: [&#x27;lbfgs&#x27;]}],\n",
       "             scoring=&#x27;accuracy&#x27;)</pre><b>In a Jupyter environment, please rerun this cell to show the HTML representation or trust the notebook. <br />On GitHub, the HTML representation is unable to render, please try loading this page with nbviewer.org.</b></div><div class=\"sk-container\" hidden><div class=\"sk-item sk-dashed-wrapped\"><div class=\"sk-label-container\"><div class=\"sk-label sk-toggleable\"><input class=\"sk-toggleable__control sk-hidden--visually\" id=\"sk-estimator-id-4\" type=\"checkbox\" ><label for=\"sk-estimator-id-4\" class=\"sk-toggleable__label sk-toggleable__label-arrow\">GridSearchCV</label><div class=\"sk-toggleable__content\"><pre>GridSearchCV(cv=5, estimator=LogisticRegression(),\n",
       "             param_grid=[{&#x27;C&#x27;: [0.1, 1, 10, 100], &#x27;max_iter&#x27;: [100, 200, 300],\n",
       "                          &#x27;penalty&#x27;: [&#x27;l1&#x27;, &#x27;l2&#x27;], &#x27;solver&#x27;: [&#x27;liblinear&#x27;]},\n",
       "                         {&#x27;C&#x27;: [0.1, 1, 10, 100], &#x27;max_iter&#x27;: [100, 200, 300],\n",
       "                          &#x27;penalty&#x27;: [&#x27;l2&#x27;], &#x27;solver&#x27;: [&#x27;lbfgs&#x27;]}],\n",
       "             scoring=&#x27;accuracy&#x27;)</pre></div></div></div><div class=\"sk-parallel\"><div class=\"sk-parallel-item\"><div class=\"sk-item\"><div class=\"sk-label-container\"><div class=\"sk-label sk-toggleable\"><input class=\"sk-toggleable__control sk-hidden--visually\" id=\"sk-estimator-id-5\" type=\"checkbox\" ><label for=\"sk-estimator-id-5\" class=\"sk-toggleable__label sk-toggleable__label-arrow\">estimator: LogisticRegression</label><div class=\"sk-toggleable__content\"><pre>LogisticRegression()</pre></div></div></div><div class=\"sk-serial\"><div class=\"sk-item\"><div class=\"sk-estimator sk-toggleable\"><input class=\"sk-toggleable__control sk-hidden--visually\" id=\"sk-estimator-id-6\" type=\"checkbox\" ><label for=\"sk-estimator-id-6\" class=\"sk-toggleable__label sk-toggleable__label-arrow\">LogisticRegression</label><div class=\"sk-toggleable__content\"><pre>LogisticRegression()</pre></div></div></div></div></div></div></div></div></div></div>"
      ],
      "text/plain": [
       "GridSearchCV(cv=5, estimator=LogisticRegression(),\n",
       "             param_grid=[{'C': [0.1, 1, 10, 100], 'max_iter': [100, 200, 300],\n",
       "                          'penalty': ['l1', 'l2'], 'solver': ['liblinear']},\n",
       "                         {'C': [0.1, 1, 10, 100], 'max_iter': [100, 200, 300],\n",
       "                          'penalty': ['l2'], 'solver': ['lbfgs']}],\n",
       "             scoring='accuracy')"
      ]
     },
     "execution_count": 36,
     "metadata": {},
     "output_type": "execute_result"
    }
   ],
   "source": [
    "# Perform grid search with cross-validation\n",
    "grid_search = GridSearchCV(LogisticRegression(), param_grid, cv=5, scoring='accuracy')\n",
    "grid_search.fit(X_train_rfe, y_train)"
   ]
  },
  {
   "cell_type": "code",
   "execution_count": 37,
   "id": "62237933",
   "metadata": {
    "execution": {
     "iopub.execute_input": "2024-05-20T01:24:06.255503Z",
     "iopub.status.busy": "2024-05-20T01:24:06.255100Z",
     "iopub.status.idle": "2024-05-20T01:24:06.262070Z",
     "shell.execute_reply": "2024-05-20T01:24:06.260611Z"
    },
    "papermill": {
     "duration": 0.037075,
     "end_time": "2024-05-20T01:24:06.265012",
     "exception": false,
     "start_time": "2024-05-20T01:24:06.227937",
     "status": "completed"
    },
    "tags": []
   },
   "outputs": [
    {
     "name": "stdout",
     "output_type": "stream",
     "text": [
      "Best parameters: {'C': 1, 'max_iter': 100, 'penalty': 'l1', 'solver': 'liblinear'}\n",
      "Best cross-validation accuracy: 0.7696808510638298\n"
     ]
    }
   ],
   "source": [
    "# Output the best parameters and the best score\n",
    "print(f\"Best parameters: {grid_search.best_params_}\")\n",
    "print(f\"Best cross-validation accuracy: {grid_search.best_score_}\")"
   ]
  },
  {
   "cell_type": "code",
   "execution_count": 38,
   "id": "de87cb0e",
   "metadata": {
    "execution": {
     "iopub.execute_input": "2024-05-20T01:24:06.318719Z",
     "iopub.status.busy": "2024-05-20T01:24:06.318304Z",
     "iopub.status.idle": "2024-05-20T01:24:06.324652Z",
     "shell.execute_reply": "2024-05-20T01:24:06.323264Z"
    },
    "papermill": {
     "duration": 0.03696,
     "end_time": "2024-05-20T01:24:06.327725",
     "exception": false,
     "start_time": "2024-05-20T01:24:06.290765",
     "status": "completed"
    },
    "tags": []
   },
   "outputs": [
    {
     "name": "stdout",
     "output_type": "stream",
     "text": [
      "Best parameters found:  {'C': 1, 'max_iter': 100, 'penalty': 'l1', 'solver': 'liblinear'}\n"
     ]
    }
   ],
   "source": [
    "# Best parameters\n",
    "print(\"Best parameters found: \", grid_search.best_params_)"
   ]
  },
  {
   "cell_type": "code",
   "execution_count": 39,
   "id": "991f43e5",
   "metadata": {
    "execution": {
     "iopub.execute_input": "2024-05-20T01:24:06.382900Z",
     "iopub.status.busy": "2024-05-20T01:24:06.382450Z",
     "iopub.status.idle": "2024-05-20T01:24:06.395560Z",
     "shell.execute_reply": "2024-05-20T01:24:06.394369Z"
    },
    "papermill": {
     "duration": 0.044409,
     "end_time": "2024-05-20T01:24:06.398332",
     "exception": false,
     "start_time": "2024-05-20T01:24:06.353923",
     "status": "completed"
    },
    "tags": []
   },
   "outputs": [
    {
     "data": {
      "text/html": [
       "<style>#sk-container-id-3 {color: black;background-color: white;}#sk-container-id-3 pre{padding: 0;}#sk-container-id-3 div.sk-toggleable {background-color: white;}#sk-container-id-3 label.sk-toggleable__label {cursor: pointer;display: block;width: 100%;margin-bottom: 0;padding: 0.3em;box-sizing: border-box;text-align: center;}#sk-container-id-3 label.sk-toggleable__label-arrow:before {content: \"▸\";float: left;margin-right: 0.25em;color: #696969;}#sk-container-id-3 label.sk-toggleable__label-arrow:hover:before {color: black;}#sk-container-id-3 div.sk-estimator:hover label.sk-toggleable__label-arrow:before {color: black;}#sk-container-id-3 div.sk-toggleable__content {max-height: 0;max-width: 0;overflow: hidden;text-align: left;background-color: #f0f8ff;}#sk-container-id-3 div.sk-toggleable__content pre {margin: 0.2em;color: black;border-radius: 0.25em;background-color: #f0f8ff;}#sk-container-id-3 input.sk-toggleable__control:checked~div.sk-toggleable__content {max-height: 200px;max-width: 100%;overflow: auto;}#sk-container-id-3 input.sk-toggleable__control:checked~label.sk-toggleable__label-arrow:before {content: \"▾\";}#sk-container-id-3 div.sk-estimator input.sk-toggleable__control:checked~label.sk-toggleable__label {background-color: #d4ebff;}#sk-container-id-3 div.sk-label input.sk-toggleable__control:checked~label.sk-toggleable__label {background-color: #d4ebff;}#sk-container-id-3 input.sk-hidden--visually {border: 0;clip: rect(1px 1px 1px 1px);clip: rect(1px, 1px, 1px, 1px);height: 1px;margin: -1px;overflow: hidden;padding: 0;position: absolute;width: 1px;}#sk-container-id-3 div.sk-estimator {font-family: monospace;background-color: #f0f8ff;border: 1px dotted black;border-radius: 0.25em;box-sizing: border-box;margin-bottom: 0.5em;}#sk-container-id-3 div.sk-estimator:hover {background-color: #d4ebff;}#sk-container-id-3 div.sk-parallel-item::after {content: \"\";width: 100%;border-bottom: 1px solid gray;flex-grow: 1;}#sk-container-id-3 div.sk-label:hover label.sk-toggleable__label {background-color: #d4ebff;}#sk-container-id-3 div.sk-serial::before {content: \"\";position: absolute;border-left: 1px solid gray;box-sizing: border-box;top: 0;bottom: 0;left: 50%;z-index: 0;}#sk-container-id-3 div.sk-serial {display: flex;flex-direction: column;align-items: center;background-color: white;padding-right: 0.2em;padding-left: 0.2em;position: relative;}#sk-container-id-3 div.sk-item {position: relative;z-index: 1;}#sk-container-id-3 div.sk-parallel {display: flex;align-items: stretch;justify-content: center;background-color: white;position: relative;}#sk-container-id-3 div.sk-item::before, #sk-container-id-3 div.sk-parallel-item::before {content: \"\";position: absolute;border-left: 1px solid gray;box-sizing: border-box;top: 0;bottom: 0;left: 50%;z-index: -1;}#sk-container-id-3 div.sk-parallel-item {display: flex;flex-direction: column;z-index: 1;position: relative;background-color: white;}#sk-container-id-3 div.sk-parallel-item:first-child::after {align-self: flex-end;width: 50%;}#sk-container-id-3 div.sk-parallel-item:last-child::after {align-self: flex-start;width: 50%;}#sk-container-id-3 div.sk-parallel-item:only-child::after {width: 0;}#sk-container-id-3 div.sk-dashed-wrapped {border: 1px dashed gray;margin: 0 0.4em 0.5em 0.4em;box-sizing: border-box;padding-bottom: 0.4em;background-color: white;}#sk-container-id-3 div.sk-label label {font-family: monospace;font-weight: bold;display: inline-block;line-height: 1.2em;}#sk-container-id-3 div.sk-label-container {text-align: center;}#sk-container-id-3 div.sk-container {/* jupyter's `normalize.less` sets `[hidden] { display: none; }` but bootstrap.min.css set `[hidden] { display: none !important; }` so we also need the `!important` here to be able to override the default hidden behavior on the sphinx rendered scikit-learn.org. See: https://github.com/scikit-learn/scikit-learn/issues/21755 */display: inline-block !important;position: relative;}#sk-container-id-3 div.sk-text-repr-fallback {display: none;}</style><div id=\"sk-container-id-3\" class=\"sk-top-container\"><div class=\"sk-text-repr-fallback\"><pre>LogisticRegression(C=1, penalty=&#x27;l1&#x27;, solver=&#x27;liblinear&#x27;)</pre><b>In a Jupyter environment, please rerun this cell to show the HTML representation or trust the notebook. <br />On GitHub, the HTML representation is unable to render, please try loading this page with nbviewer.org.</b></div><div class=\"sk-container\" hidden><div class=\"sk-item\"><div class=\"sk-estimator sk-toggleable\"><input class=\"sk-toggleable__control sk-hidden--visually\" id=\"sk-estimator-id-7\" type=\"checkbox\" checked><label for=\"sk-estimator-id-7\" class=\"sk-toggleable__label sk-toggleable__label-arrow\">LogisticRegression</label><div class=\"sk-toggleable__content\"><pre>LogisticRegression(C=1, penalty=&#x27;l1&#x27;, solver=&#x27;liblinear&#x27;)</pre></div></div></div></div></div>"
      ],
      "text/plain": [
       "LogisticRegression(C=1, penalty='l1', solver='liblinear')"
      ]
     },
     "execution_count": 39,
     "metadata": {},
     "output_type": "execute_result"
    }
   ],
   "source": [
    "# Train the Logistic Regression model with the best parameters\n",
    "best_log_reg = grid_search.best_estimator_\n",
    "best_log_reg.fit(X_train_rfe, y_train)"
   ]
  },
  {
   "cell_type": "code",
   "execution_count": 40,
   "id": "f209080f",
   "metadata": {
    "execution": {
     "iopub.execute_input": "2024-05-20T01:24:06.452999Z",
     "iopub.status.busy": "2024-05-20T01:24:06.452521Z",
     "iopub.status.idle": "2024-05-20T01:24:06.458697Z",
     "shell.execute_reply": "2024-05-20T01:24:06.457399Z"
    },
    "papermill": {
     "duration": 0.03653,
     "end_time": "2024-05-20T01:24:06.461426",
     "exception": false,
     "start_time": "2024-05-20T01:24:06.424896",
     "status": "completed"
    },
    "tags": []
   },
   "outputs": [],
   "source": [
    "# Predict on the test data\n",
    "y_pred = best_log_reg.predict(X_test_rfe)"
   ]
  },
  {
   "cell_type": "code",
   "execution_count": 41,
   "id": "d9d4c68d",
   "metadata": {
    "execution": {
     "iopub.execute_input": "2024-05-20T01:24:06.516031Z",
     "iopub.status.busy": "2024-05-20T01:24:06.515567Z",
     "iopub.status.idle": "2024-05-20T01:24:06.535332Z",
     "shell.execute_reply": "2024-05-20T01:24:06.534006Z"
    },
    "papermill": {
     "duration": 0.050406,
     "end_time": "2024-05-20T01:24:06.538391",
     "exception": false,
     "start_time": "2024-05-20T01:24:06.487985",
     "status": "completed"
    },
    "tags": []
   },
   "outputs": [],
   "source": [
    "# Evaluate the model\n",
    "accuracy = accuracy_score(y_test, y_pred)\n",
    "precision = precision_score(y_test, y_pred)\n",
    "recall = recall_score(y_test, y_pred)\n",
    "f1 = f1_score(y_test, y_pred)\n",
    "roc_auc = roc_auc_score(y_test, y_pred)"
   ]
  },
  {
   "cell_type": "code",
   "execution_count": 42,
   "id": "d2cbe9cc",
   "metadata": {
    "execution": {
     "iopub.execute_input": "2024-05-20T01:24:06.592068Z",
     "iopub.status.busy": "2024-05-20T01:24:06.591619Z",
     "iopub.status.idle": "2024-05-20T01:24:06.598422Z",
     "shell.execute_reply": "2024-05-20T01:24:06.597168Z"
    },
    "papermill": {
     "duration": 0.037845,
     "end_time": "2024-05-20T01:24:06.602125",
     "exception": false,
     "start_time": "2024-05-20T01:24:06.564280",
     "status": "completed"
    },
    "tags": []
   },
   "outputs": [
    {
     "name": "stdout",
     "output_type": "stream",
     "text": [
      "Accuracy: 0.65\n",
      "Precision: 0.75\n",
      "Recall: 0.24\n",
      "F1 Score: 0.36\n",
      "ROC AUC Score: 0.59\n"
     ]
    }
   ],
   "source": [
    "print(f\"Accuracy: {accuracy:.2f}\")\n",
    "print(f\"Precision: {precision:.2f}\")\n",
    "print(f\"Recall: {recall:.2f}\")\n",
    "print(f\"F1 Score: {f1:.2f}\")\n",
    "print(f\"ROC AUC Score: {roc_auc:.2f}\")"
   ]
  },
  {
   "cell_type": "code",
   "execution_count": 43,
   "id": "7badacdc",
   "metadata": {
    "execution": {
     "iopub.execute_input": "2024-05-20T01:24:06.656564Z",
     "iopub.status.busy": "2024-05-20T01:24:06.656152Z",
     "iopub.status.idle": "2024-05-20T01:24:06.683404Z",
     "shell.execute_reply": "2024-05-20T01:24:06.681945Z"
    },
    "papermill": {
     "duration": 0.057846,
     "end_time": "2024-05-20T01:24:06.686306",
     "exception": false,
     "start_time": "2024-05-20T01:24:06.628460",
     "status": "completed"
    },
    "tags": []
   },
   "outputs": [
    {
     "name": "stdout",
     "output_type": "stream",
     "text": [
      "Cross-validation accuracy: 0.77 ± 0.04\n"
     ]
    }
   ],
   "source": [
    "# Cross-validation score\n",
    "cv_scores = cross_val_score(best_log_reg, X_train_rfe, y_train, cv=5, scoring='accuracy')\n",
    "print(f\"Cross-validation accuracy: {cv_scores.mean():.2f} ± {cv_scores.std():.2f}\")"
   ]
  }
 ],
 "metadata": {
  "kaggle": {
   "accelerator": "none",
   "dataSources": [
    {
     "datasetId": 4877405,
     "sourceId": 8225875,
     "sourceType": "datasetVersion"
    }
   ],
   "dockerImageVersionId": 30698,
   "isGpuEnabled": false,
   "isInternetEnabled": true,
   "language": "python",
   "sourceType": "notebook"
  },
  "kernelspec": {
   "display_name": "Python 3",
   "language": "python",
   "name": "python3"
  },
  "language_info": {
   "codemirror_mode": {
    "name": "ipython",
    "version": 3
   },
   "file_extension": ".py",
   "mimetype": "text/x-python",
   "name": "python",
   "nbconvert_exporter": "python",
   "pygments_lexer": "ipython3",
   "version": "3.10.13"
  },
  "papermill": {
   "default_parameters": {},
   "duration": 94.312334,
   "end_time": "2024-05-20T01:24:09.386396",
   "environment_variables": {},
   "exception": null,
   "input_path": "__notebook__.ipynb",
   "output_path": "__notebook__.ipynb",
   "parameters": {},
   "start_time": "2024-05-20T01:22:35.074062",
   "version": "2.5.0"
  }
 },
 "nbformat": 4,
 "nbformat_minor": 5
}
